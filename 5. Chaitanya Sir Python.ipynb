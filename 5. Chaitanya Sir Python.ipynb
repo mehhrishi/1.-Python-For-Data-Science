{
 "cells": [
  {
   "cell_type": "markdown",
   "metadata": {},
   "source": [
    "#### 1. Program for Arithmethic Calculator"
   ]
  },
  {
   "cell_type": "code",
   "execution_count": 11,
   "metadata": {},
   "outputs": [
    {
     "name": "stdout",
     "output_type": "stream",
     "text": [
      "--------1---------\n",
      "enter no1: 25\n",
      "enter the operator{*,/,-,+}: +\n",
      "enter no2: 36\n",
      "Addition:  61\n",
      "--------1---------\n",
      "enter no1: 25\n"
     ]
    },
    {
     "ename": "KeyboardInterrupt",
     "evalue": "Interrupted by user",
     "output_type": "error",
     "traceback": [
      "\u001b[1;31m---------------------------------------------------------------------------\u001b[0m",
      "\u001b[1;31mKeyboardInterrupt\u001b[0m                         Traceback (most recent call last)",
      "\u001b[1;32m<ipython-input-11-3fc7dc6121a9>\u001b[0m in \u001b[0;36m<module>\u001b[1;34m\u001b[0m\n\u001b[0;32m      5\u001b[0m         \u001b[0mcnt\u001b[0m\u001b[1;33m=\u001b[0m\u001b[1;36m1\u001b[0m\u001b[1;33m\u001b[0m\u001b[1;33m\u001b[0m\u001b[0m\n\u001b[0;32m      6\u001b[0m         \u001b[0mn1\u001b[0m\u001b[1;33m=\u001b[0m\u001b[0meval\u001b[0m\u001b[1;33m(\u001b[0m\u001b[0minput\u001b[0m\u001b[1;33m(\u001b[0m\u001b[1;34mf\"enter no{cnt}: \"\u001b[0m\u001b[1;33m)\u001b[0m\u001b[1;33m)\u001b[0m\u001b[1;33m\u001b[0m\u001b[1;33m\u001b[0m\u001b[0m\n\u001b[1;32m----> 7\u001b[1;33m         \u001b[0mchoice\u001b[0m\u001b[1;33m=\u001b[0m\u001b[0minput\u001b[0m\u001b[1;33m(\u001b[0m\u001b[1;34m\"enter the operator{*,/,-,+}: \"\u001b[0m\u001b[1;33m)\u001b[0m\u001b[1;33m\u001b[0m\u001b[1;33m\u001b[0m\u001b[0m\n\u001b[0m\u001b[0;32m      8\u001b[0m         \u001b[0mcnt\u001b[0m\u001b[1;33m+=\u001b[0m\u001b[1;36m1\u001b[0m\u001b[1;33m\u001b[0m\u001b[1;33m\u001b[0m\u001b[0m\n\u001b[0;32m      9\u001b[0m         \u001b[0mn2\u001b[0m\u001b[1;33m=\u001b[0m\u001b[0meval\u001b[0m\u001b[1;33m(\u001b[0m\u001b[0minput\u001b[0m\u001b[1;33m(\u001b[0m\u001b[1;34mf\"enter no{cnt}: \"\u001b[0m\u001b[1;33m)\u001b[0m\u001b[1;33m)\u001b[0m\u001b[1;33m\u001b[0m\u001b[1;33m\u001b[0m\u001b[0m\n",
      "\u001b[1;32m~\\anaconda3\\lib\\site-packages\\ipykernel\\kernelbase.py\u001b[0m in \u001b[0;36mraw_input\u001b[1;34m(self, prompt)\u001b[0m\n\u001b[0;32m    858\u001b[0m                 \u001b[1;34m\"raw_input was called, but this frontend does not support input requests.\"\u001b[0m\u001b[1;33m\u001b[0m\u001b[1;33m\u001b[0m\u001b[0m\n\u001b[0;32m    859\u001b[0m             )\n\u001b[1;32m--> 860\u001b[1;33m         return self._input_request(str(prompt),\n\u001b[0m\u001b[0;32m    861\u001b[0m             \u001b[0mself\u001b[0m\u001b[1;33m.\u001b[0m\u001b[0m_parent_ident\u001b[0m\u001b[1;33m,\u001b[0m\u001b[1;33m\u001b[0m\u001b[1;33m\u001b[0m\u001b[0m\n\u001b[0;32m    862\u001b[0m             \u001b[0mself\u001b[0m\u001b[1;33m.\u001b[0m\u001b[0m_parent_header\u001b[0m\u001b[1;33m,\u001b[0m\u001b[1;33m\u001b[0m\u001b[1;33m\u001b[0m\u001b[0m\n",
      "\u001b[1;32m~\\anaconda3\\lib\\site-packages\\ipykernel\\kernelbase.py\u001b[0m in \u001b[0;36m_input_request\u001b[1;34m(self, prompt, ident, parent, password)\u001b[0m\n\u001b[0;32m    902\u001b[0m             \u001b[1;32mexcept\u001b[0m \u001b[0mKeyboardInterrupt\u001b[0m\u001b[1;33m:\u001b[0m\u001b[1;33m\u001b[0m\u001b[1;33m\u001b[0m\u001b[0m\n\u001b[0;32m    903\u001b[0m                 \u001b[1;31m# re-raise KeyboardInterrupt, to truncate traceback\u001b[0m\u001b[1;33m\u001b[0m\u001b[1;33m\u001b[0m\u001b[1;33m\u001b[0m\u001b[0m\n\u001b[1;32m--> 904\u001b[1;33m                 \u001b[1;32mraise\u001b[0m \u001b[0mKeyboardInterrupt\u001b[0m\u001b[1;33m(\u001b[0m\u001b[1;34m\"Interrupted by user\"\u001b[0m\u001b[1;33m)\u001b[0m \u001b[1;32mfrom\u001b[0m \u001b[1;32mNone\u001b[0m\u001b[1;33m\u001b[0m\u001b[1;33m\u001b[0m\u001b[0m\n\u001b[0m\u001b[0;32m    905\u001b[0m             \u001b[1;32mexcept\u001b[0m \u001b[0mException\u001b[0m \u001b[1;32mas\u001b[0m \u001b[0me\u001b[0m\u001b[1;33m:\u001b[0m\u001b[1;33m\u001b[0m\u001b[1;33m\u001b[0m\u001b[0m\n\u001b[0;32m    906\u001b[0m                 \u001b[0mself\u001b[0m\u001b[1;33m.\u001b[0m\u001b[0mlog\u001b[0m\u001b[1;33m.\u001b[0m\u001b[0mwarning\u001b[0m\u001b[1;33m(\u001b[0m\u001b[1;34m\"Invalid Message:\"\u001b[0m\u001b[1;33m,\u001b[0m \u001b[0mexc_info\u001b[0m\u001b[1;33m=\u001b[0m\u001b[1;32mTrue\u001b[0m\u001b[1;33m)\u001b[0m\u001b[1;33m\u001b[0m\u001b[1;33m\u001b[0m\u001b[0m\n",
      "\u001b[1;31mKeyboardInterrupt\u001b[0m: Interrupted by user"
     ]
    }
   ],
   "source": [
    "rep=1\n",
    "for i in range(rep):\n",
    "    while True:\n",
    "        print(f\"--------{rep}---------\")\n",
    "        cnt=1\n",
    "        n1=eval(input(f\"enter no{cnt}: \"))\n",
    "        choice=input(\"enter the operator{*,/,-,+}: \")\n",
    "        cnt+=1\n",
    "        n2=eval(input(f\"enter no{cnt}: \"))\n",
    "        if choice==\"/\":\n",
    "            print(\"division: \",n1/n2)\n",
    "        elif choice==\"*\":\n",
    "            print(\"Multiplication: \",n1*n2)\n",
    "        elif choice==\"+\":\n",
    "            print(\"Addition: \",n1+n2)\n",
    "        elif choice==\"-\":\n",
    "            print(\"Subtract: \",n1-n2)\n",
    "        else:\n",
    "            print(\"invalid Input\")\n",
    "    rep+=1\n",
    "    print(rep)"
   ]
  },
  {
   "cell_type": "markdown",
   "metadata": {},
   "source": [
    "#### 2. WAP to check  the no divisible by 3 and 6:-"
   ]
  },
  {
   "cell_type": "code",
   "execution_count": null,
   "metadata": {},
   "outputs": [],
   "source": [
    "while True:\n",
    "    n=eval(input(\"Enter a no: \"))\n",
    "    if n%3==0:\n",
    "        print(f\"{n} is Divisible By 3\")\n",
    "        if n%6==0:\n",
    "            print(f\"{n} is Divisible By Both 3 and 6\")\n",
    "        else: \n",
    "            print(f\"{n} is not Divisible By 6\")\n",
    "    else:\n",
    "        print(f\"{n} is not Divisible By 3 and 6\")"
   ]
  },
  {
   "cell_type": "markdown",
   "metadata": {},
   "source": [
    "#### 3.program for 5 table or for any number by using while:-"
   ]
  },
  {
   "cell_type": "code",
   "execution_count": 14,
   "metadata": {
    "scrolled": true
   },
   "outputs": [
    {
     "name": "stdout",
     "output_type": "stream",
     "text": [
      "enter table no: 5\n",
      "5 * 1 = 5\t5 * 1 = 5\n",
      "5 * 2 = 10\t5 * 2 = 10\n",
      "5 * 3 = 15\t5 * 3 = 15\n",
      "5 * 4 = 20\t5 * 4 = 20\n",
      "5 * 5 = 25\t5 * 5 = 25\n",
      "5 * 6 = 30\t5 * 6 = 30\n",
      "5 * 7 = 35\t5 * 7 = 35\n",
      "5 * 8 = 40\t5 * 8 = 40\n",
      "5 * 9 = 45\t5 * 9 = 45\n",
      "5 * 10 = 50\t5 * 10 = 50\n"
     ]
    }
   ],
   "source": [
    "n=eval(input(\"enter table no: \"))\n",
    "i=1\n",
    "while i<=10:\n",
    "    print(f\"{n} * {i} = {n*i}\",end=\"\\t\")\n",
    "    print(\"{} * {} = {}\".format(n,i,n*i))\n",
    "    i+=1"
   ]
  },
  {
   "cell_type": "code",
   "execution_count": 22,
   "metadata": {},
   "outputs": [
    {
     "name": "stdout",
     "output_type": "stream",
     "text": [
      "enter table no: 5\n",
      "5 * 1 = 5\t5 * 1 = 5\n",
      "5 * 2 = 10\t5 * 2 = 10\n",
      "5 * 3 = 15\t5 * 3 = 15\n",
      "5 * 4 = 20\t5 * 4 = 20\n",
      "5 * 5 = 25\t5 * 5 = 25\n",
      "5 * 6 = 30\t5 * 6 = 30\n",
      "5 * 7 = 35\t5 * 7 = 35\n",
      "5 * 8 = 40\t5 * 8 = 40\n",
      "5 * 9 = 45\t5 * 9 = 45\n",
      "5 * 10 = 50\t5 * 10 = 50\n",
      "\n",
      "Done\n"
     ]
    }
   ],
   "source": [
    "n=eval(input(\"enter table no: \"))\n",
    "i=1\n",
    "while i<=10:\n",
    "    print(f\"{n} * {i} = {n*i}\",end=\"\\t\")\n",
    "    print(\"{} * {} = {}\".format(n,i,n*i))\n",
    "    i+=1\n",
    "print(\"\\n\"\"Done\",end=\"\\n\")"
   ]
  },
  {
   "cell_type": "markdown",
   "metadata": {},
   "source": [
    "#### Reverse Table: "
   ]
  },
  {
   "cell_type": "code",
   "execution_count": 23,
   "metadata": {},
   "outputs": [
    {
     "name": "stdout",
     "output_type": "stream",
     "text": [
      "enter table no: 5\n",
      "5 * 10 = 50\t5 * 10 = 50\n",
      "5 * 9 = 45\t5 * 9 = 45\n",
      "5 * 8 = 40\t5 * 8 = 40\n",
      "5 * 7 = 35\t5 * 7 = 35\n",
      "5 * 6 = 30\t5 * 6 = 30\n",
      "5 * 5 = 25\t5 * 5 = 25\n",
      "5 * 4 = 20\t5 * 4 = 20\n",
      "5 * 3 = 15\t5 * 3 = 15\n",
      "5 * 2 = 10\t5 * 2 = 10\n",
      "5 * 1 = 5\t5 * 1 = 5\n",
      "\n",
      "Done\n"
     ]
    }
   ],
   "source": [
    "n=eval(input(\"enter table no: \"))\n",
    "i=10\n",
    "while i>=1:\n",
    "    print(f\"{n} * {i} = {n*i}\",end=\"\\t\")\n",
    "    print(\"{} * {} = {}\".format(n,i,n*i))\n",
    "    i-=1\n",
    "print(\"\\n\"\"Done\",end=\"\\n\")"
   ]
  },
  {
   "cell_type": "markdown",
   "metadata": {},
   "source": [
    "#### Tables with For loop \n"
   ]
  },
  {
   "cell_type": "code",
   "execution_count": 25,
   "metadata": {},
   "outputs": [
    {
     "name": "stdout",
     "output_type": "stream",
     "text": [
      "enter table no: 5\n",
      "5 * 1 = 5\t5 * 1 = 5\n",
      "5 * 2 = 10\t5 * 2 = 10\n",
      "5 * 3 = 15\t5 * 3 = 15\n",
      "5 * 4 = 20\t5 * 4 = 20\n",
      "5 * 5 = 25\t5 * 5 = 25\n",
      "5 * 6 = 30\t5 * 6 = 30\n",
      "5 * 7 = 35\t5 * 7 = 35\n",
      "5 * 8 = 40\t5 * 8 = 40\n",
      "5 * 9 = 45\t5 * 9 = 45\n"
     ]
    }
   ],
   "source": [
    "n=eval(input(\"enter table no: \"))\n",
    "for i in range(1,10):\n",
    "    print(f\"{n} * {i} = {n*i}\",end=\"\\t\")\n",
    "    print(\"{} * {} = {}\".format(n,i,n*i))"
   ]
  },
  {
   "cell_type": "code",
   "execution_count": 26,
   "metadata": {},
   "outputs": [
    {
     "name": "stdout",
     "output_type": "stream",
     "text": [
      "enter table no: 5\n",
      "5 * 10 = 50\t5 * 10 = 50\n",
      "5 * 9 = 45\t5 * 9 = 45\n",
      "5 * 8 = 40\t5 * 8 = 40\n",
      "5 * 7 = 35\t5 * 7 = 35\n",
      "5 * 6 = 30\t5 * 6 = 30\n",
      "5 * 5 = 25\t5 * 5 = 25\n",
      "5 * 4 = 20\t5 * 4 = 20\n",
      "5 * 3 = 15\t5 * 3 = 15\n",
      "5 * 2 = 10\t5 * 2 = 10\n",
      "5 * 1 = 5\t5 * 1 = 5\n"
     ]
    }
   ],
   "source": [
    "n=eval(input(\"enter table no: \"))\n",
    "for i in range(10,0,-1):\n",
    "    print(f\"{n} * {i} = {n*i}\",end=\"\\t\")\n",
    "    print(\"{} * {} = {}\".format(n,i,n*i))"
   ]
  },
  {
   "cell_type": "code",
   "execution_count": 27,
   "metadata": {},
   "outputs": [],
   "source": [
    "import random as r"
   ]
  },
  {
   "cell_type": "code",
   "execution_count": 30,
   "metadata": {},
   "outputs": [
    {
     "name": "stdout",
     "output_type": "stream",
     "text": [
      "enter table no: 6\n",
      "6 * 1 = 6\t6 * 1 = 6\n",
      "6 * 2 = 12\t6 * 2 = 12\n",
      "6 * 3 = 18\t6 * 3 = 18\n",
      "6 * 4 = 24\t6 * 4 = 24\n",
      "6 * 5 = 30\t6 * 5 = 30\n",
      "6 * 6 = 36\t6 * 6 = 36\n",
      "6 * 7 = 42\t6 * 7 = 42\n",
      "6 * 8 = 48\t6 * 8 = 48\n",
      "6 * 9 = 54\t6 * 9 = 54\n"
     ]
    }
   ],
   "source": [
    "n=eval(input(\"enter table no: \"))\n",
    "for i in range(1,10):\n",
    "    print(f\"{n} * {i} = {n*i}\",end=\"\\t\")\n",
    "    print(\"{} * {} = {}\".format(n,i,n*i))"
   ]
  },
  {
   "cell_type": "markdown",
   "metadata": {},
   "source": [
    "#### Addition of given number using for loop"
   ]
  },
  {
   "cell_type": "code",
   "execution_count": 36,
   "metadata": {},
   "outputs": [
    {
     "name": "stdout",
     "output_type": "stream",
     "text": [
      "enter no to get the addition: 12\n",
      "78\n"
     ]
    }
   ],
   "source": [
    "n=eval(input(\"enter no to get the addition: \"))\n",
    "i=1\n",
    "sum=0\n",
    "for i in range(1,n+1):\n",
    "    sum+=i\n",
    "print(sum)"
   ]
  },
  {
   "cell_type": "markdown",
   "metadata": {},
   "source": [
    "#### Addition of given number using while loop"
   ]
  },
  {
   "cell_type": "code",
   "execution_count": 34,
   "metadata": {},
   "outputs": [
    {
     "name": "stdout",
     "output_type": "stream",
     "text": [
      "enter no to get the addition: 10\n",
      "55\n"
     ]
    }
   ],
   "source": [
    "n=eval(input(\"enter no to get the addition: \"))\n",
    "i=1\n",
    "sum=0\n",
    "while i<=n:\n",
    "    sum+=i\n",
    "    i+=1\n",
    "print(sum)"
   ]
  },
  {
   "cell_type": "markdown",
   "metadata": {},
   "source": [
    "#### factorial using while loop "
   ]
  },
  {
   "cell_type": "code",
   "execution_count": 40,
   "metadata": {},
   "outputs": [
    {
     "name": "stdout",
     "output_type": "stream",
     "text": [
      "enter no to get the addition: 3\n",
      "6\n"
     ]
    }
   ],
   "source": [
    "n=int(input(\"enter no to get the addition: \"))\n",
    "i=1\n",
    "fac=1\n",
    "while i<=n:\n",
    "    fac*=i\n",
    "    i+=1\n",
    "print(fac)"
   ]
  },
  {
   "cell_type": "markdown",
   "metadata": {},
   "source": [
    "#### factorial using for loop"
   ]
  },
  {
   "cell_type": "code",
   "execution_count": 41,
   "metadata": {},
   "outputs": [
    {
     "name": "stdout",
     "output_type": "stream",
     "text": [
      "enter no to get the addition: 5\n",
      "120\n"
     ]
    }
   ],
   "source": [
    "n=int(input(\"enter no to get the addition: \"))\n",
    "fac=1\n",
    "for i in range(1,n+1):\n",
    "    fac*=i\n",
    "print(fac)"
   ]
  },
  {
   "cell_type": "markdown",
   "metadata": {},
   "source": [
    "#### Factorial and Sum of Factorial using while Loop"
   ]
  },
  {
   "cell_type": "code",
   "execution_count": 42,
   "metadata": {},
   "outputs": [
    {
     "name": "stdout",
     "output_type": "stream",
     "text": [
      "enter no to get the addition: 5\n",
      "120\n",
      "And the sum of factorial:  153\n"
     ]
    }
   ],
   "source": [
    "n=int(input(\"enter no to get the addition: \"))\n",
    "i=1\n",
    "fac=1\n",
    "sum_of_fac=0\n",
    "while i<=n:\n",
    "    fac*=i\n",
    "    sum_of_fac+=fac\n",
    "    i+=1\n",
    "print(fac)\n",
    "print(\"And the sum of factorial: \", sum_of_fac)"
   ]
  },
  {
   "cell_type": "markdown",
   "metadata": {},
   "source": [
    "#### Factorial and Sum of Factorial using for Loop"
   ]
  },
  {
   "cell_type": "code",
   "execution_count": 43,
   "metadata": {},
   "outputs": [
    {
     "name": "stdout",
     "output_type": "stream",
     "text": [
      "enter no: 5\n",
      "120\n",
      "And the sum of factorial:  153\n"
     ]
    }
   ],
   "source": [
    "n=int(input(\"enter no: \"))\n",
    "fac=1\n",
    "sum_of_fac=0\n",
    "for i in range(1,n+1):\n",
    "    fac*=i\n",
    "    sum_of_fac+=fac\n",
    "print(fac)\n",
    "print(\"And the sum of factorial: \", sum_of_fac)"
   ]
  },
  {
   "cell_type": "markdown",
   "metadata": {},
   "source": [
    "#### The Square of nth number using while Loop"
   ]
  },
  {
   "cell_type": "code",
   "execution_count": 1,
   "metadata": {},
   "outputs": [
    {
     "name": "stdout",
     "output_type": "stream",
     "text": [
      "enter no:5\n",
      "The square of 1 is 1\n",
      "The square of 2 is 4\n",
      "The square of 3 is 9\n",
      "The square of 4 is 16\n",
      "The square of 5 is 25\n"
     ]
    }
   ],
   "source": [
    "n=eval(input(\"enter no:\"))\n",
    "i=1\n",
    "while i<=n:\n",
    "    print(f\"The square of {i} is {i*i}\")\n",
    "    i+=1"
   ]
  },
  {
   "cell_type": "markdown",
   "metadata": {},
   "source": [
    "#### The Square of nth number using for Loop"
   ]
  },
  {
   "cell_type": "code",
   "execution_count": 2,
   "metadata": {},
   "outputs": [
    {
     "name": "stdout",
     "output_type": "stream",
     "text": [
      "enter no: 5\n",
      "The square of 1 is 1\n",
      "The square of 2 is 4\n",
      "The square of 3 is 9\n",
      "The square of 4 is 16\n",
      "The square of 5 is 25\n"
     ]
    }
   ],
   "source": [
    "n=eval(input(\"enter no: \"))\n",
    "for i in range(1,n+1):\n",
    "    print(f\"The square of {i} is {i*i}\")   "
   ]
  },
  {
   "cell_type": "markdown",
   "metadata": {},
   "source": [
    "#### Square of first 10 nos:   Using While Loop "
   ]
  },
  {
   "cell_type": "code",
   "execution_count": 3,
   "metadata": {},
   "outputs": [
    {
     "name": "stdout",
     "output_type": "stream",
     "text": [
      "The square of 1 is 1\n",
      "The square of 2 is 4\n",
      "The square of 3 is 9\n",
      "The square of 4 is 16\n",
      "The square of 5 is 25\n",
      "The square of 6 is 36\n",
      "The square of 7 is 49\n",
      "The square of 8 is 64\n",
      "The square of 9 is 81\n",
      "The square of 10 is 100\n"
     ]
    }
   ],
   "source": [
    "i=1\n",
    "while i<=10:\n",
    "    print(f\"The square of {i} is {i*i}\")  \n",
    "    i+=1"
   ]
  },
  {
   "cell_type": "markdown",
   "metadata": {},
   "source": [
    "#### Square of first 10 nos:   Using For Loop "
   ]
  },
  {
   "cell_type": "code",
   "execution_count": 4,
   "metadata": {},
   "outputs": [
    {
     "name": "stdout",
     "output_type": "stream",
     "text": [
      "The square of 1 is 1\n",
      "The square of 2 is 4\n",
      "The square of 3 is 9\n",
      "The square of 4 is 16\n",
      "The square of 5 is 25\n",
      "The square of 6 is 36\n",
      "The square of 7 is 49\n",
      "The square of 8 is 64\n",
      "The square of 9 is 81\n",
      "The square of 10 is 100\n"
     ]
    }
   ],
   "source": [
    "for i in range(1,11):\n",
    "    print(f\"The square of {i} is {i*i}\") "
   ]
  },
  {
   "cell_type": "markdown",
   "metadata": {},
   "source": [
    "#### sum of first 10 square nos"
   ]
  },
  {
   "cell_type": "code",
   "execution_count": 5,
   "metadata": {},
   "outputs": [
    {
     "name": "stdout",
     "output_type": "stream",
     "text": [
      "385\n"
     ]
    }
   ],
   "source": [
    "sum=0\n",
    "for i in range(1,11):\n",
    "    sum+=(i*i)\n",
    "print(sum)"
   ]
  },
  {
   "cell_type": "code",
   "execution_count": 6,
   "metadata": {},
   "outputs": [
    {
     "name": "stdout",
     "output_type": "stream",
     "text": [
      "The square of 1 is 1\n",
      "The square of 2 is 4\n",
      "The square of 3 is 9\n",
      "The square of 4 is 16\n",
      "The square of 5 is 25\n",
      "The square of 6 is 36\n",
      "The square of 7 is 49\n",
      "The square of 8 is 64\n",
      "The square of 9 is 81\n",
      "The square of 10 is 100\n",
      "And the Square Of first 10 nos are:  385\n"
     ]
    }
   ],
   "source": [
    "sum=0\n",
    "for i in range(1,11):\n",
    "    print(f\"The square of {i} is {i*i}\") \n",
    "    sum+=(i*i)\n",
    "print(\"And the Square Of first 10 nos are: \",sum)"
   ]
  },
  {
   "cell_type": "markdown",
   "metadata": {},
   "source": [
    "#### Sum and sqaure using for loop "
   ]
  },
  {
   "cell_type": "code",
   "execution_count": 7,
   "metadata": {},
   "outputs": [
    {
     "name": "stdout",
     "output_type": "stream",
     "text": [
      "enter no: 25\n",
      "The square of 1 is 1\n",
      "The square of 2 is 4\n",
      "The square of 3 is 9\n",
      "The square of 4 is 16\n",
      "The square of 5 is 25\n",
      "The square of 6 is 36\n",
      "The square of 7 is 49\n",
      "The square of 8 is 64\n",
      "The square of 9 is 81\n",
      "The square of 10 is 100\n",
      "The square of 11 is 121\n",
      "The square of 12 is 144\n",
      "The square of 13 is 169\n",
      "The square of 14 is 196\n",
      "The square of 15 is 225\n",
      "The square of 16 is 256\n",
      "The square of 17 is 289\n",
      "The square of 18 is 324\n",
      "The square of 19 is 361\n",
      "The square of 20 is 400\n",
      "The square of 21 is 441\n",
      "The square of 22 is 484\n",
      "The square of 23 is 529\n",
      "The square of 24 is 576\n",
      "The square of 25 is 625\n",
      "And the Square Of first 10 nos are:  5525\n"
     ]
    }
   ],
   "source": [
    "# Now make it Dynamic\n",
    "n=eval(input(\"enter no: \"))\n",
    "sum=0\n",
    "for i in range(1,n+1):\n",
    "    print(f\"The square of {i} is {i*i}\") \n",
    "    sum+=(i*i)\n",
    "print(\"And the Square Of first 10 nos are: \",sum)"
   ]
  },
  {
   "cell_type": "markdown",
   "metadata": {},
   "source": [
    "#### Sum and sqaure using while loop "
   ]
  },
  {
   "cell_type": "code",
   "execution_count": 9,
   "metadata": {},
   "outputs": [
    {
     "name": "stdout",
     "output_type": "stream",
     "text": [
      "enter no: 10\n",
      "The square of 1 is 1\n",
      "The square of 2 is 4\n",
      "The square of 3 is 9\n",
      "The square of 4 is 16\n",
      "The square of 5 is 25\n",
      "The square of 6 is 36\n",
      "The square of 7 is 49\n",
      "The square of 8 is 64\n",
      "The square of 9 is 81\n",
      "The square of 10 is 100\n",
      "And the Square Of first 10 nos are:  385\n"
     ]
    }
   ],
   "source": [
    "n=eval(input(\"enter no: \"))\n",
    "i=1\n",
    "sum=0\n",
    "while i<=n:\n",
    "    print(f\"The square of {i} is {i*i}\")\n",
    "    sum+=(i*i)\n",
    "    i+=1\n",
    "print(\"And the Square Of first 10 nos are: \",sum)"
   ]
  },
  {
   "cell_type": "markdown",
   "metadata": {},
   "source": [
    "#### Finding square root\n",
    " - Similarly, we could also have written number**0.5."
   ]
  },
  {
   "cell_type": "code",
   "execution_count": 11,
   "metadata": {},
   "outputs": [
    {
     "name": "stdout",
     "output_type": "stream",
     "text": [
      "enter no: 16\n",
      "4.0\n"
     ]
    }
   ],
   "source": [
    "n=eval(input(\"enter no: \"))\n",
    "sqrroot= n**(1/2)\n",
    "print(sqrroot)"
   ]
  },
  {
   "cell_type": "code",
   "execution_count": 2,
   "metadata": {},
   "outputs": [
    {
     "name": "stdout",
     "output_type": "stream",
     "text": [
      "enter no: 25\n",
      "5.0\n"
     ]
    }
   ],
   "source": [
    "n=int(input(\"enter no: \"))\n",
    "sqrroot= n**0.5\n",
    "print(sqrroot)"
   ]
  },
  {
   "cell_type": "code",
   "execution_count": 16,
   "metadata": {},
   "outputs": [
    {
     "name": "stdout",
     "output_type": "stream",
     "text": [
      "enter no: 3\n",
      "the square Root of 1 is 1.0\n",
      "the square Root of 2 is 1.4142135623730951\n",
      "the square Root of 3 is 1.7320508075688772\n"
     ]
    }
   ],
   "source": [
    "n=int(input(\"enter no: \"))\n",
    "for i in range(1,n+1):\n",
    "    print(f\"the square Root of {i} is {i**(1/2)}\")"
   ]
  },
  {
   "cell_type": "markdown",
   "metadata": {},
   "source": [
    "#### Prime Numbers"
   ]
  },
  {
   "cell_type": "code",
   "execution_count": null,
   "metadata": {},
   "outputs": [],
   "source": [
    "n=int(input(\"enter no: \"))\n",
    "if n%1==0 and n/n==0:\n",
    "    print(f\"{n} is a Prime Number\")\n",
    "else:\n",
    "    print(f\"{n} is not a Prime Number\")"
   ]
  },
  {
   "cell_type": "markdown",
   "metadata": {},
   "source": [
    "#### wap to print max no"
   ]
  },
  {
   "cell_type": "code",
   "execution_count": 17,
   "metadata": {},
   "outputs": [
    {
     "name": "stdout",
     "output_type": "stream",
     "text": [
      "enter no: 12\n",
      "enter no: 32\n",
      "no. b = 32 is greater than 12\n"
     ]
    }
   ],
   "source": [
    "a=int(input(\"enter no: \"))\n",
    "b=int(input(\"enter no: \"))\n",
    "if a>b:\n",
    "    print(f\"{a} is greater than b\")\n",
    "elif a==b:\n",
    "    print(f\"both numbers are equal\")\n",
    "else: \n",
    "    print(f\"no. b = {b} is greater than {a}\")"
   ]
  },
  {
   "cell_type": "markdown",
   "metadata": {},
   "source": [
    "#### print 10 to 1"
   ]
  },
  {
   "cell_type": "code",
   "execution_count": 18,
   "metadata": {},
   "outputs": [
    {
     "name": "stdout",
     "output_type": "stream",
     "text": [
      "10\n",
      "9\n",
      "8\n",
      "7\n",
      "6\n",
      "5\n",
      "4\n",
      "3\n",
      "2\n",
      "1\n"
     ]
    }
   ],
   "source": [
    "i=10\n",
    "while i>=1:\n",
    "    print(i)\n",
    "    i-=1"
   ]
  },
  {
   "cell_type": "code",
   "execution_count": 20,
   "metadata": {},
   "outputs": [
    {
     "name": "stdout",
     "output_type": "stream",
     "text": [
      "10\t9\t8\t7\t6\t5\t4\t3\t2\t1\t"
     ]
    }
   ],
   "source": [
    "i=10\n",
    "while i>=1:\n",
    "    print(i,end=\"\\t\")\n",
    "    i-=1"
   ]
  },
  {
   "cell_type": "code",
   "execution_count": 21,
   "metadata": {},
   "outputs": [
    {
     "name": "stdout",
     "output_type": "stream",
     "text": [
      "10\t9\t8\t7\t6\t5\t4\t3\t2\t1\t"
     ]
    }
   ],
   "source": [
    "for i in range(10,0,-1):\n",
    "    print(i,end=\"\\t\")"
   ]
  },
  {
   "cell_type": "code",
   "execution_count": 22,
   "metadata": {},
   "outputs": [
    {
     "name": "stdout",
     "output_type": "stream",
     "text": [
      "10  9  8  7  6  5  4  3  2  1  "
     ]
    }
   ],
   "source": [
    "for i in range(10,0,-1):\n",
    "    print(i,end=\"  \")"
   ]
  },
  {
   "cell_type": "code",
   "execution_count": 23,
   "metadata": {},
   "outputs": [
    {
     "name": "stdout",
     "output_type": "stream",
     "text": [
      "10\n",
      "9\n",
      "8\n",
      "7\n",
      "6\n",
      "5\n",
      "4\n",
      "3\n",
      "2\n",
      "1\n"
     ]
    }
   ],
   "source": [
    "for i in range(10,0,-1):\n",
    "    print(i)"
   ]
  },
  {
   "cell_type": "code",
   "execution_count": 33,
   "metadata": {},
   "outputs": [
    {
     "name": "stdout",
     "output_type": "stream",
     "text": [
      "enter your startno: 10\n",
      "enter your endno: 1\n",
      "10\n",
      "9\n",
      "8\n",
      "7\n",
      "6\n",
      "5\n",
      "4\n",
      "3\n",
      "2\n",
      "1\n"
     ]
    }
   ],
   "source": [
    "sno=int(input(\"enter your startno: \"))\n",
    "eno=int(input(\"enter your endno: \"))\n",
    "if sno<=eno:\n",
    "    for i in range(sno,eno+1):\n",
    "        print(i)\n",
    "else:\n",
    "    if sno>=eno:\n",
    "        for i in range(sno,eno-1,-1):\n",
    "            print(i)"
   ]
  },
  {
   "cell_type": "code",
   "execution_count": 35,
   "metadata": {},
   "outputs": [
    {
     "name": "stdout",
     "output_type": "stream",
     "text": [
      "enter your startno: 1\n",
      "enter your endno: 10\n",
      "1\n",
      "2\n",
      "3\n",
      "4\n",
      "5\n",
      "6\n",
      "7\n",
      "8\n",
      "9\n",
      "10\n"
     ]
    }
   ],
   "source": [
    "sno=int(input(\"enter your startno: \"))\n",
    "eno=int(input(\"enter your endno: \"))\n",
    "if sno<=eno:\n",
    "    while sno<=eno:\n",
    "        print(sno)\n",
    "        sno+=1\n",
    "else:\n",
    "    while sno>=eno:\n",
    "        print(sno)\n",
    "        sno-=1"
   ]
  },
  {
   "cell_type": "markdown",
   "metadata": {},
   "source": [
    "#### sep concept"
   ]
  },
  {
   "cell_type": "code",
   "execution_count": 37,
   "metadata": {},
   "outputs": [
    {
     "name": "stdout",
     "output_type": "stream",
     "text": [
      "My age is= 35\n",
      "My age is=35\n"
     ]
    }
   ],
   "source": [
    "age=35\n",
    "print(\"My age is=\",age)\n",
    "print(\"My age is=\",age,sep=\"\")\n",
    "# here the white space has been deleted using sep."
   ]
  },
  {
   "cell_type": "markdown",
   "metadata": {},
   "source": [
    "#### end concept"
   ]
  },
  {
   "cell_type": "code",
   "execution_count": 38,
   "metadata": {},
   "outputs": [
    {
     "name": "stdout",
     "output_type": "stream",
     "text": [
      "hello\n",
      "hiii\n",
      "mobile phone\n",
      "welcome\tpython\n",
      "hello\n",
      "hii\n",
      "rohit\n",
      "\n",
      "garud\n"
     ]
    }
   ],
   "source": [
    "print(\"hello\")\n",
    "print(\"hiii\")\n",
    "\n",
    "print(\"mobile\",end=\" \")\n",
    "print(\"phone\")\n",
    "\n",
    "print(\"welcome\",end=\"\\t\")\n",
    "print(\"python\")\n",
    "\n",
    "print(\"hello\",end=\"\\n\")\n",
    "print(\"hii\")\n",
    "\n",
    "print(\"rohit\\n\")\n",
    "print(\"garud\")"
   ]
  },
  {
   "cell_type": "code",
   "execution_count": 40,
   "metadata": {},
   "outputs": [
    {
     "name": "stdout",
     "output_type": "stream",
     "text": [
      "enter number: 5\n",
      "5\n"
     ]
    }
   ],
   "source": [
    "#wap to take one no from user and print its last digit.\n",
    "r=int(input(\"enter number: \"))\n",
    "s=r%10\n",
    "print(s)"
   ]
  },
  {
   "cell_type": "code",
   "execution_count": 41,
   "metadata": {},
   "outputs": [
    {
     "name": "stdout",
     "output_type": "stream",
     "text": [
      "enter no: 10\n",
      "0 1 1 2 3 5 8 13 21 34 "
     ]
    }
   ],
   "source": [
    "# fibonacci series using while loop\n",
    "a=0\n",
    "b=1\n",
    "n=int(input(\"enter no: \"))\n",
    "print(a,end=\" \")\n",
    "print(b,end=\" \")\n",
    "i=1\n",
    "while i<=(n-2):\n",
    "    c=a+b\n",
    "    print(c,end=\" \")\n",
    "    a=b\n",
    "    b=c\n",
    "    i+=1"
   ]
  },
  {
   "cell_type": "code",
   "execution_count": null,
   "metadata": {},
   "outputs": [],
   "source": [
    "# fibonacci series using for loop\n",
    "a=0\n",
    "b=1\n",
    "n=int(input(\"enter no: \"))\n",
    "print(a,end=\" \")\n",
    "print(b,end=\" \")\n",
    "for i in range(1,n-2):\n",
    "    c=a+b\n",
    "    print(c,end=\" \")\n",
    "    a=b\n",
    "    b=c"
   ]
  },
  {
   "cell_type": "code",
   "execution_count": 44,
   "metadata": {},
   "outputs": [
    {
     "name": "stdout",
     "output_type": "stream",
     "text": [
      "Enter Marks:35\n",
      "35\n",
      "C Grade\n"
     ]
    }
   ],
   "source": [
    "#wap a college has following rules for grading system take marks from user and print prespective grade.\n",
    "perc=int(input(\"Enter Marks:\"))\n",
    "print(perc)\n",
    "if perc>=80 and perc<=100:\n",
    "    print(\"O Grade\")\n",
    "elif perc>=70 and perc<=80:\n",
    "    print(\"A Grade\")\n",
    "elif perc>=60 and perc<=70:\n",
    "    print(\"B+ Grade\")\n",
    "elif perc>=50 and perc<=60:\n",
    "    print(\"B Grade\")\n",
    "elif perc>=35 and perc<=50:\n",
    "    print(\"C Grade\")\n",
    "else:\n",
    "    print(\"Fail\")"
   ]
  },
  {
   "cell_type": "code",
   "execution_count": 47,
   "metadata": {},
   "outputs": [
    {
     "name": "stdout",
     "output_type": "stream",
     "text": [
      "enter the quantity of unit: 12\n",
      "Cost price: 1200\n",
      "enter the discount %: 6\n",
      "The Actual Price = 1128.0 after applying 6% discount=72.0 \n"
     ]
    }
   ],
   "source": [
    "#wap a shop will give discount of 10% if the cost of purchased quantity is more than 1000.\n",
    "#Ask user for quantity (assume 1unit=100rupees), Calculate and print total cost for user.\n",
    "unit = int(input(\"enter the quantity of unit: \"))\n",
    "costprice=unit*100\n",
    "print(f\"Cost price: {costprice}\")\n",
    "if costprice>1000:\n",
    "    perdis=int(input(\"enter the discount %: \"))\n",
    "    discount= costprice*perdis/100\n",
    "    actualprice=costprice-discount\n",
    "    print(f\"The Actual Price = {actualprice} after applying {perdis}% discount={discount} \")\n",
    "else:\n",
    "    print(\"The Cost Price should be greater than 1000\")"
   ]
  },
  {
   "cell_type": "markdown",
   "metadata": {},
   "source": [
    "#### Area Formula Triangle, Rectangle and Square "
   ]
  },
  {
   "cell_type": "code",
   "execution_count": 58,
   "metadata": {},
   "outputs": [
    {
     "name": "stdout",
     "output_type": "stream",
     "text": [
      "\n",
      "    1.Area of Triangle\n",
      "    2.Area of Square \n",
      "    3.Area of Rectangle\n",
      "    4.Terminate the Program\n",
      "Enter the choice: 4\n",
      "Terminated the Program\n"
     ]
    }
   ],
   "source": [
    "while True:\n",
    "    print('''\n",
    "    1.Area of Triangle\n",
    "    2.Area of Square \n",
    "    3.Area of Rectangle\n",
    "    4.Terminate the Program''')\n",
    "    a=int(input(\"Enter the choice: \"))\n",
    "    if a==1:\n",
    "        print(\"Area Of Triangle: \",3.14*eval(input(\"enter Radius: \"))**2)\n",
    "    elif a==2:\n",
    "        print(\"Area of Square: \",eval(input(\"enter side: \"))**2)\n",
    "    elif a==3:\n",
    "        print(\"Area of Rectangle: \",eval(input(\"enter length: \"))\n",
    "              *eval(input(\"enter width: \")))\n",
    "    elif a==4:\n",
    "        print(\"Terminated the Program\")\n",
    "        break\n",
    "    else:\n",
    "        print(\"Invalid Input\")\n"
   ]
  },
  {
   "cell_type": "markdown",
   "metadata": {},
   "source": [
    "#### Palindrome for string"
   ]
  },
  {
   "cell_type": "code",
   "execution_count": 64,
   "metadata": {},
   "outputs": [
    {
     "name": "stdout",
     "output_type": "stream",
     "text": [
      "enter string: hri\n",
      "Reversed the entered string:  irh\n",
      "Not a Palindrome\n"
     ]
    }
   ],
   "source": [
    "a=input(\"enter string: \")\n",
    "# b=a[-1::-1]\n",
    "b=a[::-1]\n",
    "print(\"Reversed the entered string: \",b)\n",
    "if a==b:\n",
    "    print(\"It is Palindrome\")\n",
    "else:\n",
    "    print(\"Not a Palindrome\")"
   ]
  },
  {
   "cell_type": "code",
   "execution_count": 17,
   "metadata": {},
   "outputs": [
    {
     "name": "stdout",
     "output_type": "stream",
     "text": [
      "Enter No: 122\n",
      "Not a Palindrome\n",
      "221 <class 'int'>\n"
     ]
    }
   ],
   "source": [
    "a=int(input(\"Enter No: \"))\n",
    "b=str(a)\n",
    "b=b[::-1]\n",
    "c=int(b)\n",
    "if a==c:\n",
    "    print(\"Its Palindrome\")\n",
    "else:\n",
    "    print(\"Not a Palindrome\")\n",
    "# print(b,type(b))\n",
    "print(c,type(c))"
   ]
  },
  {
   "cell_type": "code",
   "execution_count": null,
   "metadata": {},
   "outputs": [],
   "source": [
    "# Reverse a number \n",
    "no=int(input(\"enter no: \"))\n",
    "t=no\n",
    "rev=0\n",
    "while no>0:\n",
    "    rem=no%10\n",
    "    rev=(rev*10)+rem\n",
    "    no=no//10"
   ]
  },
  {
   "cell_type": "code",
   "execution_count": 23,
   "metadata": {},
   "outputs": [
    {
     "name": "stdout",
     "output_type": "stream",
     "text": [
      "enter no: 505\n",
      "Its a Palindrome\n"
     ]
    }
   ],
   "source": [
    "# Reverse a number and \n",
    "# check whether its Palindrome or not\n",
    "no=int(input(\"enter no: \"))\n",
    "t=no\n",
    "rev=0\n",
    "while no>0:\n",
    "    rem=no%10\n",
    "    rev=(rev*10)+rem\n",
    "    no=no//10\n",
    "if rev==t:\n",
    "    print(\"Its a Palindrome\")\n",
    "else:\n",
    "    print(\"Not a Palindrome\")"
   ]
  },
  {
   "cell_type": "markdown",
   "metadata": {},
   "source": [
    "#### Armstrong"
   ]
  },
  {
   "cell_type": "code",
   "execution_count": 35,
   "metadata": {},
   "outputs": [
    {
     "name": "stdout",
     "output_type": "stream",
     "text": [
      "enter no: 11\n",
      "Not a Palindrome\n"
     ]
    }
   ],
   "source": [
    "no=int(input(\"enter no: \"))\n",
    "org=no\n",
    "summ=0\n",
    "while no>0:\n",
    "    rem=no%10\n",
    "    summ+=(rem%10)**3 \n",
    "    no=no//10\n",
    "\n",
    "if summ==org:\n",
    "    print(\"Its Armstrong\")\n",
    "else:\n",
    "    print(\"Not a Palindrome\")\n",
    "    \n",
    "# print(summ)"
   ]
  },
  {
   "cell_type": "markdown",
   "metadata": {},
   "source": [
    "#### even Nos from 1 to 20"
   ]
  },
  {
   "cell_type": "code",
   "execution_count": 41,
   "metadata": {},
   "outputs": [
    {
     "name": "stdout",
     "output_type": "stream",
     "text": [
      "2-4-6-8-10-12-14-16-18-20\n"
     ]
    }
   ],
   "source": [
    "for i in range(1,21):\n",
    "    if i%2==0:\n",
    "        if i==20:\n",
    "            print(i)\n",
    "            break\n",
    "        print(i,end=\"-\")\n",
    "    "
   ]
  },
  {
   "cell_type": "markdown",
   "metadata": {},
   "source": [
    "#### pattern Programming "
   ]
  },
  {
   "cell_type": "code",
   "execution_count": 42,
   "metadata": {},
   "outputs": [
    {
     "name": "stdout",
     "output_type": "stream",
     "text": [
      "* * * \n",
      "* * * \n",
      "* * * \n"
     ]
    }
   ],
   "source": [
    "for i in range(1,4):\n",
    "    for j in range(1,4):\n",
    "        print(\"*\",end=\" \")\n",
    "    print()"
   ]
  },
  {
   "cell_type": "code",
   "execution_count": 46,
   "metadata": {},
   "outputs": [
    {
     "name": "stdout",
     "output_type": "stream",
     "text": [
      "* \n",
      "* * \n",
      "* * * \n"
     ]
    }
   ],
   "source": [
    "for i in range(1,4):\n",
    "    for j in range(1,i+1):\n",
    "        print(\"*\",end=\" \")\n",
    "    print()"
   ]
  },
  {
   "cell_type": "code",
   "execution_count": 45,
   "metadata": {},
   "outputs": [
    {
     "name": "stdout",
     "output_type": "stream",
     "text": [
      "1 \n",
      "2 2 \n",
      "3 3 3 \n"
     ]
    }
   ],
   "source": [
    "for i in range(1,4):\n",
    "    for j in range(1,i+1):\n",
    "        print(i,end=\" \")\n",
    "    print()"
   ]
  },
  {
   "cell_type": "code",
   "execution_count": 47,
   "metadata": {},
   "outputs": [
    {
     "name": "stdout",
     "output_type": "stream",
     "text": [
      "1 1 1 \n",
      "2 2 2 \n",
      "3 3 3 \n"
     ]
    }
   ],
   "source": [
    "for i in range(1,4):\n",
    "    for j in range(1,4):\n",
    "        print(i,end=\" \")\n",
    "    print()"
   ]
  },
  {
   "cell_type": "code",
   "execution_count": 48,
   "metadata": {},
   "outputs": [
    {
     "name": "stdout",
     "output_type": "stream",
     "text": [
      "1 2 3 \n",
      "1 2 3 \n",
      "1 2 3 \n"
     ]
    }
   ],
   "source": [
    "for u in range(1,4):\n",
    "    for j in  range(1,4):\n",
    "        print(j,end=\" \")\n",
    "    print()"
   ]
  },
  {
   "cell_type": "code",
   "execution_count": 49,
   "metadata": {},
   "outputs": [
    {
     "name": "stdout",
     "output_type": "stream",
     "text": [
      "1 2 3 \n",
      "4 5 6 \n",
      "7 8 9 \n"
     ]
    }
   ],
   "source": [
    "k=1\n",
    "for i in range(1,4):\n",
    "    for j in range(1,4):\n",
    "        print(k,end=\" \")\n",
    "        k+=1\n",
    "    print()"
   ]
  },
  {
   "cell_type": "code",
   "execution_count": 50,
   "metadata": {},
   "outputs": [
    {
     "name": "stdout",
     "output_type": "stream",
     "text": [
      "enter rows: 3\n",
      "enter columns: 4\n",
      "* * * * \n",
      "* * * * \n",
      "* * * * \n"
     ]
    }
   ],
   "source": [
    "rows=int(input(\"enter rows: \"))\n",
    "cols=int(input(\"enter columns: \"))\n",
    "for i in range(1,rows+1):\n",
    "    for j in range(1,cols+1):\n",
    "        print(\"*\",end=\" \")\n",
    "    print()"
   ]
  },
  {
   "cell_type": "code",
   "execution_count": 54,
   "metadata": {},
   "outputs": [
    {
     "name": "stdout",
     "output_type": "stream",
     "text": [
      "* \n",
      "* * \n",
      "* * * \n",
      "* * * * \n"
     ]
    }
   ],
   "source": [
    "for i in range(1,5):\n",
    "    for j in range(0,i):\n",
    "        print(\"*\",end=\" \")\n",
    "    print()"
   ]
  },
  {
   "cell_type": "code",
   "execution_count": 58,
   "metadata": {},
   "outputs": [
    {
     "name": "stdout",
     "output_type": "stream",
     "text": [
      "enter rows: 8\n",
      "* \n",
      "* * \n",
      "* * * \n",
      "* * * * \n",
      "* * * * * \n",
      "* * * * * * \n",
      "* * * * * * * \n",
      "* * * * * * * * \n",
      "* * * * * * * \n",
      "* * * * * * \n",
      "* * * * * \n",
      "* * * * \n",
      "* * * \n",
      "* * \n",
      "* \n"
     ]
    }
   ],
   "source": [
    "rows=int(input(\"enter rows: \"))\n",
    "for i in range(1,rows+1):\n",
    "    for j in range(0,i):\n",
    "        print(\"*\",end=\" \")\n",
    "    print()\n",
    "for i in range(rows-1,0,-1):\n",
    "    for j in range(0,i):\n",
    "        print(\"*\",end=\" \")\n",
    "    print()"
   ]
  },
  {
   "cell_type": "code",
   "execution_count": 60,
   "metadata": {},
   "outputs": [
    {
     "name": "stdout",
     "output_type": "stream",
     "text": [
      "* * * * \n",
      "* * * \n",
      "* * \n",
      "* \n"
     ]
    }
   ],
   "source": [
    "for i in range(5,1,-1):\n",
    "    for j in range(1,i):\n",
    "        print(\"*\",end=\" \")\n",
    "    print()"
   ]
  },
  {
   "cell_type": "code",
   "execution_count": 61,
   "metadata": {},
   "outputs": [
    {
     "name": "stdout",
     "output_type": "stream",
     "text": [
      "5 5 5 5 \n",
      "4 4 4 \n",
      "3 3 \n",
      "2 \n"
     ]
    }
   ],
   "source": [
    "for i in range(5,1,-1):\n",
    "    for j in range(1,i):\n",
    "        print(i,end=\" \")\n",
    "    print()"
   ]
  },
  {
   "cell_type": "code",
   "execution_count": 62,
   "metadata": {},
   "outputs": [
    {
     "name": "stdout",
     "output_type": "stream",
     "text": [
      "1 2 3 4 \n",
      "1 2 3 \n",
      "1 2 \n",
      "1 \n"
     ]
    }
   ],
   "source": [
    "for i in range(4,0,-1):\n",
    "    for j in range(1,i+1):\n",
    "        print(j,end=\" \")\n",
    "    print()"
   ]
  },
  {
   "cell_type": "code",
   "execution_count": 63,
   "metadata": {},
   "outputs": [
    {
     "name": "stdout",
     "output_type": "stream",
     "text": [
      "1 2 3 4 5 \n",
      "1 2 3 4 \n",
      "1 2 3 \n",
      "1 2 \n",
      "1 \n"
     ]
    }
   ],
   "source": [
    "for i in range(5,0,-1):\n",
    "    for j in range(1,i+1):\n",
    "        print(j,end=\" \")\n",
    "    print()"
   ]
  },
  {
   "cell_type": "code",
   "execution_count": 64,
   "metadata": {},
   "outputs": [
    {
     "name": "stdout",
     "output_type": "stream",
     "text": [
      "1 \n",
      "1 2 \n",
      "1 2 3 \n",
      "1 2 3 4 \n"
     ]
    }
   ],
   "source": [
    "for i in range(1,5):\n",
    "    for j in range(1,i+1):\n",
    "        print(j,end=\" \")\n",
    "    print()"
   ]
  },
  {
   "cell_type": "code",
   "execution_count": 65,
   "metadata": {},
   "outputs": [
    {
     "name": "stdout",
     "output_type": "stream",
     "text": [
      "1 \n",
      "2 2 \n",
      "3 3 3 \n",
      "4 4 4 4 \n"
     ]
    }
   ],
   "source": [
    "for i in range(1,5):\n",
    "    for j in range(0,i):\n",
    "        print(i,end=\" \")\n",
    "    print()"
   ]
  },
  {
   "cell_type": "code",
   "execution_count": 68,
   "metadata": {},
   "outputs": [
    {
     "name": "stdout",
     "output_type": "stream",
     "text": [
      "1 \n",
      "2 3 \n",
      "4 5 6 \n",
      "7 8 9 10 \n"
     ]
    }
   ],
   "source": [
    "k=1\n",
    "for i in range(1,5):\n",
    "    for j in range(0,i):\n",
    "        print(k,end=\" \")\n",
    "        k+=1\n",
    "    print()\n",
    "    "
   ]
  },
  {
   "cell_type": "code",
   "execution_count": 69,
   "metadata": {},
   "outputs": [
    {
     "name": "stdout",
     "output_type": "stream",
     "text": [
      "- - - * \n",
      "- - * * \n",
      "- * * * \n",
      "* * * * \n"
     ]
    }
   ],
   "source": [
    "for i in range(1,5):\n",
    "    for j in range(4,i,-1):\n",
    "        print(\"-\",end=\" \")\n",
    "    for k in range(0,i):\n",
    "        print(\"*\",end=\" \")\n",
    "    print()"
   ]
  },
  {
   "cell_type": "code",
   "execution_count": 83,
   "metadata": {},
   "outputs": [
    {
     "name": "stdout",
     "output_type": "stream",
     "text": [
      "      * \n",
      "    * * \n",
      "  * * * \n",
      "* * * * \n"
     ]
    }
   ],
   "source": [
    "for i in range(1,5):\n",
    "    for j in range(4,i,-1):\n",
    "        print(\" \",end=\" \")\n",
    "    for k in range(0,i):\n",
    "        print(\"*\",end=\" \")\n",
    "    print()"
   ]
  },
  {
   "cell_type": "code",
   "execution_count": 75,
   "metadata": {},
   "outputs": [
    {
     "name": "stdout",
     "output_type": "stream",
     "text": [
      "   * \n",
      "  * * \n",
      " * * * \n",
      "* * * * \n"
     ]
    }
   ],
   "source": [
    "for i in range(1,5):\n",
    "    for j in range(4,i,-1):\n",
    "        print(\"\",end=\" \")\n",
    "    for k in range(0,i):\n",
    "        print(\"*\",end=\" \")\n",
    "    print()"
   ]
  },
  {
   "cell_type": "code",
   "execution_count": 79,
   "metadata": {},
   "outputs": [
    {
     "name": "stdout",
     "output_type": "stream",
     "text": [
      "* * * - \n",
      "* * - - \n",
      "* - - - \n",
      "- - - - \n"
     ]
    }
   ],
   "source": [
    "for i in range(1,5):\n",
    "    for j in range(4,i,-1):\n",
    "        print(\"*\",end=\" \")\n",
    "    for k in range(0,i):\n",
    "        print(\"-\",end=\" \")\n",
    "    print()"
   ]
  },
  {
   "cell_type": "code",
   "execution_count": 84,
   "metadata": {},
   "outputs": [
    {
     "name": "stdout",
     "output_type": "stream",
     "text": [
      "* * * * \n",
      "* * * \n",
      "* * \n",
      "* \n",
      "* * \n",
      "* * * \n",
      "* * * * \n"
     ]
    }
   ],
   "source": [
    "for i in range(5,1,-1):\n",
    "    for j in range(1,i):\n",
    "        print(\"*\",end=\" \")\n",
    "    print()\n",
    "for i in range(2,5):\n",
    "    for j in range(0,i):\n",
    "        print(\"*\",end=\" \")\n",
    "    print()"
   ]
  },
  {
   "cell_type": "code",
   "execution_count": 85,
   "metadata": {},
   "outputs": [
    {
     "name": "stdout",
     "output_type": "stream",
     "text": [
      "* * * * \n",
      " * * * \n",
      "  * * \n",
      "   * \n"
     ]
    }
   ],
   "source": [
    "for i in range(1,5):\n",
    "    for j in range(1,i):\n",
    "        print(\"\",end=\" \")\n",
    "    for k in range(5,i,-1):\n",
    "        print(\"*\",end=\" \")\n",
    "    print()\n",
    "    "
   ]
  },
  {
   "cell_type": "code",
   "execution_count": 89,
   "metadata": {},
   "outputs": [
    {
     "name": "stdout",
     "output_type": "stream",
     "text": [
      "* * * * \n",
      " * * * \n",
      "  * * \n",
      "   * \n",
      "- * * * \n"
     ]
    }
   ],
   "source": [
    "for i in range(1,5):\n",
    "    for j in range(1,i):\n",
    "        print(\"\",end=\" \")\n",
    "    for k in range(5,i,-1):\n",
    "        print(\"*\",end=\" \")\n",
    "    print()\n",
    "for i in range(1,0,-1):\n",
    "    for j in range(0,i):\n",
    "        print(\"-\",end=\" \")\n",
    "    for k in range(2,5):\n",
    "        print(\"*\",end=\" \")\n",
    "    print()"
   ]
  },
  {
   "cell_type": "markdown",
   "metadata": {},
   "source": [
    "#### wap to check the occurence of given letter from the given name "
   ]
  },
  {
   "cell_type": "code",
   "execution_count": 97,
   "metadata": {},
   "outputs": [
    {
     "name": "stdout",
     "output_type": "stream",
     "text": [
      "enter name: hrishi\n",
      "enter the alphabet to check its occurence: i\n",
      "the total occurence of i is 2\n"
     ]
    }
   ],
   "source": [
    "n=input(\"enter name: \")\n",
    "m=input(\"enter the alphabet to check its occurence: \")\n",
    "cnt=0\n",
    "for i in n:\n",
    "    if i==m:\n",
    "        cnt+=1\n",
    "print(f\"the total occurence of {m} is {cnt}\")"
   ]
  },
  {
   "cell_type": "code",
   "execution_count": 102,
   "metadata": {},
   "outputs": [
    {
     "name": "stdout",
     "output_type": "stream",
     "text": [
      "enter name: hrishi\n",
      "enter the alphabet to check its occurence: w\n",
      "There is no letter: w in name: hrishi \n"
     ]
    }
   ],
   "source": [
    "n=input(\"enter name: \")\n",
    "m=input(\"enter the alphabet to check its occurence: \")\n",
    "cnt=0\n",
    "if m in n:\n",
    "    print(f\"The total Occurence of given letter: {m} in name: {n} is {n.count(m)}\")\n",
    "else:\n",
    "    print(f\"There is no letter: {m} in name: {n} \")"
   ]
  },
  {
   "cell_type": "markdown",
   "metadata": {},
   "source": [
    "#### traversing on strings using while loop "
   ]
  },
  {
   "cell_type": "code",
   "execution_count": 110,
   "metadata": {},
   "outputs": [
    {
     "name": "stdout",
     "output_type": "stream",
     "text": [
      "enter name:hrishi\n",
      "\n",
      "h\n",
      "r\n",
      "i\n",
      "s\n",
      "h\n",
      "i\n"
     ]
    }
   ],
   "source": [
    "n=input(\"enter name:\")\n",
    "l=len(n)\n",
    "i=0\n",
    "print()\n",
    "while i<l:\n",
    "    print(n[i])\n",
    "    i+=1"
   ]
  },
  {
   "cell_type": "code",
   "execution_count": 114,
   "metadata": {},
   "outputs": [
    {
     "name": "stdout",
     "output_type": "stream",
     "text": [
      "enter name: hrihi\n",
      "\n",
      "h\n",
      "r\n",
      "i\n",
      "h\n",
      "i\n"
     ]
    }
   ],
   "source": [
    "n=input(\"enter name: \")\n",
    "print(end=\"\\n\")\n",
    "for i in n:\n",
    "    print(i)"
   ]
  },
  {
   "cell_type": "markdown",
   "metadata": {},
   "source": [
    "#### wap to take strings from user and find out frequency of vomels from input"
   ]
  },
  {
   "cell_type": "code",
   "execution_count": 119,
   "metadata": {},
   "outputs": [
    {
     "name": "stdout",
     "output_type": "stream",
     "text": [
      "enter name: hrishi\n",
      "2\n"
     ]
    }
   ],
   "source": [
    "a=input(\"enter name: \")\n",
    "b=[\"a\",\"e\",\"i\",\"o\",\"u\"]\n",
    "cnt=0\n",
    "for i in a:\n",
    "    if i in b:\n",
    "        cnt+=1\n",
    "print(cnt)"
   ]
  },
  {
   "cell_type": "code",
   "execution_count": 120,
   "metadata": {},
   "outputs": [
    {
     "name": "stdout",
     "output_type": "stream",
     "text": [
      "enter name: hrishik\n",
      "2\n"
     ]
    }
   ],
   "source": [
    "a=input(\"enter name: \")\n",
    "# b=[\"a\",\"e\",\"i\",\"o\",\"u\"]\n",
    "cnt=0\n",
    "for i in a:\n",
    "    if i in [\"a\",\"e\",\"i\",\"o\",\"u\"]:\n",
    "        cnt+=1\n",
    "print(cnt)"
   ]
  },
  {
   "cell_type": "code",
   "execution_count": 121,
   "metadata": {},
   "outputs": [
    {
     "name": "stdout",
     "output_type": "stream",
     "text": [
      "enter name: hrishi\n",
      "2\n"
     ]
    }
   ],
   "source": [
    "a=input(\"enter name: \")\n",
    "# b=[\"a\",\"e\",\"i\",\"o\",\"u\"]\n",
    "cnt=0\n",
    "for i in a:\n",
    "    if i in (\"a\",\"e\",\"i\",\"o\",\"u\"):\n",
    "        cnt+=1\n",
    "print(cnt)"
   ]
  },
  {
   "cell_type": "markdown",
   "metadata": {},
   "source": [
    "#### upper()"
   ]
  },
  {
   "cell_type": "code",
   "execution_count": 123,
   "metadata": {},
   "outputs": [
    {
     "name": "stdout",
     "output_type": "stream",
     "text": [
      "enter name: Hrishi\n",
      "There are total 1 character in Upper Case.\n"
     ]
    }
   ],
   "source": [
    "a=input(\"enter name: \")\n",
    "cnt=0\n",
    "for i in a:\n",
    "    if i.isupper():\n",
    "        cnt+=1\n",
    "print(f\"There are total {cnt} character in Upper Case.\")"
   ]
  },
  {
   "cell_type": "markdown",
   "metadata": {},
   "source": [
    "#### lower()"
   ]
  },
  {
   "cell_type": "code",
   "execution_count": 124,
   "metadata": {},
   "outputs": [
    {
     "name": "stdout",
     "output_type": "stream",
     "text": [
      "enter name: hrishi\n",
      "There are total 6 character in Lower Case.\n"
     ]
    }
   ],
   "source": [
    "a=input(\"enter name: \")\n",
    "cnt=0\n",
    "for i in a:\n",
    "    if i.islower():\n",
    "        cnt+=1\n",
    "print(f\"There are total {cnt} character in Lower Case.\")"
   ]
  },
  {
   "cell_type": "markdown",
   "metadata": {},
   "source": [
    "#### List "
   ]
  },
  {
   "cell_type": "code",
   "execution_count": 125,
   "metadata": {},
   "outputs": [
    {
     "name": "stdout",
     "output_type": "stream",
     "text": [
      "[88, 99, 77, 66, 55, 45]\n"
     ]
    }
   ],
   "source": [
    "a=[88,99,77,66,55]\n",
    "a.append(45)\n",
    "print(a)"
   ]
  },
  {
   "cell_type": "code",
   "execution_count": 130,
   "metadata": {},
   "outputs": [
    {
     "name": "stdout",
     "output_type": "stream",
     "text": [
      "There are total 3 even nos:  [12, 14, 2]\n",
      "There are total 3 odd nos [1, 15, 19]\n"
     ]
    }
   ],
   "source": [
    "#wap which will seperate even elements in even list and\n",
    "# odd element in odd list\n",
    "mydata=[1,12,14,2,15,19]\n",
    "even=[]\n",
    "odd=[]\n",
    "for i in mydata:\n",
    "    if i%2==0:\n",
    "        even.append(i)\n",
    "    else:\n",
    "        odd.append(i)\n",
    "print(f\"There are total {len(even)} even nos: \",even)\n",
    "print(f\"There are total {len(odd)} odd nos\",odd)"
   ]
  },
  {
   "cell_type": "code",
   "execution_count": 3,
   "metadata": {},
   "outputs": [
    {
     "name": "stdout",
     "output_type": "stream",
     "text": [
      "enter name: hrishi\n",
      "h r i s h i "
     ]
    }
   ],
   "source": [
    "name=input(\"enter name: \")\n",
    "for i in range(len(name)):\n",
    "    print(name[i],end=\" \")"
   ]
  },
  {
   "cell_type": "code",
   "execution_count": 5,
   "metadata": {},
   "outputs": [
    {
     "name": "stdout",
     "output_type": "stream",
     "text": [
      "[100, 200, 3000, 400, 600, 8521]\n"
     ]
    }
   ],
   "source": [
    "a=[100,200,3000,400,600]\n",
    "(a.append(8521))\n",
    "print(a)"
   ]
  },
  {
   "cell_type": "code",
   "execution_count": 6,
   "metadata": {},
   "outputs": [
    {
     "name": "stdout",
     "output_type": "stream",
     "text": [
      "enter how many elements you want: 4\n",
      "enter element: 153\n",
      "enter element: hrishi\n",
      "enter element: 256\n",
      "enter element: hello\n",
      "['153', 'hrishi', '256', 'hello']\n"
     ]
    }
   ],
   "source": [
    "a=[]\n",
    "b=int(input(\"enter how many elements you want: \"))\n",
    "for i in range(b):\n",
    "    a.append(input(\"enter element: \"))\n",
    "print(a)"
   ]
  },
  {
   "cell_type": "code",
   "execution_count": 12,
   "metadata": {},
   "outputs": [
    {
     "name": "stdout",
     "output_type": "stream",
     "text": [
      "enter how many elements you want: 3\n",
      "\n",
      "1. for integer\n",
      "2. for String\n",
      "3. for float:\n",
      " 1\n",
      "enter no: 256\n",
      "\n",
      "1. for integer\n",
      "2. for String\n",
      "3. for float:\n",
      " 2\n",
      "enter String: hey\n",
      "\n",
      "1. for integer\n",
      "2. for String\n",
      "3. for float:\n",
      " 3\n",
      "enter float no: 12.3\n",
      "here is your list:  [256, 'hey', 12.3]\n"
     ]
    }
   ],
   "source": [
    "a=[]\n",
    "b=int(input(\"enter how many elements you want: \"))\n",
    "for i in range(b):\n",
    "    c=int(input(\"\\n1. for integer\\n2. for String\\n3. for float:\\n \"))\n",
    "    if c==1:\n",
    "        a.append(int(input(\"enter no: \")))\n",
    "    elif c==2:\n",
    "        a.append(input(\"enter String: \"))\n",
    "    elif c==3: \n",
    "        a.append(float(input(\"enter float no: \")))\n",
    "    else:\n",
    "        print(\"invalid input\")\n",
    "print(\"here is your list: \",a)"
   ]
  },
  {
   "cell_type": "raw",
   "metadata": {},
   "source": [
    "pattern Programming remaining \n",
    "wap max \n",
    "wap min\n"
   ]
  },
  {
   "cell_type": "code",
   "execution_count": null,
   "metadata": {},
   "outputs": [],
   "source": []
  }
 ],
 "metadata": {
  "kernelspec": {
   "display_name": "Python 3",
   "language": "python",
   "name": "python3"
  },
  "language_info": {
   "codemirror_mode": {
    "name": "ipython",
    "version": 3
   },
   "file_extension": ".py",
   "mimetype": "text/x-python",
   "name": "python",
   "nbconvert_exporter": "python",
   "pygments_lexer": "ipython3",
   "version": "3.8.3"
  }
 },
 "nbformat": 4,
 "nbformat_minor": 4
}
