{
 "cells": [
  {
   "cell_type": "code",
   "execution_count": 1,
   "metadata": {},
   "outputs": [
    {
     "name": "stdout",
     "output_type": "stream",
     "text": [
      "Hello world\n",
      "hello world\n",
      "hello world\n",
      "h hello world\n"
     ]
    }
   ],
   "source": [
    "print(\"Hello world\")\n",
    "print(f\"{'hello world'}\")\n",
    "print(\"{} {}\".format('hello','world'))\n",
    "print('h %s' % 'hello world')"
   ]
  },
  {
   "cell_type": "markdown",
   "metadata": {},
   "source": [
    "# Print statement "
   ]
  },
  {
   "cell_type": "code",
   "execution_count": 2,
   "metadata": {},
   "outputs": [
    {
     "name": "stdout",
     "output_type": "stream",
     "text": [
      "1) addition of a+b:  30\n",
      "2) Addition of 10+20 = 30\n",
      "3) Addition of 10 + 20 = 30\n",
      "4) Addition of a and b 30\n",
      "1) concatenatoin of c and d= rohitgarud\n",
      "addition of c and d = rohit garud\n",
      "4) addition of rohit + garud=rohitgarud\n",
      "5) Addition of c and d rohitgarud\n"
     ]
    }
   ],
   "source": [
    "a=10\n",
    "b=20\n",
    "print(\"1) addition of a+b: \",a+b)\n",
    "print(f\"2) Addition of {a}+{b} = {a+b}\")\n",
    "print(\"3) Addition of {} + {} = {}\".format(a,b,a+b))\n",
    "print(\"4) Addition of a and b %d\" % (a+b))\n",
    "\n",
    "\n",
    "c=\"rohit\"\n",
    "d=\"garud\"\n",
    "print(\"1) concatenatoin of c and d=\",c+d)\n",
    "print(f\"addition of c and d = {c+' '+d}\")\n",
    "print(\"4) addition of {} + {}={}\".format(c,d,c+d))\n",
    "print(\"5) Addition of c and d %s\"% (c+d))"
   ]
  },
  {
   "cell_type": "markdown",
   "metadata": {},
   "source": [
    "# Type and len of data "
   ]
  },
  {
   "cell_type": "code",
   "execution_count": 3,
   "metadata": {},
   "outputs": [
    {
     "name": "stdout",
     "output_type": "stream",
     "text": [
      "<class 'str'>\n",
      "5\n",
      "<class 'int'>\n",
      "<class 'float'>\n",
      "<class 'tuple'>\n",
      "5\n",
      "<class 'tuple'>\n",
      "6\n",
      "<class 'list'>\n",
      "6\n",
      "<class 'set'>\n",
      "6\n",
      "<class 'tuple'>\n",
      "1\n",
      "<class 'dict'>\n",
      "4\n"
     ]
    }
   ],
   "source": [
    "a=\"rohit\"\n",
    "print(type(a))\n",
    "print(len(a))\n",
    "b=10\n",
    "print(type(b))\n",
    "\n",
    "\n",
    "c=10.5\n",
    "print(type(c))\n",
    "\n",
    "d=1,2,3,4,'rohit'\n",
    "print(type(d))\n",
    "print(len(d))\n",
    "\n",
    "l=(1,2,1,3,6,'rohit')\n",
    "print(type(l))\n",
    "print(len(l))\n",
    "\n",
    "e=[5,'rohit',6,\"$\",7,6]\n",
    "print(type(e))\n",
    "print(len(e))\n",
    "\n",
    "f={1,2,5,3,2,14,1,5,9}\n",
    "print(type(f))\n",
    "print(len(f))\n",
    "\n",
    "g=1,\n",
    "print(type(g))\n",
    "print(len(g))\n",
    "\n",
    "h={\"name\":\"rohit\",1:2,1.5:3,\"age\":25}\n",
    "print(type(h))\n",
    "\n",
    "print(len(h))"
   ]
  },
  {
   "cell_type": "markdown",
   "metadata": {},
   "source": [
    "# 1) Arithrmatic operations "
   ]
  },
  {
   "cell_type": "markdown",
   "metadata": {},
   "source": [
    "## Addition operator "
   ]
  },
  {
   "cell_type": "code",
   "execution_count": null,
   "metadata": {},
   "outputs": [
    {
     "name": "stdout",
     "output_type": "stream",
     "text": [
      "1) Addition of a and b= 30\n",
      "Addition of10+20=30 \n",
      "addition of 10 + 20 = 30\n",
      "Additon of 10+20=30\n"
     ]
    }
   ],
   "source": [
    "a=10\n",
    "b=20\n",
    "print(\"1) Addition of a and b=\",a+b)\n",
    "print(f\"Addition of{a}+{b}={a+b} \")\n",
    "print(\"addition of %d\"%(a),'+',(b),'=',(a+b))\n",
    "print(\"Additon of {}+{}={}\".format(a,b,a+b))\n",
    "\n",
    "aa=int(input(\"Enter Number aa:\"))\n",
    "bb=int(input(\"Enter Number bb:\"))\n",
    "print(f\"addition {aa+bb}\")"
   ]
  },
  {
   "cell_type": "markdown",
   "metadata": {},
   "source": [
    "## Subtraction operator "
   ]
  },
  {
   "cell_type": "code",
   "execution_count": null,
   "metadata": {},
   "outputs": [],
   "source": [
    "c=10\n",
    "d=5\n",
    "print(\"Subtraction of \",c,'-',d,'=',c-d)\n",
    "print(f\"Subtraction of {c}-{d}={c-d}\")\n",
    "print(\"Subtraction of c-d %d\"% (c-d))\n",
    "print(\"Subtraction of {}-{}={}\".format(c,d,c-d))"
   ]
  },
  {
   "cell_type": "markdown",
   "metadata": {},
   "source": [
    "## Multiplication operator "
   ]
  },
  {
   "cell_type": "code",
   "execution_count": 1,
   "metadata": {},
   "outputs": [
    {
     "name": "stdout",
     "output_type": "stream",
     "text": [
      "Multiplication of 5*3=15\n",
      "Multiplication of 5*3=15\n",
      "Multiplication of  5 * 3 = 15\n"
     ]
    },
    {
     "ename": "NameError",
     "evalue": "name 'd' is not defined",
     "output_type": "error",
     "traceback": [
      "\u001b[1;31m---------------------------------------------------------------------------\u001b[0m",
      "\u001b[1;31mNameError\u001b[0m                                 Traceback (most recent call last)",
      "\u001b[1;32m<ipython-input-1-900323af34ff>\u001b[0m in \u001b[0;36m<module>\u001b[1;34m\u001b[0m\n\u001b[0;32m      4\u001b[0m \u001b[0mprint\u001b[0m\u001b[1;33m(\u001b[0m\u001b[1;34mf\"Multiplication of {e}*{f}={e*f}\"\u001b[0m\u001b[1;33m)\u001b[0m\u001b[1;33m\u001b[0m\u001b[1;33m\u001b[0m\u001b[0m\n\u001b[0;32m      5\u001b[0m \u001b[0mprint\u001b[0m\u001b[1;33m(\u001b[0m\u001b[1;34m\"Multiplication of \"\u001b[0m\u001b[1;33m,\u001b[0m\u001b[0me\u001b[0m\u001b[1;33m,\u001b[0m\u001b[1;34m\"*\"\u001b[0m\u001b[1;33m,\u001b[0m\u001b[0mf\u001b[0m\u001b[1;33m,\u001b[0m\u001b[1;34m\"=\"\u001b[0m\u001b[1;33m,\u001b[0m\u001b[0me\u001b[0m\u001b[1;33m*\u001b[0m\u001b[0mf\u001b[0m\u001b[1;33m)\u001b[0m\u001b[1;33m\u001b[0m\u001b[1;33m\u001b[0m\u001b[0m\n\u001b[1;32m----> 6\u001b[1;33m \u001b[0mprint\u001b[0m\u001b[1;33m(\u001b[0m\u001b[1;34m\"Multiplication of %d\"\u001b[0m\u001b[1;33m%\u001b[0m \u001b[1;33m(\u001b[0m\u001b[0md\u001b[0m\u001b[1;33m)\u001b[0m\u001b[1;33m,\u001b[0m\u001b[1;34m\"*\"\u001b[0m\u001b[1;33m,\u001b[0m\u001b[1;33m(\u001b[0m\u001b[0mf\u001b[0m\u001b[1;33m)\u001b[0m\u001b[1;33m,\u001b[0m\u001b[1;34m\"=\"\u001b[0m\u001b[1;33m,\u001b[0m\u001b[1;33m(\u001b[0m\u001b[0md\u001b[0m\u001b[1;33m*\u001b[0m\u001b[0mf\u001b[0m\u001b[1;33m)\u001b[0m\u001b[1;33m)\u001b[0m\u001b[1;33m\u001b[0m\u001b[1;33m\u001b[0m\u001b[0m\n\u001b[0m\u001b[0;32m      7\u001b[0m \u001b[1;33m\u001b[0m\u001b[0m\n\u001b[0;32m      8\u001b[0m \u001b[0mee\u001b[0m\u001b[1;33m=\u001b[0m\u001b[0mint\u001b[0m\u001b[1;33m(\u001b[0m\u001b[0minput\u001b[0m\u001b[1;33m(\u001b[0m\u001b[1;34m\"Enter Number\"\u001b[0m\u001b[1;33m)\u001b[0m\u001b[1;33m)\u001b[0m\u001b[1;33m\u001b[0m\u001b[1;33m\u001b[0m\u001b[0m\n",
      "\u001b[1;31mNameError\u001b[0m: name 'd' is not defined"
     ]
    }
   ],
   "source": [
    "e=5\n",
    "f=3\n",
    "print(\"Multiplication of {}*{}={}\".format(e,f,e*f))\n",
    "print(f\"Multiplication of {e}*{f}={e*f}\")\n",
    "print(\"Multiplication of \",e,\"*\",f,\"=\",e*f)\n",
    "print(\"Multiplication of %d\"% (d),\"*\",(f),\"=\",(d*f))\n",
    "\n",
    "ee=int(input(\"Enter Number\"))\n",
    "ff=int(input(\"Enter Number\"))\n",
    "print(f\"Multiplication of {ee}*{ff}={ee*ff}\")"
   ]
  },
  {
   "cell_type": "markdown",
   "metadata": {},
   "source": [
    "## Division operator "
   ]
  },
  {
   "cell_type": "code",
   "execution_count": null,
   "metadata": {},
   "outputs": [],
   "source": [
    "g=6\n",
    "h=3\n",
    "print(\"Division of {}*{}={}\".format(g,h,g/h))\n",
    "print(f\"Division of {g}/{h}={g/h}\")\n",
    "print(\"Division of g/h=\",g/h)\n",
    "print(\"Division of %d\"%g,\"/\",h,\"=\",(g/h))\n",
    "\n",
    "# print(10/0)  #any non zero number divided by 0 will give zero division error"
   ]
  },
  {
   "cell_type": "markdown",
   "metadata": {},
   "source": [
    "## Floor division "
   ]
  },
  {
   "cell_type": "code",
   "execution_count": null,
   "metadata": {},
   "outputs": [],
   "source": [
    "i=22\n",
    "j=7\n",
    "print(i/j)    #division\n",
    "print(f\"floor division of {i}//{j}={i//j}\")    #floor Division gives whole number ie number before decimal\n",
    "print(\"Floor Division {}//{}={}\".format(i,j,i//j))\n",
    "print(\"floor division %d\"% (i),\"//\",(j),\"=\",(i//j))"
   ]
  },
  {
   "cell_type": "markdown",
   "metadata": {},
   "source": [
    "## modulus operator"
   ]
  },
  {
   "cell_type": "code",
   "execution_count": null,
   "metadata": {},
   "outputs": [],
   "source": [
    "o=12\n",
    "k=5\n",
    "print(\"Modulus {}%{}={}\".format(o,k,o%k))  #gives remainder \n",
    "print(f\"modulus {10}%{3}={10%3}\")\n",
    "print(\"modulus of o and k = %d\"%(o%k))\n",
    "print(\"Modulus of o and k\",o//k)"
   ]
  },
  {
   "cell_type": "markdown",
   "metadata": {},
   "source": [
    "# 2) Assignment operators\n",
    "- assignment operator assigns values from right to left\n",
    "- normal      --> a=a+10\n",
    "- short hand  --> a+=10"
   ]
  },
  {
   "cell_type": "code",
   "execution_count": null,
   "metadata": {},
   "outputs": [],
   "source": [
    "n=5\n",
    "n+=10\n",
    "print(n)\n",
    "n-=10\n",
    "print(n)\n",
    "n*=5\n",
    "print(n)\n",
    "n/=7\n",
    "print(n)\n",
    "n//=2\n",
    "print(n)\n",
    "n%=1\n",
    "print(n)"
   ]
  },
  {
   "cell_type": "markdown",
   "metadata": {},
   "source": [
    "# 3) Comparision operator "
   ]
  },
  {
   "cell_type": "code",
   "execution_count": null,
   "metadata": {},
   "outputs": [],
   "source": [
    "a=10\n",
    "b=5\n",
    "print(a>b)\n",
    "print(a<b)\n",
    "print(a>=b)\n",
    "print(a<=b)\n",
    "print(a==b)\n",
    "print(a!=b)"
   ]
  },
  {
   "cell_type": "code",
   "execution_count": null,
   "metadata": {},
   "outputs": [],
   "source": [
    "p=10\n",
    "l=4\n",
    "print(p>l)\n",
    "print(p<l)\n",
    "print(l<p)\n",
    "print(l>p)\n",
    "\n",
    "k=10\n",
    "print(k>=p)\n",
    "print(k<=p)"
   ]
  },
  {
   "cell_type": "markdown",
   "metadata": {},
   "source": [
    "# 4) Logical operator \n",
    "- logical operator has and, or, not\n"
   ]
  },
  {
   "cell_type": "markdown",
   "metadata": {},
   "source": [
    "### and operator\n",
    "- and operator will always returns y,it returns x only if x is 0\n",
    "- in and operators both values should be true "
   ]
  },
  {
   "cell_type": "code",
   "execution_count": null,
   "metadata": {},
   "outputs": [],
   "source": [
    "a=100\n",
    "b=20\n",
    "print(a and b)\n",
    "print(True and False)\n",
    "print(True and True)\n",
    "print(False and False)\n",
    "print(False and True)\n",
    "print(0 and 1)\n",
    "print(1 and 10)\n",
    "print(10 and 1)\n",
    "print(10 and 0)"
   ]
  },
  {
   "cell_type": "markdown",
   "metadata": {},
   "source": [
    "### or operator \n",
    "- any one values should be true\n",
    "- it will return x when  x is true, or else it will return y"
   ]
  },
  {
   "cell_type": "code",
   "execution_count": null,
   "metadata": {},
   "outputs": [],
   "source": [
    "p=10\n",
    "l=5\n",
    "print(10 or 5)\n",
    "print(5 or 10)\n",
    "print(0 or 20)\n",
    "print(30 or 0)\n",
    "print(0 or 0)\n",
    "\n",
    "print(True or False)\n",
    "print(True or True)\n",
    "print(False or False)\n",
    "print(False or True)"
   ]
  },
  {
   "cell_type": "markdown",
   "metadata": {},
   "source": [
    "### not operator "
   ]
  },
  {
   "cell_type": "code",
   "execution_count": null,
   "metadata": {},
   "outputs": [],
   "source": [
    "print(not True)\n",
    "print(not False)\n",
    "print(not 10)\n",
    "print(not 0)"
   ]
  },
  {
   "cell_type": "code",
   "execution_count": null,
   "metadata": {},
   "outputs": [],
   "source": [
    "age=int(input(\"Enter Your Age\"))\n",
    "nationality=input(\"Enter Nationality\")\n",
    "if age>=18:\n",
    "    if nationality == \"indian\" or nationality== \"Indian\":\n",
    "        print(\"Eligible for voting\")\n",
    "    else:\n",
    "        print(\"NRI\")\n",
    "else:\n",
    "    print(\"Age is less than 18\")\n",
    "        "
   ]
  },
  {
   "cell_type": "code",
   "execution_count": null,
   "metadata": {},
   "outputs": [],
   "source": [
    "marks=int(input(\"Enter Your Marks: \"))\n",
    "if marks >=80 and marks<=100:\n",
    "    print(\"Got A Grade\")\n",
    "elif marks >=60 and marks<=80:\n",
    "    print(\"Got B grade\")\n",
    "elif marks >=50 and marks<=60:\n",
    "    print(\"Got C Grade\")\n",
    "elif marks>=35 and marks<=50:\n",
    "    print(\"Got D grade\")\n",
    "else:\n",
    "    print(\"Fail\")"
   ]
  },
  {
   "cell_type": "markdown",
   "metadata": {},
   "source": [
    "### Find the length of  various datatypes"
   ]
  },
  {
   "cell_type": "code",
   "execution_count": null,
   "metadata": {},
   "outputs": [],
   "source": [
    "a=\"rohit Shashikant garud\"\n",
    "print(len(a))\n",
    "\n",
    "b=1,\n",
    "print(len(b))\n",
    "\n",
    "c=(1,\"rohit\",1.5,20,1,2,3)\n",
    "print(len(c))\n",
    "\n",
    "d={1,\"rohit\",1,\"rohit\",2.5,2,3,4,5}\n",
    "print(len(d))\n",
    "\n",
    "f={\"name\":\"rohit\",1:2,1.5:2,\"name\":\"rohit\",1.55:2}\n",
    "print(len(f))\n",
    "\n",
    "f=1.5\n",
    "# print(len(f))   #length of sequential object can only be find"
   ]
  },
  {
   "cell_type": "markdown",
   "metadata": {},
   "source": [
    "### Special operator\n",
    "- special operator consists of identity and membership operator\n",
    "- identity operator has is , is not\n",
    "- membership operator has in , not in"
   ]
  },
  {
   "cell_type": "markdown",
   "metadata": {},
   "source": [
    "#### Identity operator is, is not\n",
    "- identity operator checks as per the memory location value\n",
    "- it only supports variable, does not support sequential object"
   ]
  },
  {
   "cell_type": "code",
   "execution_count": null,
   "metadata": {},
   "outputs": [],
   "source": [
    "o=\"rohit\"\n",
    "m=\"rohit\"\n",
    "print(o is m)\n",
    "print(m is o)\n",
    "print(id(m))\n",
    "print(id(m),\"\\n\")\n",
    "\n",
    "j=\"rohit\"\n",
    "g=\"r\"\n",
    "print(g is j)\n",
    "print(id(j))\n",
    "print(id(g),\"\\n\")\n",
    "\n",
    "p=\"rohit Shashikant garud\"\n",
    "l=\"rohit Shashikant garud\"  #Does not Suppport string  with spaces\n",
    "print(p is l)\n",
    "print(id(p))\n",
    "print(id (l),\"\\n\")\n",
    "\n",
    "i=1\n",
    "k=1\n",
    "print(i is k)\n",
    "print(id (i))\n",
    "print(id(k))"
   ]
  },
  {
   "cell_type": "markdown",
   "metadata": {},
   "source": [
    "#### membership operator \n",
    "- membership operator check where the nuber or string is present in the sequence\n",
    "- membership operator supports list, dictionary, tuples,sets"
   ]
  },
  {
   "cell_type": "code",
   "execution_count": null,
   "metadata": {},
   "outputs": [],
   "source": [
    "p=[1,2,\"rohit\",\"garud\",1,2]\n",
    "l=\"rohit\" \n",
    "print(\"L in p\",l in p,\"\\n\")\n",
    "\n",
    "k=\"garud\"\n",
    "print(\"K in p: \",k in p,\"\\n\")\n",
    "\n",
    "i=\"shashikant\"\n",
    "print(\"I in P\",i in p,\"\\n\")\n",
    "\n",
    "e=\"s\"\n",
    "print(\"E in I: \",e in i)"
   ]
  },
  {
   "cell_type": "code",
   "execution_count": null,
   "metadata": {},
   "outputs": [],
   "source": [
    "lst=[1,2,3,\"Rohit\",\"Garud\"]\n",
    "i=1\n",
    "print(\"i in lst: \",i in lst,\"\\n\")\n",
    "\n",
    "j=\"R\"\n",
    "print(\"j in lst: \",j in lst,\"\\n\")\n",
    "\n",
    "h=\"Rohit\"\n",
    "print(\"h in lst: \",h in lst,\"\\n\")"
   ]
  },
  {
   "cell_type": "code",
   "execution_count": null,
   "metadata": {},
   "outputs": [],
   "source": [
    "tpl=(1,2,3,\"Rohit\")\n",
    "p=\"Rohit\"\n",
    "print(\"P in tpl :\",p in tpl,\"\\n\")\n",
    "\n",
    "s=1\n",
    "print(\"S in tpl :\",s in tpl,\"\\n\")\n",
    "\n",
    "a=1.2\n",
    "print(\"a i tpl: \",a in tpl,\"\\n\")"
   ]
  },
  {
   "cell_type": "code",
   "execution_count": null,
   "metadata": {},
   "outputs": [],
   "source": [
    "#only key can be searched in identity operator\n",
    "dct={\"name\":\"rohit\",1:2,\"age\":25,\"name\":\"riddhi\"}\n",
    "print(dct)\n",
    "p=\"name\"\n",
    "print(\"p in dct: \",p in dct,\"\\n\")\n",
    "\n",
    "l=\"rohit\"\n",
    "print(\"l in dct: \", l in dct,\"\\n\")\n",
    "\n",
    "m=2\n",
    "print(\"m in dct: \",m in dct,\"\\n\")\n",
    "\n",
    "i=1\n",
    "print(\"i in dct: \",i in dct)"
   ]
  },
  {
   "cell_type": "markdown",
   "metadata": {},
   "source": [
    "## Data type:\n",
    "- string = collection of character is called as string. Indexing, slicing allowded.  Strings are Immutable, ordered\n",
    "- numbers=  can be integer 10, float 10.5, complex 10j.  Immutable\n",
    "- tuple- Tuples are enclosed in round bracket. Tuples are hetrogenous ie (int,float,string). Empty tuple () just round bracket. Single element in tuple (1,) value followed by comma. Indexing, Slicing allowded. Ordered,Immutable.\n",
    "- list- list are enclosed in [] square bracket. Can store Hetrogenous data. Indexing, Slicing, allowded. Muttable,ordered. Empty list[] just square brackets.\n",
    "- dictionary- Follows keys and value pattern. Dictionary are enclosed in {} curly braces. Data is hetrogenous. Key should be unique and values can be repeated. Ordered, muttable. Indexing  and slicing not allowded. but indexing can be done by converting it to list and doing indexing.\n",
    "- set- set are enclosed in {}curly braces. Sets does not allows duplicate values. Sets are unordered,immutable.indexing and slicing not allowded."
   ]
  },
  {
   "cell_type": "markdown",
   "metadata": {},
   "source": [
    "#####  1)String\n",
    "- String is  a collection of character.\n",
    "- Single line String are enclosed in \"\",'' Single/ Double quote.\n",
    "- Multiple line string are enclosed on \"\"\" \"\"\",''' ''' Single/ double triple quote\n",
    "- String are immutable,ordered. \n",
    "- Indexing and slicing are allowded.\n"
   ]
  },
  {
   "cell_type": "code",
   "execution_count": null,
   "metadata": {},
   "outputs": [],
   "source": [
    "#Indexing and slicing\n",
    "print(\"** Indexing and slicing\")\n",
    "a=\"rohit\"\n",
    "print(\"Indexing a[1]:\",a[1])\n",
    "print(\"Indexing a[-1]:\",a[-1])\n",
    "print(\"Slicing a[2:-1]:\",a[2:])\n",
    "print(\"Slicing a[::-1]: \",a[::-1])      #reverse of String  #a[start:end-1:step]\n",
    "print(\"Slicing a[-1::-1]: \",a[-1::-1],\"\\n\")   #reverse of string\n",
    "\n",
    "\n",
    "#concatenation\n",
    "print(\"** Concatenation\")\n",
    "a=\"rohit\"\n",
    "b=\"garud\"\n",
    "print(\"1)\",a+b)\n",
    "\n",
    "#string along with integer using .format\n",
    "age=25\n",
    "name=\"Rohit Garud\"\n",
    "roll=433\n",
    "a=\"My name is {} and roll {} and age is {}\".format(name,roll,age)\n",
    "print(f\"My name is {name} and age is {age}\")\n",
    "print(a,\"\\n\")\n",
    "\n",
    "\n",
    "\n",
    "#string along with integer using .format\n",
    "a=10\n",
    "b=\"rohit\"\n",
    "print(\"2) My name is {} {}\".format(b,a),\"\\n\")\n",
    "\n",
    "\n",
    "#length \n",
    "print(\"**Length\")\n",
    "# print(len(a))\n",
    "print(len(b),\"\\n\")\n",
    "\n",
    "#type\n",
    "print(\"**Data Type\")\n",
    "print(type(a))"
   ]
  },
  {
   "cell_type": "code",
   "execution_count": null,
   "metadata": {},
   "outputs": [],
   "source": [
    "#Using membership operator in string\n",
    "p=\"rohit Shashikant\"\n",
    "l=\"r\"\n",
    "print(\"l in p:\",l in p,\"\\n\")\n",
    "\n",
    "t=\"rohit\"\n",
    "print(\"t in p\",t in p,\"\\n\")\n",
    "\n",
    "m=\"hit\"\n",
    "print(\"m in p:\",m in p,\"\\n\")\n",
    "\n",
    "n=\"ht\"\n",
    "print(\"n in p: \",n in p,\"\\n\")"
   ]
  },
  {
   "cell_type": "markdown",
   "metadata": {},
   "source": [
    "#### Type Specific methods in string\n",
    "- 1)find()    =find the first occurance of the element/item\n",
    "- 2)replace() = replace the existing character/ word  with new word\n",
    "- 3)count()   = count gives the total recurrence of the element\n",
    "- 4)max()     =give the max alphabet from the string\n",
    "- 5)min()     =min gives the min alphabet from the string. min does not works on the string which has spaces in between words\n",
    "- 6)lower()   =converts whole string to lower case.\n",
    "- 7)upper()   =converts whole string to upper case.\n",
    "- 8)isalnum() =check whether string contains alphabet as well as numbers. gives result in boolean"
   ]
  },
  {
   "cell_type": "code",
   "execution_count": null,
   "metadata": {},
   "outputs": [],
   "source": [
    "n=\"Rohit Shashikant Garud\"\n",
    "print(n.find(\"h\"))\n",
    "print(n.rfind(\"h\"))\n",
    "print(n.find(n[7]))\n",
    "print(n.replace(\"Rohit\",\"Sonu\"))\n",
    "print(n.replace(\"a\",\"@\",2))  #it will only change first 2 a with @\n",
    "print(n.count(\"h\"))\n",
    "print(n.count(\"Rohit\"))\n",
    "print(n.count(\" \"))\n",
    "print(n.lower())\n",
    "print(n.upper())\n",
    "print(max(n))\n",
    "\n",
    "n=\"RohitShashikantGarud\"\n",
    "print(min(n))\n",
    "print(n.isalnum()) #isalnum,isalpha,min only works with without spaces\n",
    "print(n.isalpha())\n",
    "age=25\n",
    "print(\"my name is {} and age is {}\".format(p,age))\n",
    "roll=433\n",
    "print(\"My Name is {} and age is {} and roll no is {}\".format(p,age,roll))\n"
   ]
  },
  {
   "cell_type": "markdown",
   "metadata": {},
   "source": [
    "#### 2)Numbers\n",
    "- numbers can be integer 10\n",
    "- numbers can be float 10.5\n",
    "- number can be complex 10j real+imajinary"
   ]
  },
  {
   "cell_type": "code",
   "execution_count": null,
   "metadata": {},
   "outputs": [],
   "source": [
    "a=10\n",
    "b=10.5\n",
    "c=10j\n",
    "d=10.5j\n",
    "e=10+10.5j\n",
    "print(type(a))\n",
    "print(type(b))\n",
    "print(type(c))\n",
    "print(type(d))\n",
    "print(type(e))"
   ]
  },
  {
   "cell_type": "markdown",
   "metadata": {},
   "source": [
    "#### Numbers with identity operator\n",
    "- identity operator only works with integer.\n",
    "- identity operator does not works with Decimal,complex"
   ]
  },
  {
   "cell_type": "code",
   "execution_count": null,
   "metadata": {},
   "outputs": [],
   "source": [
    "print(\"**Integer/Whole Number\")\n",
    "a=10\n",
    "b=10\n",
    "print(\"a is b: \",a is b,\"\\n\")\n",
    "\n",
    "f=\"rohit\"\n",
    "u=\"rohit\"\n",
    "print(\"f is u: \",f is u,\"\\n\")\n",
    "\n",
    "c=\"Rohit\"\n",
    "print(\"c is f: \",c is f,\"\\n\")\n",
    "\n",
    "print(\"**Decimal/float number\")\n",
    "d=10.5    #indetity does not works with float/decimal numbers\n",
    "h=10.5\n",
    "print(id(d))\n",
    "print(id(h))\n",
    "print(\"d is h: \",h is d,\"\\n\")\n",
    "\n",
    "print(\"**Complex Number\")\n",
    "r=1j\n",
    "t=1j\n",
    "print(r is t)     #indetity does not works with Complex number"
   ]
  },
  {
   "cell_type": "markdown",
   "metadata": {},
   "source": [
    "#### 3)Tuples\n",
    "- Tuples are enclosed in round brackets ().\n",
    "- can hold heterogenous data inside tuple\n",
    "- Empty tuple () just round bracket.\n",
    "- Tuple with single element a=(1,)  or a=1,\n",
    "- tuples are ordered,immutable.\n",
    "- indexing and slicing is allowded.\n",
    "- duplicate values/items are allowded in tuples.\n",
    "- using indexing elements inside the tuple cant be changed but whole tuple can be changed\n"
   ]
  },
  {
   "cell_type": "code",
   "execution_count": null,
   "metadata": {},
   "outputs": [],
   "source": [
    "#- using indexing elements inside the tuple cant be changed but whole tuple can be changed\n",
    "t=(1,2,3)\n",
    "print(t[0])\n",
    "# t[0]=\"111\"  #here it will throw error tuple' object does not support item assignmen\n",
    "print(t)\n",
    "\n",
    "#but complete tuple can be changed\n",
    "t=(44,55,66)\n",
    "print(t)"
   ]
  },
  {
   "cell_type": "code",
   "execution_count": null,
   "metadata": {},
   "outputs": [],
   "source": [
    "#Indexing and Slicing\n",
    "tup=(1,2,3,1,\"Rohit\",\"Rohit\")\n",
    "print(\"**Indexing and Slicing\")\n",
    "print(\"Indexing tup[0]:       \",tup[0])\n",
    "print(\"Indexing tup[-1]:      \",tup[-1])\n",
    "print(\"Indexing tup[3]:       \",tup[3])\n",
    "print(\"Slicing tup[0:3]:      \",tup[0:3])\n",
    "print(\"Slicing tup[::-1]:     \",tup[::-1]) #reverse of tuple\n",
    "print(\"Slicing tup[-1::-1]:   \",tup[-1::-1],\"\\n\",\"\\n\")  #reverse of tuple\n",
    "\n",
    "\n",
    "#Concatenation\n",
    "print(\"**Concatenation\")\n",
    "tup=(1,2,3,1,\"Rohit\")\n",
    "t=(11,12,13)\n",
    "o=(\"Shashikant\",\"Garud\")\n",
    "print(tup+t)\n",
    "print(tup+o,\"\\n\",\"\\n\")\n",
    "\n",
    "\n",
    "#Repetation\n",
    "print(\"**Repetation\")\n",
    "print(t*2)\n",
    "print(tup*2,\"\\n\",\"\\n\")\n",
    "\n",
    "\n",
    "#Length ot tuple\n",
    "print(\"**Length of Tuple\")\n",
    "print(len(t))\n",
    "print(len(tup),\"\\n\")\n",
    "\n",
    "\n",
    "#data type\n",
    "print(\"**Data Type\")\n",
    "print(type(t))\n",
    "print(type(tup))"
   ]
  },
  {
   "cell_type": "markdown",
   "metadata": {},
   "source": [
    "#### Tuple with membership operator"
   ]
  },
  {
   "cell_type": "code",
   "execution_count": null,
   "metadata": {},
   "outputs": [],
   "source": [
    "tp=(1,2,3,\"Rohit\",\"Shashikant\",\"Garud\")\n",
    "p=\"Shashikant\"\n",
    "print(\"p in tp: \",p in tp,\"\\n\")\n",
    "\n",
    "r=2\n",
    "print(\"r in tp: \",r in tp,\"\\n\")\n",
    "\n",
    "q=\"S\"\n",
    "print(\"q in tp: \",q in tp,\"\\n\")\n",
    "\n",
    "z=11\n",
    "print(\"z in tp: \",z in tp)"
   ]
  },
  {
   "cell_type": "markdown",
   "metadata": {},
   "source": [
    "#### Jugad of replacing elements from tuple\n",
    "- Replace/update or change is not allowded in tuple but we can do by doing jugad converting it to list replacing it and again converting to tuple"
   ]
  },
  {
   "cell_type": "code",
   "execution_count": null,
   "metadata": {},
   "outputs": [],
   "source": [
    "#JUGAD of replacing elements of tuples\n",
    "t=(1,2,3)\n",
    "s=list(t)\n",
    "print(s)\n",
    "s[0]=\"Changed\"\n",
    "print(s)\n",
    "t=tuple(s)\n",
    "print(t)\n"
   ]
  },
  {
   "cell_type": "code",
   "execution_count": null,
   "metadata": {},
   "outputs": [],
   "source": [
    "#JUGAD of replacing elements of tuples\n",
    "a=(\"apple\",\"banana\",\"papaya\",\"pineapple\")\n",
    "print(a)\n",
    "print(type(a),\"\\n\")\n",
    "\n",
    "a=list(a)  #firstly converted tuple to list\n",
    "print(a)\n",
    "print(type(a),\"\\n\")\n",
    "\n",
    "a[0]=\"Changed\" #then chenged the elements using indexing\n",
    "print(a,\"\\n\")\n",
    "\n",
    "a=tuple(a)  #then changed the list to tuple\n",
    "print(a)"
   ]
  },
  {
   "cell_type": "markdown",
   "metadata": {},
   "source": [
    "#### Packing and Unpacking in tuple"
   ]
  },
  {
   "cell_type": "code",
   "execution_count": null,
   "metadata": {},
   "outputs": [],
   "source": [
    "fruit=(\"apple\",\"banana\",\"pineapple\")\n",
    "print(\"**After Unpacking\")\n",
    "a,b,c=fruit\n",
    "print(a)\n",
    "print(b)\n",
    "print(c,\"\\n\")\n",
    "\n",
    "print(\"** After Packing\")\n",
    "newtuple=()\n",
    "newtuple=a,b,c\n",
    "print(newtuple)"
   ]
  },
  {
   "cell_type": "markdown",
   "metadata": {},
   "source": [
    "#### For Loop in tuples"
   ]
  },
  {
   "cell_type": "code",
   "execution_count": null,
   "metadata": {},
   "outputs": [],
   "source": [
    "tpl=(1,2,3,5,\"Rohit\")\n",
    "for i in tpl:\n",
    "    print(i)"
   ]
  },
  {
   "cell_type": "code",
   "execution_count": null,
   "metadata": {},
   "outputs": [],
   "source": [
    "tpl=(1,2,3,5,\"Rohit\")\n",
    "for i in tpl:\n",
    "    print(tpl)"
   ]
  },
  {
   "cell_type": "code",
   "execution_count": null,
   "metadata": {},
   "outputs": [],
   "source": [
    "tpl=(1,2,3,5,\"Rohit\")\n",
    "for i in range(len(tpl)):\n",
    "    print(i)"
   ]
  },
  {
   "cell_type": "code",
   "execution_count": null,
   "metadata": {},
   "outputs": [],
   "source": [
    "tpl=(1,2,3,5,\"Rohit\")\n",
    "for i in range(len(tpl)):\n",
    "    print(tpl[i])"
   ]
  },
  {
   "cell_type": "code",
   "execution_count": null,
   "metadata": {},
   "outputs": [],
   "source": [
    "tpl=(1,2,3,5,\"Rohit\")\n",
    "for i in range(len(tpl)):\n",
    "    print(tpl)"
   ]
  },
  {
   "cell_type": "code",
   "execution_count": null,
   "metadata": {},
   "outputs": [],
   "source": [
    "tpl=(1,2,3,5,\"Rohit\")\n",
    "for i in range(0,5):\n",
    "    print(i)"
   ]
  },
  {
   "cell_type": "code",
   "execution_count": null,
   "metadata": {},
   "outputs": [],
   "source": [
    "tpl=(1,2,3,5,\"Rohit\")\n",
    "for i in range(0,5):\n",
    "    print(tpl[i])"
   ]
  },
  {
   "cell_type": "code",
   "execution_count": null,
   "metadata": {},
   "outputs": [],
   "source": [
    "tpl=(1,2,3,5,\"Rohit\")\n",
    "for i in range(0,5):\n",
    "    print(tpl)"
   ]
  },
  {
   "cell_type": "markdown",
   "metadata": {},
   "source": [
    "#### Using while Loop in tuple"
   ]
  },
  {
   "cell_type": "code",
   "execution_count": null,
   "metadata": {},
   "outputs": [],
   "source": [
    "tpl=(1,2,3,5,\"Rohit\")\n",
    "# print(len(tpl)) ---->5\n",
    "a=0\n",
    "while a<len(tpl):\n",
    "    print(a)\n",
    "    a+=1"
   ]
  },
  {
   "cell_type": "code",
   "execution_count": null,
   "metadata": {},
   "outputs": [],
   "source": [
    "tpl=(1,2,3,5,\"Rohit\")\n",
    "a=0\n",
    "while a<len(tpl):\n",
    "    print(tpl)\n",
    "    a+=1"
   ]
  },
  {
   "cell_type": "code",
   "execution_count": null,
   "metadata": {},
   "outputs": [],
   "source": [
    "tpl=(1,2,3,5,\"Rohit\")\n",
    "a=0\n",
    "while a < len(tpl):\n",
    "    print(tpl[a])\n",
    "    a+=1"
   ]
  },
  {
   "cell_type": "code",
   "execution_count": null,
   "metadata": {},
   "outputs": [],
   "source": [
    "tpl=(1,2,3,5,\"Rohit\")\n",
    "a=0\n",
    "while tpl:\n",
    "    print(tpl[a])\n",
    "    a+=1\n",
    "    if a==5:\n",
    "        break"
   ]
  },
  {
   "cell_type": "markdown",
   "metadata": {},
   "source": [
    "# Solve some for loop vala combinations "
   ]
  },
  {
   "cell_type": "code",
   "execution_count": null,
   "metadata": {},
   "outputs": [],
   "source": [
    "r=(\"rohit\",\"Shashikant\",\"garud\")\n",
    "for i in range(len(r)):\n",
    "    print(r[i][:])           "
   ]
  },
  {
   "cell_type": "markdown",
   "metadata": {},
   "source": [
    "# Solve some for loops vala combinations"
   ]
  },
  {
   "cell_type": "markdown",
   "metadata": {},
   "source": [
    "#### Type specific methods in tuples.\n",
    "- There are two methods in tuple.\n",
    "- Count()- IS used to count the total occurance of elements in tuple\n",
    "- index()- is used to find the first occurance index/position of the elements from the tuple.Index,len starts with one."
   ]
  },
  {
   "cell_type": "code",
   "execution_count": null,
   "metadata": {},
   "outputs": [],
   "source": [
    "tple=(1,2,1,3,\"rohit\",1,\"garud\")\n",
    "print(\"**COUNT()\")\n",
    "print(tple.count(1))\n",
    "print(tple.count(\"rohit\"))\n",
    "print(tple.count(\"r\"),\"\\n\")\n",
    "print(\"**Index()\")\n",
    "print(tple.index(3))\n",
    "print(tple.index(\"rohit\"))"
   ]
  },
  {
   "cell_type": "markdown",
   "metadata": {},
   "source": [
    "# List\n",
    "- List are the collection of items.\n",
    "- List are enclosed in square brackets[].\n",
    "- list can contains hetrogenous data.\n",
    "- List are ordered, muttable\n",
    "- Indexing and Slicing and duplicate values are allowded in list\n",
    "- Empty list [] just square brackets."
   ]
  },
  {
   "cell_type": "code",
   "execution_count": null,
   "metadata": {},
   "outputs": [],
   "source": [
    "# indexing and Slicing in list\n",
    "print(\"** Indexing and Slicing\")\n",
    "lst=[1,2,3,\"rohit\",\"garud\",1,2,11.5,12.5]\n",
    "print(\"lst[-1]: \",lst[-1])\n",
    "print(\"lst[3]: \",lst[3])\n",
    "print(\"lst[0]: \",lst[0])\n",
    "print(\"lst[0:] :\",lst[0:])\n",
    "print(\"lst[-6,:-4]: \",lst[-6:-4])\n",
    "print(\"lst[-1::-1]: \",lst[-1::-1])   #reverse of list\n",
    "print(\"lst[::-1]: \",lst[::-1],\"\\n\",\"\\n\")\n",
    "\n",
    "#Concatenation of list\n",
    "print(\"**Concatenation of list\")\n",
    "l=[1,2,3]\n",
    "ll=[\"Rohit\",\"Shashikant\"]\n",
    "print(l+ll)\n",
    "\n",
    "a=l+ll\n",
    "print(a,\"\\n\",\"\\n\")\n",
    "\n",
    "\n",
    "#length of list\n",
    "print(\"**Length of list\")\n",
    "print(len(l))\n",
    "print(len(ll),\"\\n\",\"\\n\")\n",
    "\n",
    "\n",
    "#Data Type\n",
    "print(\"**Data type\")\n",
    "print(type(l))\n",
    "print(type(ll))\n"
   ]
  },
  {
   "cell_type": "markdown",
   "metadata": {},
   "source": [
    "#### Membership operator using list"
   ]
  },
  {
   "cell_type": "code",
   "execution_count": null,
   "metadata": {},
   "outputs": [],
   "source": [
    "lst=[\"Rohit\",1,2,\"Garud\",22.5]\n",
    "i=22.5\n",
    "print(i in lst)\n",
    "\n",
    "z=\"rohit\"\n",
    "print(z in lst)\n",
    "\n",
    "a=\"Rohit\"\n",
    "print(a in lst)"
   ]
  },
  {
   "cell_type": "markdown",
   "metadata": {},
   "source": [
    "#### #changing values or replacing in list by using index or slicing ie for single elements or multiple elements respectively:"
   ]
  },
  {
   "cell_type": "code",
   "execution_count": null,
   "metadata": {},
   "outputs": [],
   "source": [
    "#changing single element:\n",
    "a=[\"apple\",\"banana\",\"mango\",\"kiwi\"]\n",
    "print(\"Before Changing: \",a)\n",
    "a[0]=\"carrot\"\n",
    "print(\"After Changing: \",a,\"\\n\",\"\\n\") #kiwi has been changed to carrot\n",
    "\n",
    "#changing multiple elements to single using sllicing:\n",
    "b=[\"apple\",\"banana\",\"mango\",\"kiwi\"]\n",
    "b[0:2]=[\"aple banana juice\"]\n",
    "print(b,\"\\n\",\"\\n\")\n",
    "\n",
    "#changing multiple elements/values to single\n",
    "b=[\"apple\",\"banana\",\"mango\",\"kiwi\"]\n",
    "b[:]=[\"All are Fruits\"]\n",
    "print(b,\"\\n\")"
   ]
  },
  {
   "cell_type": "markdown",
   "metadata": {},
   "source": [
    "###  Using For Loops in list"
   ]
  },
  {
   "cell_type": "code",
   "execution_count": null,
   "metadata": {},
   "outputs": [],
   "source": [
    "b=[\"apple\",\"banana\",\"mango\",\"kiwi\",1,2,3]\n",
    "for i in b:\n",
    "    print(i)"
   ]
  },
  {
   "cell_type": "code",
   "execution_count": null,
   "metadata": {},
   "outputs": [],
   "source": [
    "b=[\"apple\",\"banana\",\"kiwi\",1,2,3]\n",
    "for i in b:\n",
    "    print(b)"
   ]
  },
  {
   "cell_type": "code",
   "execution_count": null,
   "metadata": {},
   "outputs": [],
   "source": [
    "b=[\"apple\",\"banana\",\"kiwi\",1,2,3]\n",
    "for i in range(len(b)):\n",
    "    print(i)"
   ]
  },
  {
   "cell_type": "code",
   "execution_count": null,
   "metadata": {},
   "outputs": [],
   "source": [
    "b=[\"apple\",\"banana\",\"kiwi\",1,2,3]\n",
    "for i in range(len(b)):\n",
    "    print(b)"
   ]
  },
  {
   "cell_type": "code",
   "execution_count": null,
   "metadata": {},
   "outputs": [],
   "source": [
    "b=[\"apple\",\"banana\",\"kiwi\",1,2,3]\n",
    "for i in range(len(b)):\n",
    "    print(b[i])"
   ]
  },
  {
   "cell_type": "code",
   "execution_count": null,
   "metadata": {},
   "outputs": [],
   "source": [
    "b=[\"apple\",\"banana\",\"kiwi\",1,2,3]\n",
    "for i in range(0,6):\n",
    "    print(b[i],end=\" \")"
   ]
  },
  {
   "cell_type": "markdown",
   "metadata": {},
   "source": [
    "#### Using while loop in list"
   ]
  },
  {
   "cell_type": "code",
   "execution_count": null,
   "metadata": {},
   "outputs": [],
   "source": [
    "b=[\"apple\",\"banana\",\"kiwi\",1,2,3]\n",
    "a=0\n",
    "while a<len(b):\n",
    "    print(a,end=\" \")\n",
    "    a+=1"
   ]
  },
  {
   "cell_type": "code",
   "execution_count": null,
   "metadata": {},
   "outputs": [],
   "source": [
    "b=[\"apple\",\"banana\",\"kiwi\",1,2,3]\n",
    "a=0\n",
    "while a<6:             #index starts from 0 and last is exclusive here index position 0,1,2,3,4,5 will be  print\n",
    "    print(b[a])\n",
    "    a+=1"
   ]
  },
  {
   "cell_type": "code",
   "execution_count": null,
   "metadata": {},
   "outputs": [],
   "source": [
    "b=[\"apple\",\"banana\",\"kiwi\",1,2,3]\n",
    "a=0\n",
    "while a<len(b):\n",
    "    print(b)\n",
    "    a+=1"
   ]
  },
  {
   "cell_type": "code",
   "execution_count": null,
   "metadata": {},
   "outputs": [],
   "source": [
    "a=[\"Apple\",\"Banana\",\"carrot\",\"Apple\"]\n",
    "newlist=[]\n",
    "for i in a:\n",
    "    if \"a\" in i:  #this only works under for loop\n",
    "        newlist.append(i)\n",
    "print(newlist)\n",
    "print(\"a\" in a)   #without for loop it is false as word not found\n",
    "# i=0\n",
    "# while i<len(a):\n",
    "#     if \"Apple\" in a:\n",
    "#         print(a[i])\n",
    "#         i+=1"
   ]
  },
  {
   "cell_type": "markdown",
   "metadata": {},
   "source": [
    "#### List Comprehension\n",
    "- List comprehension offers a shorter syntax when you want to create a new list based on the values of an existing list.  \n",
    "- Syntax--> newlist = [i for i in list]      \n",
    "- Syntax--> Newlist= [i for i in list if condition]    \n",
    "- Syntac--> newlist= [i if condition else condition for i in list]\n",
    "- expression=what we have to print or append in new list.   \n",
    "- i=iterable object   \n",
    "- iterable=sequence**"
   ]
  },
  {
   "cell_type": "code",
   "execution_count": null,
   "metadata": {},
   "outputs": [],
   "source": [
    "fruits = [\"apple\", \"banana\", \"cherry\", \"kiwi\", \"mango\"]\n",
    "newlist = [x for x in fruits if \"a\" not in x]\n",
    "print(newlist)\n",
    "\n",
    "\n",
    "a=[\"rohit\",\"rohan\",\"abc\",\"garud\"]\n",
    "print([x for x in a if \"r\" not in x])\n",
    "\n",
    "a=[1,72,3,4,10,2,2,20,22,24,2]\n",
    "print([i for i in a if i==2])\n",
    "p=[i for i in a if i!=2]        #print all except 2\n",
    "print(p)\n",
    "\n",
    "s=[50,\"Goat\",\"Buffalo\",\"rohit\",\"Gaud\"]\n",
    "w=[(i) for i in s if i!=\"Goat\" and i!=\"Buffalo\"]\n",
    "print(w)\n",
    "ass=[i for i in s if i!=50]\n",
    "print(ass)\n",
    "\n",
    "k=[\"rohit\",\"garud\",\"shashikant\",1,2,3]\n",
    "pp=[i for i in k if i!=1 and i!=2 and i!=3]\n",
    "print(pp)"
   ]
  },
  {
   "cell_type": "code",
   "execution_count": null,
   "metadata": {},
   "outputs": [],
   "source": [
    "a=[\"Apple\",\"Banana\",\"carrot\",\"Apple\",\"carrot\"]\n",
    "# a=str(a)\n",
    "# print(type(a))\n",
    "# z=a.replace(\"Apple\",\"@apple\")\n",
    "# print(z)\n",
    "print([i for i in a if i!=\"Apple\"])\n",
    "print([i for i in a if \"A\" in i])    #True because iteration on list by using for loop\n",
    "print(\"A\" in a)                      #false because no iteration on a list\n",
    "print([i.replace(\"carrot\",\"C@rr0t\") for i in a])\n",
    "print([i for i in a if \"a\" in i])\n",
    "print([i for i in a if i!=\"Apple\"])\n",
    "print([i for i in range(10) if i<7])\n",
    "print([i if i<7 else \"@\" for i in range(10)])\n",
    "print([i for i in a if \"a\" in i])\n",
    "print([i if i<4 else i**2 for i in range(11)])\n",
    "print([i.replace(\"Apple\",\"@pple\",1) for i in a])  #count doesnt works because of for loop"
   ]
  },
  {
   "cell_type": "code",
   "execution_count": null,
   "metadata": {},
   "outputs": [],
   "source": [
    "print([i for i in range(0,11)])         #first 10 consecutive numbers\n",
    "print([i for i in range(10,0,-1)])      #reverse of first 10 consecutive numbers\n",
    "print([i**2 for i in range(1,11)])      #Square of numbers\n",
    "print([i **3 for i in range(1,11)])     #cube roots\n",
    "print([i for i in range(1,10) if i%2==0])  #even numbers\n",
    "print([i for i in range(1,10) if i%2!=0])  #odd Numbers"
   ]
  },
  {
   "cell_type": "code",
   "execution_count": null,
   "metadata": {},
   "outputs": [],
   "source": [
    "#important list comprehension (list of tuples)\n",
    "imp=[(\"rohit\",2),(\"shashikant\",4),(\"garud\",3)]\n",
    "print([f\"{i}{j}\"for (i,j) in imp])   #here  f sting is used to print.\n",
    "\n",
    "# for (i,j) in imp:\n",
    "#     print(f\"{i}{j}\",end=\" \")"
   ]
  },
  {
   "cell_type": "code",
   "execution_count": null,
   "metadata": {},
   "outputs": [],
   "source": [
    "#important listcomprehension nested for loop\n",
    "p=[10,5,2]\n",
    "print([i**j for i in p for j in range(2,5)])\n",
    "print([i for i in [10,5,2] for j in range(2,5)])\n",
    "print([j for i in p for j in range(2,5)])"
   ]
  },
  {
   "cell_type": "markdown",
   "metadata": {},
   "source": [
    "### Type Specific methods of list\n",
    "- append() --> it add elements to the last position of list. Only one element or single list can be added.In append whole key value pair of dictionary is added to list.\n",
    "- extend() --> it is used to add one of more than one elements/list/tupe/dictionary to the existing list. In extend only key from dictionary is added to the list\n",
    "- insert() --> insert function is used to insert elemnts at the desired index position.\n",
    "- sort() --> sort function is used to sort the elements from of the list\n",
    "- pop()  --> p it is used to remove / delete last element from the list.\n",
    "- remove() -->Remove is used to remmove first occurance of elemnts from the list\n",
    "- clear() functioin is used to delete all the elements from the list.\n",
    "- count() function is used to count the occurance of repetating elements/values\n"
   ]
  },
  {
   "cell_type": "markdown",
   "metadata": {},
   "source": [
    "#### Append\n",
    "- append() --> it add elements to the last position of list. Only one element or single list can be added.\n",
    "- The append() method appends/ adds an element/value to the end of the list.   \n",
    "- It can only add/append single element or value at a time.   \n",
    "- If we have any predefined list it can be appended.\n",
    "- In append whole key value pair of dictionary is added to list.\n",
    "- it will return nested list if we append list,tuple,set,dictionary\n",
    "- Syntax--->var.append(element)  here var will be the empty or a sequence where the elements will be apppended.**"
   ]
  },
  {
   "cell_type": "code",
   "execution_count": null,
   "metadata": {},
   "outputs": [],
   "source": [
    "# append() --> it add elements to the last position of list. Only one element or single list can be added.\n",
    "thislist = [100, 50, 65, 82, 23]\n",
    "thislist.append(10.555)                     #first added float value apppend function\n",
    "thislist.append(\"Rohit\")                   #added sring apppend function\n",
    "print(thislist,\"\\n\")\n",
    "\n",
    "#append list to empty list\n",
    "thislst = [100, 50, 65, 82, 23]\n",
    "empty=[]\n",
    "empty.append(thislst)\n",
    "print(\"Empty: \",empty,\"\\n\")\n",
    "\n",
    "\n",
    "#appended list\n",
    "lst=[100,50,65,82,23]\n",
    "nt=[\"rohit\",\"garud\"]\n",
    "nt.append(lst)                       #predfined list is appended\n",
    "print(nt,\"\\n\"\n",
    "     )\n",
    "#appended dictionary\n",
    "df={\"name\":\"rohit\",\"Age\":25}\n",
    "lyu=[1,2,33]\n",
    "lyu.append(df)\n",
    "print(lyu,\"\\n\")\n",
    "\n",
    "#appended tuple\n",
    "tp=(123,456,789)\n",
    "lyu=[1,2,33]\n",
    "lyu.append(tp)\n",
    "print(lyu,\"\\n\")"
   ]
  },
  {
   "cell_type": "markdown",
   "metadata": {},
   "source": [
    "#### Extend()\n",
    "- extend() --> it is used to add one of more than one elements to the last position of the existing list\n",
    "- Tuple,list,set can be added using extend function to the list.\n",
    "- if we added dictionary it will add only key from key value pair to list."
   ]
  },
  {
   "cell_type": "code",
   "execution_count": null,
   "metadata": {},
   "outputs": [],
   "source": [
    "a=[1,2,3,4]\n",
    "for i in a:\n",
    "    if i==3 and i==4:\n",
    "    print(i)\n",
    "        "
   ]
  },
  {
   "cell_type": "code",
   "execution_count": null,
   "metadata": {},
   "outputs": [],
   "source": [
    "lst=[100, 50, 65, 82, 23]\n",
    "lst.extend((4,5))\n",
    "lst"
   ]
  },
  {
   "cell_type": "code",
   "execution_count": null,
   "metadata": {},
   "outputs": [],
   "source": [
    "#extend() --> it is used to add one of more than one elements to the last position of the existing list\n",
    "lst=[100, 50, 65, 82, 23]\n",
    "print(lst)\n",
    "lst.extend([\"Name\"])                  #added single element\n",
    "lst.extend([\"rohit\",111])             #added multiple elements\n",
    "print(lst,\"\\n\")\n",
    "\n",
    "#extended list\n",
    "print(\"**extended list\")\n",
    "ass=[100, 50, 65, 82, 23]\n",
    "fg=[111,444,777]\n",
    "ass.extend(fg)\n",
    "print(ass,\"\\n\")\n",
    "\n",
    "#extended tuple\n",
    "print(\"**extended tuple\")\n",
    "tp=(999,888,777)\n",
    "asss=[100, 50, 65, 82, 23]\n",
    "asss.extend(tp)\n",
    "print(asss,\"\\n\")\n",
    "\n",
    "#extended set\n",
    "print(\"**extended set\")\n",
    "st={111,222,111,3335}   #repeated values are not added to the list\n",
    "assss=[100, 50, 65, 82, 23]\n",
    "assss.extend(st)\n",
    "print(assss,\"\\n\")\n",
    "\n",
    "#extended dictionary\n",
    "print(\"**extended dictionary\")\n",
    "dct={\"Age\":25,\"name\":\"rohit\"}    #only keys are added to the list\n",
    "aass=[100, 50, 65, 82, 23]\n",
    "aass.extend(dct)\n",
    "print(aass)\n",
    "aass=[100, 50, 65, 82, 23]\n",
    "aass.extend(dctt.items())\n",
    "print(aass)"
   ]
  },
  {
   "cell_type": "markdown",
   "metadata": {},
   "source": [
    "#### Insert()\n",
    "- insert function is used to insert the element to desired index position.\n",
    "- index position is must for an element which is to be inserted.\n",
    "- SYNTAX--> var.insert(index,element to be inserted)."
   ]
  },
  {
   "cell_type": "code",
   "execution_count": null,
   "metadata": {},
   "outputs": [],
   "source": [
    "it=[\"Rohit\",\"Garud\"]\n",
    "it.insert(1,\"Shashikant\")\n",
    "print(it,\"\\n\")\n",
    "\n",
    "it.insert(1,101)\n",
    "print(it,\"\\n\")\n",
    "\n",
    "#Inserted list\n",
    "print(\"**Inserted list\")\n",
    "lk=[\"rrr\",\"ggg\"]\n",
    "it.insert(2,lk)\n",
    "print(it,\"\\n\")\n",
    "\n",
    "#Inserted tuple\n",
    "print(\"**Inserted tuple\")\n",
    "tp=(22,33,44)\n",
    "lk=[\"rrr\",\"ggg\"]\n",
    "lk.insert(1,tp)\n",
    "print(lk,\"\\n\")\n",
    "\n",
    "#Inserted set\n",
    "print(\"**Inserted set\")\n",
    "sett={\"ram\",\"shaym\"}\n",
    "lk=[\"rrr\",\"ggg\"]\n",
    "lk.insert(1,sett)\n",
    "print(lk,'\\n')\n",
    "\n",
    "#Inserted Dictionary\n",
    "print(\"**Inserted Dictionary\")\n",
    "dct={\"name\":\"rohit\",\"age\":25}\n",
    "lk=[\"rrr\",\"ggg\"]\n",
    "lk.insert(1,dct)\n",
    "print(lk)"
   ]
  },
  {
   "cell_type": "markdown",
   "metadata": {},
   "source": [
    "#### pop()\n",
    "- pop() is used to remove or delete last elements from the list.\n",
    "- by specifying the index position of elements inside ie.  var.pop(index position) the elements at that position will be deleted.\n"
   ]
  },
  {
   "cell_type": "code",
   "execution_count": null,
   "metadata": {},
   "outputs": [],
   "source": [
    "p=[111,222,333]\n",
    "p.pop()            #removes last element\n",
    "print(p,\"\\n\")\n",
    "\n",
    "p=[\"rohit\",111,\"garud\"]\n",
    "p.pop(0)            #removes the element of specified index position\n",
    "print(p)"
   ]
  },
  {
   "cell_type": "markdown",
   "metadata": {},
   "source": [
    "#### remove()\n",
    "- remove function is used to remove first occurance of the repetated elements from the list.\n"
   ]
  },
  {
   "cell_type": "code",
   "execution_count": null,
   "metadata": {},
   "outputs": [],
   "source": [
    "#remove function is used to remove first occurance of the repetated elements from the list.\n",
    "q=[111,222,333,\"rohit\",\"garud\",111,\"rohit\"]\n",
    "q.remove('rohit')\n",
    "print(q,\"\\n\")\n",
    "\n",
    "q=[13131,222,333,\"rohit\",13131,\"garud\",111,\"rohit\"]\n",
    "q.remove(13131)\n",
    "print(q)"
   ]
  },
  {
   "cell_type": "markdown",
   "metadata": {},
   "source": [
    "#### clear()\n",
    "- clear functioin is used to delete all the elements from the list\n",
    "- it returns empty list"
   ]
  },
  {
   "cell_type": "code",
   "execution_count": null,
   "metadata": {},
   "outputs": [],
   "source": [
    "qq=[111,222,333,\"rohit\",111,\"garud\",111,\"rohit\"]\n",
    "print(\"Before Clear\",qq)\n",
    "qq.clear()\n",
    "print(\"After Clear\",qq)\n"
   ]
  },
  {
   "cell_type": "markdown",
   "metadata": {},
   "source": [
    "#### sort() \n",
    "- sort function is used to sort the elements from of the list\n",
    "- The elements present in the list should be of same data type heterogenous data cant be sort\n",
    "- ERROR for heterogenous data '<' not supported between instances of 'str' and 'int'\n",
    "- reverse sorting can be done by   SYNTAX--> var.sort(reverse=True)\n",
    "- if elements/ values are in upper/lower any random format convert it to lower by \n",
    "- SYNTAX-->var.sort(key=str.lower) this will lower all the elements to lower and it will sort all the elements asc or desc depend upon us."
   ]
  },
  {
   "cell_type": "code",
   "execution_count": null,
   "metadata": {},
   "outputs": [],
   "source": [
    "p=[15,6,8,1,7,4]\n",
    "p.sort()\n",
    "print(p,\"\\n\")\n",
    "\n",
    "p=[\"Rohit\",\"Gaud\",\"lata\",\"shashikant\"]\n",
    "p.sort()               #without converting to lowe case it will solve [A-Z] then [a-z] ascendingly\n",
    "print(p)    \n",
    "p.sort(key=str.lower)  #this will consider all the words in lower case and sort the list\n",
    "print(\"Converted to lower case: \",p,\"\\n\")\n",
    "\n",
    "\n",
    "#reverse sorting\n",
    "print(\"**reverse sorting\")\n",
    "p=[15,6,8,1,7,4]\n",
    "p.sort(reverse=True)\n",
    "print(p,\"\\n\")\n",
    "\n",
    "#Reverse of words\n",
    "print(\"**Reverse of words\")\n",
    "po=[\"brovo\",\"alpha\",\"Zack\",\"frank\"]\n",
    "po.sort(key=str.lower,reverse=True)\n",
    "print(po,\"\\n\")\n",
    "\n",
    "# pl=[1,5,2,\"z\",\"a\"]\n",
    "# pl.sort()\n",
    "# print(pl)  #Error'<' not supported between instances of 'str' and 'int'"
   ]
  },
  {
   "cell_type": "markdown",
   "metadata": {},
   "source": [
    "#### Count() \n",
    "- count() is used to count the number of occurance/repetation of desired element.   \n",
    "- Syntax---> var.count(element to count)   var=sequence or list with elements.   \n",
    "- if the elemenets /value not present in the list it will return 0"
   ]
  },
  {
   "cell_type": "code",
   "execution_count": null,
   "metadata": {},
   "outputs": [],
   "source": [
    "#to count desired elements from the list.\n",
    "a=[\"r\",1,2,2,5,1,\"r\",2,\"o\",\"rohit\",2]\n",
    "print(a.count(2))\n",
    "print(a.count(\"r\"))\n",
    "\n",
    "\n",
    "b=[\"rohit\",\"garud\",1,2,3,1,2,1,1,\"rohit\"]\n",
    "print(\"2) count of rohit in list b using indexing: \",b.count(b[-1]))"
   ]
  },
  {
   "cell_type": "markdown",
   "metadata": {},
   "source": [
    "#### Sum()\n",
    "- Sum function is used to add all the elements of the list."
   ]
  },
  {
   "cell_type": "code",
   "execution_count": null,
   "metadata": {},
   "outputs": [],
   "source": [
    "p={1:2,2:4}\n",
    "print(sum(p))\n",
    "print(sum(p.keys()))\n",
    "print(sum(p.values()))"
   ]
  },
  {
   "cell_type": "code",
   "execution_count": null,
   "metadata": {},
   "outputs": [],
   "source": [
    "#append program using for loop and can insert any values at the desire position\n",
    "a=[]\n",
    "size=int(input(\"Enter Size of list\"))\n",
    "for i in range(size):\n",
    "    val=int(input(\"Enter Elements in a list\"))\n",
    "    a.append(val)\n",
    "print(\"Elements After Apending: \")\n",
    "print(a)\n",
    "index=int(input(\"At which index position you want to insert the element\"))\n",
    "element=input(\"Enter the element\")\n",
    "a.insert(index,element)\n",
    "print(a)\n",
    "print(len(a))"
   ]
  },
  {
   "cell_type": "markdown",
   "metadata": {},
   "source": [
    "###  Dictionary\n",
    "- Dictionary is enclosed in {} braces.\n",
    "- Dictionary follows key values pairs\n",
    "- key must be immutabble\n",
    "- Empty Dictionary---> dict={}\n",
    "- unordered,muttable\n",
    "- key should be unique . Even if the there are multiple keys it will acccept latest key and discard the previous ones.\n",
    "- values can be repeated\n",
    "- indexing and slicing is not allowded in dictionary\n",
    "- But values can be accessed using key.basically key is index here"
   ]
  },
  {
   "cell_type": "markdown",
   "metadata": {},
   "source": [
    "####   Type specific methods in dictionary\n",
    "- items() function gives all the items ie. key value pairs of dictionary.\n",
    "- values() function gives only all the values from the dictioinary.\n",
    "- keys() function gives only all the keys from the dictioinary.\n",
    "- get() function give value of the desired key from the dictionary.\n",
    "- pop() function removes key value pair from dictionary SYNTAX--> var.pop(key)\n",
    "- update() function will update the value of the specified key-->   ie. var.update({key:updated value})\n",
    "- if the key is not present then it will add the key value pair at the end position of dictionary"
   ]
  },
  {
   "cell_type": "markdown",
   "metadata": {},
   "source": [
    "## operations of dictionary\n",
    "- get,update,add"
   ]
  },
  {
   "cell_type": "code",
   "execution_count": null,
   "metadata": {},
   "outputs": [],
   "source": [
    "a=\"Hello\"\n",
    "d={}\n",
    "for i in a:\n",
    "    d[i]=d.get(i,0)+1\n",
    "print(d)\n"
   ]
  },
  {
   "cell_type": "code",
   "execution_count": null,
   "metadata": {},
   "outputs": [],
   "source": [
    "a={\"x\":10,\"y\":12}\n",
    "#get\n",
    "print(a[\"x\"])\n",
    "print(a.get(\"x\"))\n",
    "print(a.get(\"z\"))\n",
    "print(a.get(\"z\",\"hell\"),\"\\n\")\n",
    "# print(a[\"z\"])   #will return error\n",
    "\n",
    "#update\n",
    "a[\"x\"]=20         \n",
    "print(a,\"\\n\")\n",
    "\n",
    "#add\n",
    "a[\"z\"]=40       \n",
    "print(a)"
   ]
  },
  {
   "cell_type": "code",
   "execution_count": null,
   "metadata": {},
   "outputs": [],
   "source": [
    "#indexing and slicing is not allowded in dictionary\n",
    "#We can access the value using key\n",
    "dict={\"name\":\"Rohit\",\"age\":25,1:2}\n",
    "\n",
    "print(\"Accessing value using dict[key]: \",dict[\"name\"])\n",
    "\n",
    "print(\"Accessing the value using dict.get(key): \",dict.get(\"name\"),\"\\n\")\n",
    "\n",
    "print(\"Accessing all the key value pair: \",dict.items(),\"\\n\")\n",
    "\n",
    "print(\"Accessing all the values: \",dict.values(),\"\\n\")\n",
    "\n",
    "print(\"Accessing all the keys: \",dict.keys(),\"\\n\")\n",
    "\n",
    "\n",
    "\n",
    "print(\"Deleting the key value pair using dict.pop(key): \",dict.pop(\"age\"),\"\\n\")    #here we have to specify the key \n",
    "\n",
    "print(dict.items(),\"\\n\")\n",
    "\n",
    "\n",
    "dict.update({\"name\":\"ROHITGARUD\",2:22,456456:\"g\"})  \n",
    "#multiple things can be added or updated at single instance we have to mentioned the key and the updated value.if the key \n",
    "#is not present it will addd the key value pair to dictionary\n",
    "print(\"Updating and adding to the dictionary: \",dict)\n"
   ]
  },
  {
   "cell_type": "markdown",
   "metadata": {},
   "source": [
    "#### updating the value"
   ]
  },
  {
   "cell_type": "code",
   "execution_count": null,
   "metadata": {},
   "outputs": [],
   "source": [
    "dictt={\"name\":\"Rohit\",\"age\":25,1:2}\n",
    "dictt[\"name\"]=\"ROHIT\"\n",
    "print(dictt)"
   ]
  },
  {
   "cell_type": "markdown",
   "metadata": {},
   "source": [
    "### For loop in dictionary"
   ]
  },
  {
   "cell_type": "code",
   "execution_count": null,
   "metadata": {},
   "outputs": [],
   "source": [
    "dc={\"name\":\"rohit\",\"age\":25,5:6}   #for loop in dictionary by default bassically iterating througs keys\n",
    "for i in dc:\n",
    "    print(i)"
   ]
  },
  {
   "cell_type": "code",
   "execution_count": null,
   "metadata": {},
   "outputs": [],
   "source": [
    "dc={\"name\":\"rohit\",\"age\":25,5:6}  \n",
    "for i in dc:\n",
    "    print(dc)"
   ]
  },
  {
   "cell_type": "code",
   "execution_count": null,
   "metadata": {},
   "outputs": [],
   "source": [
    "dc={\"name\":\"rohit\",\"age\":25,5:6} \n",
    "for i in range(len(dc)):\n",
    "    print(i)"
   ]
  },
  {
   "cell_type": "code",
   "execution_count": null,
   "metadata": {},
   "outputs": [],
   "source": [
    "dc={\"name\":\"rohit\",\"age\":25,5:6} \n",
    "for i in range(len(dc)):\n",
    "    print(dc)   #dc[i] is not allowded"
   ]
  },
  {
   "cell_type": "code",
   "execution_count": null,
   "metadata": {},
   "outputs": [],
   "source": [
    "# dc={\"name\":\"rohit\",\"age\":25,5:6} \n",
    "# for i in range(len(dc.keys())):     #print(dc[i] not allowded\n",
    "#     print(dc[i])"
   ]
  },
  {
   "cell_type": "markdown",
   "metadata": {},
   "source": [
    "##### Traversing on keys"
   ]
  },
  {
   "cell_type": "code",
   "execution_count": null,
   "metadata": {},
   "outputs": [],
   "source": [
    "dc={\"name\":\"rohit\",\"age\":25,5:6}   #for loop in dictionary by default bassically iterating througs keys\n",
    "for i in dc:               \n",
    "    print(i)"
   ]
  },
  {
   "cell_type": "code",
   "execution_count": null,
   "metadata": {},
   "outputs": [],
   "source": [
    "dc={\"name\":\"rohit\",\"age\":25,5:6}   #for loop in dictionary by default bassically iterating througs keys\n",
    "for i in dc.keys():                #Is same as above\n",
    "    print(i)"
   ]
  },
  {
   "cell_type": "markdown",
   "metadata": {},
   "source": [
    "##### Traversing on values"
   ]
  },
  {
   "cell_type": "code",
   "execution_count": null,
   "metadata": {},
   "outputs": [],
   "source": [
    "dc={\"name\":\"rohit\",\"age\":25,5:6} #by specifying values we can iterate over the values\n",
    "for i in dc.values():\n",
    "    print(i)"
   ]
  },
  {
   "cell_type": "markdown",
   "metadata": {},
   "source": [
    "###### Traversing on keys and values both"
   ]
  },
  {
   "cell_type": "code",
   "execution_count": null,
   "metadata": {},
   "outputs": [],
   "source": [
    "dc={\"name\":\"rohit\",\"age\":25,5:6}\n",
    "for i in dc.items():\n",
    "    print(i)"
   ]
  },
  {
   "cell_type": "markdown",
   "metadata": {},
   "source": [
    "### Nested dictionary "
   ]
  },
  {
   "cell_type": "code",
   "execution_count": null,
   "metadata": {},
   "outputs": [],
   "source": [
    "car1_model={\"Mercedes\":1996}\n",
    "car2_model={\"Bugati\":1998}\n",
    "car3_model={\"Maruti\":2000}\n",
    "cartypes={\"c1\":car1_model,\"c2\":car2_model,\"c3\":car3_model}\n",
    "print(\"**Nested Dictionary\")\n",
    "print(cartypes,\"\\n\")\n",
    "\n",
    "#WAP target to target bugati:1998 key value pair from cartypes dictionary\n",
    "print(\"**Target bugati:1998 as key value pair\")\n",
    "print(list(cartypes[\"c2\"].items()))    #here we had printed the list of key value pair\n",
    "print(cartypes[\"c2\"],\"\\n\")\n",
    "\n",
    "#WAP to target bugati from the nested dictionary\n",
    "print(\"**Target bugati from the nested dictionary\")\n",
    "print(cartypes[\"c2\"].keys(),\"\\n\")\n",
    "\n",
    "\n",
    "#WAP target to target 1998 from the nested dictionary\n",
    "print(\"**Target 1998 from the nested dictionary\")\n",
    "print(cartypes[\"c2\"][\"Bugati\"])\n",
    "print(cartypes[\"c2\"].values())"
   ]
  },
  {
   "cell_type": "markdown",
   "metadata": {},
   "source": [
    "### Set\n",
    "- Set is enclosed in {}  curly braces.\n",
    "- set elements should be of immutable dtype\n",
    "- Set is unordered.\n",
    "- Duplicate elements or values are not allowded\n",
    "- indexing,slicing is not allowded.\n",
    "- Emmpty set--> w={}  follwed by w=set(w)   or just w=set()"
   ]
  },
  {
   "cell_type": "code",
   "execution_count": null,
   "metadata": {},
   "outputs": [],
   "source": [
    "sett={1,2,1,2,\"rohit\",\"rohit\"}\n",
    "print(\"Set: \",sett,\"\\n\")  #does not allows duplicate values\n",
    "print(\"len(sett): \",len(sett),\"\\n\")\n",
    "\n",
    "print(\"**Empty Set\")\n",
    "emptyset=set()\n",
    "print(emptyset)\n",
    "print(type(emptyset),\"\\n\")"
   ]
  },
  {
   "cell_type": "code",
   "execution_count": null,
   "metadata": {},
   "outputs": [],
   "source": [
    "w=set()\n",
    "# type(w)\n",
    "# w=set(w)\n",
    "print(type(w))\n",
    "\n",
    "z={}\n",
    "z=set(z)\n",
    "print(type(z))"
   ]
  },
  {
   "cell_type": "markdown",
   "metadata": {},
   "source": [
    "## set operation\n",
    "- union,intersection,difference"
   ]
  },
  {
   "cell_type": "code",
   "execution_count": null,
   "metadata": {},
   "outputs": [],
   "source": [
    "a={1,2,3,4}\n",
    "b={3,4,5,6}\n",
    "#union\n",
    "print(a|b)\n",
    "\n",
    "#intersection\n",
    "print(a&b)\n",
    "\n",
    "#difference\n",
    "print(a-b)\n",
    "print(b-a)"
   ]
  },
  {
   "cell_type": "code",
   "execution_count": null,
   "metadata": {},
   "outputs": [],
   "source": [
    "a={1,2,3,(4,3)}\n",
    "for i in a:\n",
    "    print(i)"
   ]
  },
  {
   "cell_type": "markdown",
   "metadata": {},
   "source": [
    "####  Type Specific Methosd in sets\n",
    "- add() function adds only single element/value to existing set\n",
    "- union() give all the elements from both the set excluding duplicate.\n",
    "- intersection() return a set that contains the similarity between two or more sets\n",
    "- intersection_update()return a set that contains the similarity between two or more sets and update the set.\n",
    "- difference() returns set that contain difference between two sets.\n",
    "- update() methods updates the current set, by adding items from another set\n",
    "- note Adding predfined set is not allowed only single elements can be added. But adding set can be done using update function"
   ]
  },
  {
   "cell_type": "code",
   "execution_count": null,
   "metadata": {},
   "outputs": [],
   "source": [
    "#adding single element\n",
    "print(\"**ADD function\")\n",
    "ad={1,\"rohit\"}\n",
    "ad.add(\"garud\")\n",
    "print(ad,\"\\n\")\n",
    "\n",
    "# #adding predfined set\n",
    "# print(\"**Adding predefined set\")    Adding predfined set is not allowed only single elements can be added. \n",
    "# defset={11,22,33}                    But adding set can be done using update function\n",
    "# st={\"rohit\",\"Garud\"}\n",
    "# st.add(\"defset\")\n",
    "# print(st,\"\\n\")\n",
    "\n",
    "print(\"**UNIOIN function\")\n",
    "ad={1,\"rohit\"}\n",
    "unionn={\"rohit\",433,42,1}\n",
    "un=unionn.union(ad)\n",
    "print(un,\"\\n\")\n",
    "\n",
    "print(\"**INTERSECTION Function\")\n",
    "ad={1,\"rohit\"}\n",
    "insect={\"rohit\",\"garud\",\"Shashikant\",1}\n",
    "inn=ad.intersection(insect)\n",
    "innn=insect.intersection(ad)\n",
    "print(inn)\n",
    "print(innn,\"\\n\")\n",
    "\n",
    "print(\"**INTERSECTION_update Function\")\n",
    "\n",
    "ad={1,\"rohit\"}\n",
    "insect={\"rohit\",\"garud\",\"Shashikant\",1}\n",
    "ad.intersection_update(insect)\n",
    "insect.intersection_update(ad)\n",
    "print(ad)\n",
    "print(insect,\"\\n\")\n",
    "\n",
    "print(\"**UPDATE Function\")\n",
    "ups={\"rohit\",\"shashikant\",\"garud\"}\n",
    "updat={\"ROHIT\",\"SHASHIKANT\",\"GARUD\",\"rohit\"}   #here \"rohit\" will not update because set does not allows duplicate\n",
    "ups.update(updat)\n",
    "print(ups,\"\\n\")\n",
    "\n",
    "print(\"**DIFFERENCE Function\")\n",
    "dif={1,2,3}\n",
    "diff={11,22,3,1}\n",
    "print(dif.difference(diff))   #HERE dif-diff"
   ]
  },
  {
   "cell_type": "markdown",
   "metadata": {},
   "source": [
    "### Bool Variable\n",
    "- Any function that returns true or false is boolean function.\n",
    "- bool functionn is used to create bool.\n",
    "- they are two in built True and False"
   ]
  },
  {
   "cell_type": "code",
   "execution_count": null,
   "metadata": {},
   "outputs": [],
   "source": [
    "bool()"
   ]
  },
  {
   "cell_type": "code",
   "execution_count": null,
   "metadata": {},
   "outputs": [],
   "source": [
    "print(bool(True))\n",
    "print(bool(False))"
   ]
  },
  {
   "cell_type": "markdown",
   "metadata": {},
   "source": [
    "#### Type Specific methods in bool"
   ]
  },
  {
   "cell_type": "code",
   "execution_count": null,
   "metadata": {},
   "outputs": [],
   "source": [
    "boool=\"RohitShashikantGarud123\"\n",
    "print(boool.isalnum())\n",
    "print(boool.isalpha())\n",
    "b=\"10\"\n",
    "print(b.isdigit())\n",
    "print(boool.istitle()) #the first character in upper case.\n",
    "print(boool.islower())\n",
    "print(boool.isupper())\n",
    "print(boool.isspace())\n",
    "print(boool.endswith(\"3\"))\n",
    "print(boool.startswith(\"R\"))"
   ]
  },
  {
   "cell_type": "markdown",
   "metadata": {},
   "source": [
    "#### #locigal operato with boolean function"
   ]
  },
  {
   "cell_type": "markdown",
   "metadata": {},
   "source": [
    "##### and operator"
   ]
  },
  {
   "cell_type": "code",
   "execution_count": null,
   "metadata": {},
   "outputs": [],
   "source": [
    "print(True and False)"
   ]
  },
  {
   "cell_type": "code",
   "execution_count": null,
   "metadata": {},
   "outputs": [],
   "source": [
    "print(True and True)"
   ]
  },
  {
   "cell_type": "code",
   "execution_count": null,
   "metadata": {},
   "outputs": [],
   "source": [
    "print(False and True)"
   ]
  },
  {
   "cell_type": "markdown",
   "metadata": {},
   "source": [
    "##### or operator"
   ]
  },
  {
   "cell_type": "code",
   "execution_count": null,
   "metadata": {},
   "outputs": [],
   "source": [
    "print(True or False)"
   ]
  },
  {
   "cell_type": "code",
   "execution_count": null,
   "metadata": {},
   "outputs": [],
   "source": [
    "print(False or True)"
   ]
  },
  {
   "cell_type": "code",
   "execution_count": null,
   "metadata": {},
   "outputs": [],
   "source": [
    "a=\"rohit\"\n",
    "b=\"Garud\"\n",
    "print(a.istitle() or b.istitle())     #it returns true if any of them is true\n",
    "\n",
    "print(a.istitle() and b.istitle())\n",
    "#it returns true if both of them are true"
   ]
  },
  {
   "cell_type": "markdown",
   "metadata": {},
   "source": [
    "###  #Numpy\n",
    "- NumPy is a Python package. It stands for 'Numerical Python'. It is a library consisting of multidimensional array objects and a collection of routines for processing of array.\n",
    "- In general Numpy is aarray processing package.\n",
    "\n",
    "**Operation Performed using Numpy are.**  \n",
    "- Mathematical and logical operations on arrays.\n",
    "- Fourier transforms and routines for shape manipulation.\n",
    "\n",
    "- Operations related to linear algebra. NumPy has in-built functions for linear algebra and random number generation.\n",
    "\n",
    "**Array**\n",
    "- Array is the datastructure that stores values of same datatype.\n",
    "- difference between array and list\n",
    "- Array store data of same datatype. While list can store heretogenous data. "
   ]
  },
  {
   "cell_type": "code",
   "execution_count": null,
   "metadata": {},
   "outputs": [],
   "source": [
    "#If Numpy is not installed\n",
    "pip install numpy\n",
    "\n",
    "# #it for anacinda environment\n",
    "conda install numpy"
   ]
  },
  {
   "cell_type": "code",
   "execution_count": null,
   "metadata": {},
   "outputs": [],
   "source": [
    "#Import Numpy\n",
    "import numpy as np"
   ]
  },
  {
   "cell_type": "code",
   "execution_count": null,
   "metadata": {},
   "outputs": [],
   "source": [
    "#creating empty array\n",
    "add=np.array([])\n",
    "add"
   ]
  },
  {
   "cell_type": "code",
   "execution_count": null,
   "metadata": {},
   "outputs": [],
   "source": [
    "type(add)"
   ]
  },
  {
   "cell_type": "code",
   "execution_count": null,
   "metadata": {},
   "outputs": [],
   "source": [
    "#creating empty array\n",
    "m=[]\n",
    "ad=np.array(m)\n",
    "ad"
   ]
  },
  {
   "cell_type": "code",
   "execution_count": null,
   "metadata": {},
   "outputs": [],
   "source": [
    "type(ad)"
   ]
  },
  {
   "cell_type": "code",
   "execution_count": null,
   "metadata": {},
   "outputs": [],
   "source": [
    "#creating an array of 1D from list\n",
    "lst=[1,2,3,4,5,6]\n",
    "arr=np.array(lst)     \n",
    "print(type(arr))\n",
    "arr            #creating an one dimensional array"
   ]
  },
  {
   "cell_type": "code",
   "execution_count": null,
   "metadata": {},
   "outputs": [],
   "source": [
    "au=np.array([1,2,3,4,5])\n",
    "au"
   ]
  },
  {
   "cell_type": "markdown",
   "metadata": {},
   "source": [
    "###### 1.Size\n",
    "- returns total elements of array"
   ]
  },
  {
   "cell_type": "code",
   "execution_count": null,
   "metadata": {},
   "outputs": [],
   "source": [
    "arr.size"
   ]
  },
  {
   "cell_type": "markdown",
   "metadata": {},
   "source": [
    "###### 2.Shape\n",
    "- returns the shape of array in rows and columns format"
   ]
  },
  {
   "cell_type": "code",
   "execution_count": null,
   "metadata": {},
   "outputs": [],
   "source": [
    "print(arr.shape)  #here there are 6 column this is because it is one dimensional array. (6,)\n",
    "                  #It also happen when array does not have same no of elements in each respectively"
   ]
  },
  {
   "cell_type": "markdown",
   "metadata": {},
   "source": [
    "###### 3.Reshape \n",
    "- is used to change shape of an array and it temperory"
   ]
  },
  {
   "cell_type": "code",
   "execution_count": null,
   "metadata": {},
   "outputs": [],
   "source": [
    "arr.reshape(2,3)"
   ]
  },
  {
   "cell_type": "markdown",
   "metadata": {},
   "source": [
    "### Indexing and slicing"
   ]
  },
  {
   "cell_type": "code",
   "execution_count": null,
   "metadata": {},
   "outputs": [],
   "source": [
    "print(\"Array:\",arr)\n",
    "print(type(arr))\n",
    "print(\"**Indexing\")\n",
    "print(arr[0])\n",
    "print(arr[-1])\n",
    "print(arr[3],\"\\n\")\n",
    "\n",
    "print(\"**Slicing\")\n",
    "print(arr[0:3]) \n",
    "print(arr[-1::-1])  #reverse of array\n",
    "print(arr[::-1])    #reverse of array"
   ]
  },
  {
   "cell_type": "markdown",
   "metadata": {},
   "source": [
    "### #Creating two dimensional array"
   ]
  },
  {
   "cell_type": "code",
   "execution_count": null,
   "metadata": {},
   "outputs": [],
   "source": [
    "#Creating two dimensional array\n",
    "#Two dimensional array starts and ends with two square brackets\n",
    "lst=[1,2,3,4,5,6]\n",
    "lst2=[11,22,33,44,55,66]\n",
    "a=np.array([lst,lst2])     #here the elements should be same in both the list\n",
    "print(a)            \n",
    "#Two dimensional array\n",
    "print(type(a))"
   ]
  },
  {
   "cell_type": "code",
   "execution_count": null,
   "metadata": {},
   "outputs": [],
   "source": [
    "np.array(([1,2,3],[1,2,3]))   #two dimensioinal array"
   ]
  },
  {
   "cell_type": "markdown",
   "metadata": {},
   "source": [
    "### Indexing and slicing on array\n",
    "- array indexing statrs with 0"
   ]
  },
  {
   "cell_type": "code",
   "execution_count": null,
   "metadata": {},
   "outputs": [],
   "source": [
    "print(a)\n",
    "print(type(a),\"\\n\")\n",
    "print(\"**Indexing\")\n",
    "print(a[0])\n",
    "print(a[1])\n",
    "print(a[0][-1])\n",
    "print(a[1][0],\"\\n\")\n",
    "\n",
    "print(\"**Slicing\")\n",
    "print(a[0][0:3])\n",
    "print(a[1][0:3])\n",
    "print(a[0][::-1])    #reverse\n",
    "print(a[1][-1::-1],\"\\n\")   #Reverse of array\n",
    "print(\"Slicing with Multipe row\")\n",
    "print(a[:,0:3])     #var(rowsfrom:rowto,columnfrom:columnto)\n"
   ]
  },
  {
   "cell_type": "code",
   "execution_count": null,
   "metadata": {},
   "outputs": [],
   "source": [
    "print(a)\n",
    "print(a.size)\n",
    "print(a.shape)"
   ]
  },
  {
   "cell_type": "markdown",
   "metadata": {},
   "source": [
    "###### slicing on multipe rows"
   ]
  },
  {
   "cell_type": "code",
   "execution_count": null,
   "metadata": {},
   "outputs": [],
   "source": [
    "#slicing the array of shape(2,6)\n",
    "print(a[0:2,0:4])                        #here a[row,column] ie a[row0:row2,column0:column4]   "
   ]
  },
  {
   "cell_type": "code",
   "execution_count": null,
   "metadata": {},
   "outputs": [],
   "source": [
    "print(a[0:2,0:2])  #slicing the array of shape(2,6)"
   ]
  },
  {
   "cell_type": "code",
   "execution_count": null,
   "metadata": {},
   "outputs": [],
   "source": [
    "a.reshape(3,4)"
   ]
  },
  {
   "cell_type": "markdown",
   "metadata": {},
   "source": [
    "### Excersice\n",
    "- create a array of 3,6 shape \n",
    "- slice [[9,11],[66,77]]\n",
    "- slice [[8,9,11],[55,66,77]]"
   ]
  },
  {
   "cell_type": "code",
   "execution_count": null,
   "metadata": {},
   "outputs": [],
   "source": [
    "l=[1,2,3,4,5,6]\n",
    "m=[7,8,9,11,22,33]\n",
    "n=[44,55,66,77,88,99]\n",
    "ary=np.array([l,m,n])\n",
    "ary"
   ]
  },
  {
   "cell_type": "code",
   "execution_count": null,
   "metadata": {},
   "outputs": [],
   "source": [
    "#slice [[9,11],[66,77]]\n",
    "print(ary[1:,2:4])"
   ]
  },
  {
   "cell_type": "code",
   "execution_count": null,
   "metadata": {},
   "outputs": [],
   "source": [
    "# slice [[8,9,11],[55,66,77]]\n",
    "print(ary[1:,1:4])\n",
    "print(type(ary))"
   ]
  },
  {
   "cell_type": "markdown",
   "metadata": {},
   "source": [
    "###### 1.Size returns total elements of array"
   ]
  },
  {
   "cell_type": "code",
   "execution_count": null,
   "metadata": {},
   "outputs": [],
   "source": [
    "print(a.size)      #if the elements are not same in the list it will consider two different array"
   ]
  },
  {
   "cell_type": "code",
   "execution_count": null,
   "metadata": {},
   "outputs": [],
   "source": [
    "aa=[1,2,3,4,5,6]\n",
    "bb=[1,2,3,4,5]\n",
    "are=np.array([aa,bb])   #if the elements are not same in the list it will consider two different array and data type will \n",
    "are                         #be object"
   ]
  },
  {
   "cell_type": "markdown",
   "metadata": {},
   "source": [
    "###### 2.Shape returns the shape of array in rows and columns forma"
   ]
  },
  {
   "cell_type": "code",
   "execution_count": null,
   "metadata": {},
   "outputs": [],
   "source": [
    "print(a.shape)     #rows and columns(2,5)"
   ]
  },
  {
   "cell_type": "markdown",
   "metadata": {},
   "source": [
    "###### 3.Reshape is used to change shape of and array and it temperory\n",
    "- trick to reshape first see the shape of array\n",
    "- multiply the row and column and the get the answer from (row*column)=size\n",
    "- see the possible table in which the size goes so accordingly we can reshape ie. size=12 possible reshape=(4,3) (3,4) (12,1) (6,2) (2,6) simply multiply row with column and the desired ans should be size of array.\n",
    "- Syntax--> var.reshape(shape)"
   ]
  },
  {
   "cell_type": "code",
   "execution_count": null,
   "metadata": {},
   "outputs": [],
   "source": [
    "a.reshape(4,3)  #reshaping array"
   ]
  },
  {
   "cell_type": "markdown",
   "metadata": {},
   "source": [
    "###### 4.Transpose\n",
    "- Transpose convert row into column.\n",
    "- More than one row is required for transpose.\n",
    "- Syntax--> var.T"
   ]
  },
  {
   "cell_type": "code",
   "execution_count": null,
   "metadata": {},
   "outputs": [],
   "source": [
    "import numpy as np"
   ]
  },
  {
   "cell_type": "code",
   "execution_count": null,
   "metadata": {},
   "outputs": [],
   "source": [
    "dr=np.arange(1,6)\n",
    "dr.T     #more than two row is required for transpose "
   ]
  },
  {
   "cell_type": "code",
   "execution_count": null,
   "metadata": {},
   "outputs": [],
   "source": [
    "a"
   ]
  },
  {
   "cell_type": "code",
   "execution_count": null,
   "metadata": {},
   "outputs": [],
   "source": [
    "a.shape"
   ]
  },
  {
   "cell_type": "code",
   "execution_count": null,
   "metadata": {},
   "outputs": [],
   "source": [
    "a.T  #transpose is temprory it does not change or update into the original array to verify --> var.shape ,it will give the \n",
    "      #shape of root array"
   ]
  },
  {
   "cell_type": "code",
   "execution_count": null,
   "metadata": {},
   "outputs": [],
   "source": [
    "a.shape"
   ]
  },
  {
   "cell_type": "markdown",
   "metadata": {},
   "source": [
    "### Flatten()\n",
    "- flatten() converts any array to 1 dimensional array.\n",
    "- it is temperory it does not update the original array.\n",
    "- SYNTAX--> var.flatten()"
   ]
  },
  {
   "cell_type": "code",
   "execution_count": null,
   "metadata": {},
   "outputs": [],
   "source": [
    "a"
   ]
  },
  {
   "cell_type": "code",
   "execution_count": null,
   "metadata": {},
   "outputs": [],
   "source": [
    "a.flatten()"
   ]
  },
  {
   "cell_type": "markdown",
   "metadata": {},
   "source": [
    "### 4.ndim\n",
    "- ndim returns the dimension of the array.tax--\n",
    "- Syntax--> var.ndim\n"
   ]
  },
  {
   "cell_type": "code",
   "execution_count": null,
   "metadata": {},
   "outputs": [],
   "source": [
    "a=[1,2,3,4,5,6]\n",
    "aa=np.array(a)\n",
    "aa"
   ]
  },
  {
   "cell_type": "code",
   "execution_count": null,
   "metadata": {},
   "outputs": [],
   "source": [
    "aa.ndim  #one dimensional array it has single opening and closing square bracket"
   ]
  },
  {
   "cell_type": "code",
   "execution_count": null,
   "metadata": {},
   "outputs": [],
   "source": [
    "a=[1,2,3,4,5]\n",
    "b=[11,22,33,44,55]\n",
    "ae=np.array([a,b])\n",
    "ae\n"
   ]
  },
  {
   "cell_type": "code",
   "execution_count": null,
   "metadata": {},
   "outputs": [],
   "source": [
    "ae.ndim  #two dimensional array it has two opening and closing square brackets"
   ]
  },
  {
   "cell_type": "markdown",
   "metadata": {},
   "source": [
    "#### #here taking range and reshaping it.  Resahping while creating array is permanant as it is only the root array"
   ]
  },
  {
   "cell_type": "code",
   "execution_count": null,
   "metadata": {},
   "outputs": [],
   "source": [
    "aq=np.arange(1,10).reshape(3,3)   #here taking range and reshaping it but this reshping while creating array is permanant \n",
    "aq                                   #to root array"
   ]
  },
  {
   "cell_type": "code",
   "execution_count": null,
   "metadata": {},
   "outputs": [],
   "source": [
    "aq #Here the change is permanent"
   ]
  },
  {
   "cell_type": "markdown",
   "metadata": {},
   "source": [
    "#### #created the one dimensional array and reshaped (2,3) the changes take permentaly as we had done reshaping at the time of creating array"
   ]
  },
  {
   "cell_type": "code",
   "execution_count": null,
   "metadata": {},
   "outputs": [],
   "source": [
    "l=[1,2,3,4,5,6]\n",
    "ads=np.array(l).reshape(2,3)"
   ]
  },
  {
   "cell_type": "code",
   "execution_count": null,
   "metadata": {},
   "outputs": [],
   "source": [
    "ads  #here the change is permanent"
   ]
  },
  {
   "cell_type": "markdown",
   "metadata": {},
   "source": [
    "### Concatenate\n",
    "- concatenate is used to join two array with same no of items.\n",
    "- concatenate always joins array vertically.\n",
    "- Both the array should be of same shape.\n",
    "- SYNTAX--> np.concatenate((array1,array2))"
   ]
  },
  {
   "cell_type": "code",
   "execution_count": null,
   "metadata": {},
   "outputs": [],
   "source": [
    "pk=np.arange(1,10).reshape(3,3)\n",
    "pk\n"
   ]
  },
  {
   "cell_type": "code",
   "execution_count": null,
   "metadata": {},
   "outputs": [],
   "source": [
    "sk=np.array([11,22,33,44,55,66,77,88,99]).reshape(3,3)\n",
    "sk"
   ]
  },
  {
   "cell_type": "code",
   "execution_count": null,
   "metadata": {},
   "outputs": [],
   "source": [
    "c=np.concatenate((pk,sk))   #the shape of both array should be same, if the size is same and the shape \n",
    "c         #is different convert it to the same shape of the array to which it has to be concatenate. And then concate it\n"
   ]
  },
  {
   "cell_type": "markdown",
   "metadata": {},
   "source": [
    "### Hstack\n",
    "- hstack concatenate or joins two arrays horizontally.\n",
    "- in hstack the rows count of both the array should be same then only it will concatenate. Column can be any only row should be same\n",
    "- var=np.hstack((array1,array2))"
   ]
  },
  {
   "cell_type": "code",
   "execution_count": null,
   "metadata": {},
   "outputs": [],
   "source": [
    "sk"
   ]
  },
  {
   "cell_type": "code",
   "execution_count": null,
   "metadata": {},
   "outputs": [],
   "source": [
    "pk"
   ]
  },
  {
   "cell_type": "code",
   "execution_count": null,
   "metadata": {},
   "outputs": [],
   "source": [
    "ck=np.hstack((pk,sk))   #the the array matrix are joined horizontally\n",
    "ck"
   ]
  },
  {
   "cell_type": "markdown",
   "metadata": {},
   "source": [
    "##### Creating two array and applying hstack"
   ]
  },
  {
   "cell_type": "code",
   "execution_count": null,
   "metadata": {},
   "outputs": [],
   "source": [
    "d=np.array([1,2,3,4,5,6]).reshape(2,3)\n",
    "f=np.arange(1,9).reshape(2,4)\n",
    "cdf=np.hstack((d,f))\n",
    "cdf"
   ]
  },
  {
   "cell_type": "markdown",
   "metadata": {},
   "source": [
    "### vstack\n",
    "- vstack is used to concatenate two array vertically\n",
    "- The column of both the array should be of same shape. Rows can be any\n",
    "- SYNATX--> var=np.vstack((array1,array2))"
   ]
  },
  {
   "cell_type": "code",
   "execution_count": null,
   "metadata": {},
   "outputs": [],
   "source": [
    "ws=np.arange(1,9).reshape(2,4)\n",
    "ws"
   ]
  },
  {
   "cell_type": "code",
   "execution_count": null,
   "metadata": {},
   "outputs": [],
   "source": [
    "ds=np.array([11,12,13,14,15,16,17,18,19,10,44,55]).reshape(3,4)\n",
    "ds"
   ]
  },
  {
   "cell_type": "code",
   "execution_count": null,
   "metadata": {},
   "outputs": [],
   "source": [
    "vs=np.vstack((ws,ds))\n",
    "vs"
   ]
  },
  {
   "cell_type": "markdown",
   "metadata": {},
   "source": [
    "### Append \n",
    "- append is used to append items/ elements, array to the existing array.\n",
    "- if the array is one dimensional or more than that it will append elements/array to the array and return single dimensional array with appended items.\n",
    "- SYNTAX--> var.append(array1,[elements])"
   ]
  },
  {
   "cell_type": "code",
   "execution_count": null,
   "metadata": {},
   "outputs": [],
   "source": [
    "al=np.array([1,2,3,4,5])\n",
    "al"
   ]
  },
  {
   "cell_type": "code",
   "execution_count": null,
   "metadata": {},
   "outputs": [],
   "source": [
    "wt=np.append(al,[77,88,99,11])\n",
    "wt"
   ]
  },
  {
   "cell_type": "code",
   "execution_count": null,
   "metadata": {},
   "outputs": [],
   "source": [
    "al=np.array([1,2,3,4,5])\n",
    "bl=np.array([77,88,99,11])    #intoducing new array\n",
    "wt=np.append(al,bl)           #appending array, Both are single dimensional array\n",
    "wt"
   ]
  },
  {
   "cell_type": "markdown",
   "metadata": {},
   "source": [
    "##### appending 1D to multidimensional array"
   ]
  },
  {
   "cell_type": "code",
   "execution_count": null,
   "metadata": {},
   "outputs": [],
   "source": [
    "ws   #multi dimensional array"
   ]
  },
  {
   "cell_type": "code",
   "execution_count": null,
   "metadata": {},
   "outputs": [],
   "source": [
    "al   #single dimensional array"
   ]
  },
  {
   "cell_type": "code",
   "execution_count": null,
   "metadata": {},
   "outputs": [],
   "source": [
    "ah=np.append(ws,al)  #appending single dimensional to multidensional array\n",
    "ah"
   ]
  },
  {
   "cell_type": "markdown",
   "metadata": {},
   "source": [
    "#### appending 1D to multidemension "
   ]
  },
  {
   "cell_type": "code",
   "execution_count": null,
   "metadata": {},
   "outputs": [],
   "source": [
    "ew=np.arange(1,10).reshape(3,3)\n",
    "ew"
   ]
  },
  {
   "cell_type": "code",
   "execution_count": null,
   "metadata": {},
   "outputs": [],
   "source": [
    "ew.shape"
   ]
  },
  {
   "cell_type": "code",
   "execution_count": null,
   "metadata": {},
   "outputs": [],
   "source": [
    "ap=np.append(ew,[101,102,103])\n",
    "ap"
   ]
  },
  {
   "cell_type": "code",
   "execution_count": null,
   "metadata": {},
   "outputs": [],
   "source": [
    "ap.shape"
   ]
  },
  {
   "cell_type": "code",
   "execution_count": null,
   "metadata": {},
   "outputs": [],
   "source": [
    "npl=np.arange(1,10).reshape(3,3)    #apending multi dimension to multi dimension\n",
    "ppl=np.arange(1,10).reshape(3,3)\n",
    "np.append(npl,ppl)"
   ]
  },
  {
   "cell_type": "markdown",
   "metadata": {},
   "source": [
    "### Insert\n",
    "- insert is used to insert elements/ items to the array at sepcific index position.\n",
    "- Insert returns 1D array.\n",
    "- Syntax--> var=np.insert(array,index,elements)"
   ]
  },
  {
   "cell_type": "code",
   "execution_count": null,
   "metadata": {},
   "outputs": [],
   "source": [
    "td=np.arange(0,11)\n",
    "td"
   ]
  },
  {
   "cell_type": "code",
   "execution_count": null,
   "metadata": {},
   "outputs": [],
   "source": [
    "ip=np.insert(td,11,10001)    #(data,indexposition,Element)\n",
    "ip"
   ]
  },
  {
   "cell_type": "markdown",
   "metadata": {},
   "source": [
    "###### Inserting single dimensional array to  existing single dimensional array"
   ]
  },
  {
   "cell_type": "code",
   "execution_count": null,
   "metadata": {},
   "outputs": [],
   "source": [
    "rev=np.arange(-9,0)\n",
    "inn=np.insert(td,0,rev)\n",
    "inn"
   ]
  },
  {
   "cell_type": "markdown",
   "metadata": {},
   "source": [
    "###### Inserting single dimensional array to existing multi dimensional arra"
   ]
  },
  {
   "cell_type": "code",
   "execution_count": null,
   "metadata": {},
   "outputs": [],
   "source": [
    "mn=np.arange(1,10).reshape(3,3)\n",
    "mn"
   ]
  },
  {
   "cell_type": "code",
   "execution_count": null,
   "metadata": {},
   "outputs": [],
   "source": [
    "ms=np.insert(mn,0,rev)   #returns 1D array\n",
    "ms"
   ]
  },
  {
   "cell_type": "markdown",
   "metadata": {},
   "source": [
    "### delete\n",
    "- delete is used to delete element from the array.\n",
    "- Elements of multi demension are also deleted\n",
    "- SYNTAX--> var=np.delete(array,index position)"
   ]
  },
  {
   "cell_type": "code",
   "execution_count": null,
   "metadata": {},
   "outputs": [],
   "source": [
    "dl=np.arange(1,9)\n",
    "dl"
   ]
  },
  {
   "cell_type": "code",
   "execution_count": null,
   "metadata": {},
   "outputs": [],
   "source": [
    "dlk=np.delete(dl,5)   #element at 5 index position is deleted\n",
    "dlk"
   ]
  },
  {
   "cell_type": "markdown",
   "metadata": {},
   "source": [
    "###### deleting elements from multidemensional array"
   ]
  },
  {
   "cell_type": "code",
   "execution_count": null,
   "metadata": {},
   "outputs": [],
   "source": [
    "ew #multi demensional array"
   ]
  },
  {
   "cell_type": "code",
   "execution_count": null,
   "metadata": {},
   "outputs": [],
   "source": [
    "elk=np.delete(ew,-1)  #deleting element at last index postion\n",
    "elk"
   ]
  },
  {
   "cell_type": "markdown",
   "metadata": {},
   "source": [
    "### Functions in Numpy  (Array creation routine)\n",
    "\n",
    "\n"
   ]
  },
  {
   "cell_type": "markdown",
   "metadata": {},
   "source": [
    "### arange()\n",
    "- arange is a bulit in function in numpy.\n",
    "- arange is used to create array.\n",
    "- Syntax--> var=np.arange(Start,stop,step) "
   ]
  },
  {
   "cell_type": "code",
   "execution_count": null,
   "metadata": {},
   "outputs": [],
   "source": [
    "ar=np.arange(0,10)    #(Start,Stop,Step)  Same like range \n",
    "ar"
   ]
  },
  {
   "cell_type": "code",
   "execution_count": null,
   "metadata": {},
   "outputs": [],
   "source": [
    "ae=np.arange(10)  #starting from 0 to 9 as last emement is exclusive\n",
    "ae"
   ]
  },
  {
   "cell_type": "code",
   "execution_count": null,
   "metadata": {},
   "outputs": [],
   "source": [
    "type(ae)"
   ]
  },
  {
   "cell_type": "code",
   "execution_count": null,
   "metadata": {},
   "outputs": [],
   "source": [
    "aw=np.arange(0,11,2)\n",
    "aw                        #here the step count is 2"
   ]
  },
  {
   "cell_type": "code",
   "execution_count": null,
   "metadata": {},
   "outputs": [],
   "source": [
    "np.linspace(1,30,3,endpoint=False)"
   ]
  },
  {
   "cell_type": "code",
   "execution_count": null,
   "metadata": {},
   "outputs": [],
   "source": [
    "req=np.arange(9,0,-1)    # Reverse Array, for reverse array step count is required\n",
    "req"
   ]
  },
  {
   "cell_type": "markdown",
   "metadata": {},
   "source": [
    "### linspace()\n",
    "- linspace() is used to divide the numbers with equal spaces between the start and stop numbers.\n",
    "- we had to specify the number, into which the start and stop is divided.\n",
    "- Syntax--> var.linspace(start,stop,start stop should be divided,dtype=)\n",
    "- By default dtype is float."
   ]
  },
  {
   "cell_type": "code",
   "execution_count": null,
   "metadata": {},
   "outputs": [],
   "source": [
    "np.linspace(1,20,20,dtype=int)   #here from 1 to 10 they are equall having space of 4.75 in between them"
   ]
  },
  {
   "cell_type": "code",
   "execution_count": null,
   "metadata": {},
   "outputs": [],
   "source": [
    "np.linspace(1,20,5,endpoint=True)  #from 1 to 10 they are having equalspace of 4.75 in between them it also include end"
   ]
  },
  {
   "cell_type": "code",
   "execution_count": null,
   "metadata": {},
   "outputs": [],
   "source": [
    "np.linspace(1,20,5,endpoint=False) #from 1 to 10 they are having equal space of 3.8 in between and it exclude end number \n",
    "                                        # and divides the number with 5 equal spaces between them"
   ]
  },
  {
   "cell_type": "markdown",
   "metadata": {},
   "source": [
    "### empty()\n",
    "- It is used to create unintialized array of special shape and datatype.\n",
    "- Syntax--> var=np.empty([shape],dtype,order)"
   ]
  },
  {
   "cell_type": "code",
   "execution_count": null,
   "metadata": {},
   "outputs": [],
   "source": [
    "x = np.empty([3,2],dtype = int)\n",
    "x"
   ]
  },
  {
   "cell_type": "code",
   "execution_count": null,
   "metadata": {},
   "outputs": [],
   "source": [
    "print(x.size)\n",
    "print(x.shape)"
   ]
  },
  {
   "cell_type": "markdown",
   "metadata": {},
   "source": [
    "### zeros()\n",
    "- it is used to create array with element zero.\n",
    "- If we not mentioned dtype then by default it takes float as default dtype.\n",
    "- SYNTAX--> np.zeros(shape,dtype)"
   ]
  },
  {
   "cell_type": "code",
   "execution_count": null,
   "metadata": {},
   "outputs": [],
   "source": [
    "ahg=np.zeros([3,2],int)\n",
    "ahg"
   ]
  },
  {
   "cell_type": "code",
   "execution_count": null,
   "metadata": {},
   "outputs": [],
   "source": [
    "re=np.zeros([5,5],int)\n",
    "re"
   ]
  },
  {
   "cell_type": "code",
   "execution_count": null,
   "metadata": {},
   "outputs": [],
   "source": [
    "print(type(re))\n",
    "print(re.size)\n",
    "print(re.shape)"
   ]
  },
  {
   "cell_type": "code",
   "execution_count": null,
   "metadata": {},
   "outputs": [],
   "source": [
    "vc=np.zeros(5,dtype=[('x','i4'),('y','i4')])\n",
    "vc"
   ]
  },
  {
   "cell_type": "code",
   "execution_count": null,
   "metadata": {},
   "outputs": [],
   "source": [
    "print(type(vc))\n",
    "print(vc.size)\n",
    "print(vc.shape)"
   ]
  },
  {
   "cell_type": "markdown",
   "metadata": {},
   "source": [
    "### ones()\n",
    "- It returns new array of specified size and type, filled with ones.\n",
    "- if we did not mentioned any dtype then by default it takes float as dtype.\n",
    "- SYNTAX--> np.ones(shape,dtype)"
   ]
  },
  {
   "cell_type": "code",
   "execution_count": null,
   "metadata": {},
   "outputs": [],
   "source": [
    "it=np.ones(5)\n",
    "it"
   ]
  },
  {
   "cell_type": "code",
   "execution_count": null,
   "metadata": {},
   "outputs": [],
   "source": [
    "print(type(it))\n",
    "print(it.size)\n",
    "print(it.shape)"
   ]
  },
  {
   "cell_type": "code",
   "execution_count": null,
   "metadata": {},
   "outputs": [],
   "source": [
    "pi=np.ones(5,int)   #her it is considered as 1 row and 5 columns\n",
    "pi"
   ]
  },
  {
   "cell_type": "code",
   "execution_count": null,
   "metadata": {},
   "outputs": [],
   "source": [
    "print(type(pi))\n",
    "print(pi.size)\n",
    "print(pi.shape)"
   ]
  },
  {
   "cell_type": "code",
   "execution_count": null,
   "metadata": {},
   "outputs": [],
   "source": [
    "one=np.ones([4,4],int)\n",
    "one"
   ]
  },
  {
   "cell_type": "code",
   "execution_count": null,
   "metadata": {},
   "outputs": [],
   "source": [
    "print(type(one))\n",
    "print(one.size)\n",
    "print(one.shape)"
   ]
  },
  {
   "cell_type": "markdown",
   "metadata": {},
   "source": [
    "### copy()"
   ]
  },
  {
   "cell_type": "markdown",
   "metadata": {},
   "source": [
    "### Broadcasting of an array/ Creating a view of an array\n",
    "- The term broadcasting refers to the ability of NumPy to treat arrays of different shapes during arithmetic operations. Arithmetic operations on arrays are usually done on corresponding elements. If two arrays are of exactly the same shape, then these operations are smoothly performed."
   ]
  },
  {
   "cell_type": "code",
   "execution_count": null,
   "metadata": {},
   "outputs": [],
   "source": [
    "des=np.arange(1,11) #here we had created array\n",
    "des"
   ]
  },
  {
   "cell_type": "code",
   "execution_count": null,
   "metadata": {},
   "outputs": [],
   "source": [
    "des[0:5]=100   #done the slicing and updated the value\n",
    "des"
   ]
  },
  {
   "cell_type": "code",
   "execution_count": null,
   "metadata": {},
   "outputs": [],
   "source": [
    "des=np.arange(1,10)\n",
    "des"
   ]
  },
  {
   "cell_type": "code",
   "execution_count": null,
   "metadata": {},
   "outputs": [],
   "source": [
    "view_des=des[0:5]\n",
    "view_des"
   ]
  },
  {
   "cell_type": "code",
   "execution_count": null,
   "metadata": {},
   "outputs": [],
   "source": [
    "view_des[0:5]=99\n",
    "view_des"
   ]
  },
  {
   "cell_type": "code",
   "execution_count": null,
   "metadata": {},
   "outputs": [],
   "source": [
    "des    #here the initial array has got updated"
   ]
  },
  {
   "cell_type": "markdown",
   "metadata": {},
   "source": [
    "#### copy()\n",
    "- copy does not change the original array\n",
    "- SYNTAX--> var_copy=original_var.copy()"
   ]
  },
  {
   "cell_type": "code",
   "execution_count": null,
   "metadata": {},
   "outputs": [],
   "source": [
    "des=np.arange(1,11)\n",
    "des"
   ]
  },
  {
   "cell_type": "code",
   "execution_count": null,
   "metadata": {},
   "outputs": [],
   "source": [
    "arr_copy=des.copy()   #we create new aarray and update the value by using slicing in new array and keeping original \n",
    "arr_copy                  #array constant ie will not update any modification"
   ]
  },
  {
   "cell_type": "code",
   "execution_count": null,
   "metadata": {},
   "outputs": [],
   "source": [
    "arr_copy[0:5]=1000\n",
    "arr_copy"
   ]
  },
  {
   "cell_type": "code",
   "execution_count": null,
   "metadata": {},
   "outputs": [],
   "source": [
    "des    #here original array remains constant"
   ]
  },
  {
   "cell_type": "markdown",
   "metadata": {},
   "source": [
    "##### Excercise of copy"
   ]
  },
  {
   "cell_type": "code",
   "execution_count": null,
   "metadata": {},
   "outputs": [],
   "source": [
    "aes=np.arange(1,11)\n",
    "aes"
   ]
  },
  {
   "cell_type": "code",
   "execution_count": null,
   "metadata": {},
   "outputs": [],
   "source": [
    "view_aes=aes.copy()\n",
    "view_aes[0:5]=100\n",
    "view_aes    #here only new variable got broadcasted and og aes remains constant"
   ]
  },
  {
   "cell_type": "code",
   "execution_count": null,
   "metadata": {},
   "outputs": [],
   "source": [
    "aes  #here aes remains constant"
   ]
  },
  {
   "cell_type": "markdown",
   "metadata": {},
   "source": [
    "### Random()\n",
    "- random is used to creat a random value array.\n",
    "- we have to specify the the size of distributed no.\n",
    "- it can be 1D aswell as 2D.\n",
    "- single/ multi random array can be created."
   ]
  },
  {
   "cell_type": "code",
   "execution_count": null,
   "metadata": {},
   "outputs": [],
   "source": [
    "s=np.random.rand()   #by default the value is 1 and dtype is float\n",
    "print(s)"
   ]
  },
  {
   "cell_type": "code",
   "execution_count": null,
   "metadata": {},
   "outputs": [],
   "source": [
    "type(s)"
   ]
  },
  {
   "cell_type": "code",
   "execution_count": null,
   "metadata": {},
   "outputs": [],
   "source": [
    "np.random.rand(1)   #single dimensional 3columns"
   ]
  },
  {
   "cell_type": "code",
   "execution_count": null,
   "metadata": {},
   "outputs": [],
   "source": [
    "np.random.rand(4,4)  #multi dimensional"
   ]
  },
  {
   "cell_type": "code",
   "execution_count": null,
   "metadata": {},
   "outputs": [],
   "source": [
    "np.random.rand(2,2)  #Uniformly distributed values."
   ]
  },
  {
   "cell_type": "code",
   "execution_count": null,
   "metadata": {},
   "outputs": [],
   "source": [
    "aq=np.random.randint(1,10,10)   #Uniformly distributed integers in a given range. It will return array of 10 random numbers\n",
    "aq                               #SYNTAX-->np.random.randint(start,end,size) by default the size is 1"
   ]
  },
  {
   "cell_type": "code",
   "execution_count": null,
   "metadata": {},
   "outputs": [],
   "source": [
    "np.random.randn(2,2)   # Normally distributed values."
   ]
  },
  {
   "cell_type": "code",
   "execution_count": null,
   "metadata": {},
   "outputs": [],
   "source": [
    "np.random.random_sample((3))   #radom_sample will return numbers between 0-1. we need to specify the length how many\n",
    "                                #distribution we want. random sample will always return 1d array."
   ]
  },
  {
   "cell_type": "code",
   "execution_count": null,
   "metadata": {},
   "outputs": [],
   "source": [
    "np.random.random_sample((3,3)) "
   ]
  },
  {
   "cell_type": "markdown",
   "metadata": {},
   "source": [
    "### Array Selection"
   ]
  },
  {
   "cell_type": "markdown",
   "metadata": {},
   "source": [
    "##### some imp operations/ condition used in EDA"
   ]
  },
  {
   "cell_type": "code",
   "execution_count": null,
   "metadata": {},
   "outputs": [],
   "source": [
    "wer=np.arange(1,11)\n",
    "wer"
   ]
  },
  {
   "cell_type": "code",
   "execution_count": null,
   "metadata": {},
   "outputs": [],
   "source": [
    "wer[wer<5]  #it will print all the elements which are less than 5 if we use wer<5 it will give boolean\n",
    "            #so to find exact which number <5 we used array[array<5]"
   ]
  },
  {
   "cell_type": "code",
   "execution_count": null,
   "metadata": {},
   "outputs": [],
   "source": [
    "wer<5    #it will give the result in boolewn value"
   ]
  },
  {
   "cell_type": "code",
   "execution_count": null,
   "metadata": {},
   "outputs": [],
   "source": [
    "wer/2"
   ]
  },
  {
   "cell_type": "code",
   "execution_count": null,
   "metadata": {},
   "outputs": [],
   "source": [
    "wer*2"
   ]
  },
  {
   "cell_type": "code",
   "execution_count": null,
   "metadata": {},
   "outputs": [],
   "source": [
    "wer%2"
   ]
  },
  {
   "cell_type": "code",
   "execution_count": null,
   "metadata": {},
   "outputs": [],
   "source": [
    "wer**2"
   ]
  },
  {
   "cell_type": "code",
   "execution_count": null,
   "metadata": {},
   "outputs": [],
   "source": [
    "name=np.array([\"rohit\",\"shashikant\",\"garud\",\"lata\",\"rohit\"])\n",
    "name"
   ]
  },
  {
   "cell_type": "code",
   "execution_count": null,
   "metadata": {},
   "outputs": [],
   "source": [
    "type(name)"
   ]
  },
  {
   "cell_type": "code",
   "execution_count": null,
   "metadata": {},
   "outputs": [],
   "source": [
    "name==\"rohit\""
   ]
  },
  {
   "cell_type": "code",
   "execution_count": null,
   "metadata": {},
   "outputs": [],
   "source": [
    "name[name==\"rohit\"]"
   ]
  },
  {
   "cell_type": "code",
   "execution_count": null,
   "metadata": {},
   "outputs": [],
   "source": [
    "(name==\"rohit\")|(name==\"lata\")"
   ]
  },
  {
   "cell_type": "code",
   "execution_count": null,
   "metadata": {},
   "outputs": [],
   "source": [
    "name[(name==\"rohit\")|(name==\"lata\")]"
   ]
  },
  {
   "cell_type": "code",
   "execution_count": null,
   "metadata": {},
   "outputs": [],
   "source": [
    "np.unique(name)"
   ]
  },
  {
   "cell_type": "markdown",
   "metadata": {},
   "source": [
    "### Numpy Arithematic operations"
   ]
  },
  {
   "cell_type": "code",
   "execution_count": null,
   "metadata": {},
   "outputs": [],
   "source": [
    "import numpy as np"
   ]
  },
  {
   "cell_type": "code",
   "execution_count": null,
   "metadata": {},
   "outputs": [],
   "source": [
    "qp=np.arange(1,10).reshape(3,3)\n",
    "qp"
   ]
  },
  {
   "cell_type": "code",
   "execution_count": null,
   "metadata": {},
   "outputs": [],
   "source": [
    "wo=np.array(([11,22,33],[44,55,66],[77,88,99]))  \n",
    "wo"
   ]
  },
  {
   "cell_type": "markdown",
   "metadata": {},
   "source": [
    "#### Add()\n",
    "- Add() do the addition of two array.\n",
    "- The No of rows and column should be of equal shape and size.\n",
    "- SYNTAX--> np.add(array1,array2)"
   ]
  },
  {
   "cell_type": "code",
   "execution_count": null,
   "metadata": {},
   "outputs": [],
   "source": [
    "wa=np.arange(1,10)\n",
    "aw=np.array([10,20,30,40,50,60,70,80,90])\n",
    "qs=np.add(wa,aw)                    #adding 1D array\n",
    "qs"
   ]
  },
  {
   "cell_type": "code",
   "execution_count": null,
   "metadata": {},
   "outputs": [],
   "source": [
    "qp"
   ]
  },
  {
   "cell_type": "code",
   "execution_count": null,
   "metadata": {},
   "outputs": [],
   "source": [
    "wo"
   ]
  },
  {
   "cell_type": "code",
   "execution_count": null,
   "metadata": {},
   "outputs": [],
   "source": [
    "ad=np.add(qp,wo)    #adding 2D array with shape 3,3\n",
    "ad"
   ]
  },
  {
   "cell_type": "markdown",
   "metadata": {},
   "source": [
    "### Subtract()\n",
    "- subtract() is used to subtract array from another array.\n",
    "- both the numbers of row and columm should be same size and shape\n",
    "- SYNTAX--> np.subtract(array1,array2)"
   ]
  },
  {
   "cell_type": "code",
   "execution_count": null,
   "metadata": {},
   "outputs": [],
   "source": [
    "qp"
   ]
  },
  {
   "cell_type": "code",
   "execution_count": null,
   "metadata": {},
   "outputs": [],
   "source": [
    "wo"
   ]
  },
  {
   "cell_type": "code",
   "execution_count": null,
   "metadata": {},
   "outputs": [],
   "source": [
    "sub=np.subtract(qp,wo)     #subtraction of 2D array\n",
    "sub"
   ]
  },
  {
   "cell_type": "code",
   "execution_count": null,
   "metadata": {},
   "outputs": [],
   "source": [
    "su=np.subtract(wo,qp)     #subtraction of 2D array\n",
    "su"
   ]
  },
  {
   "cell_type": "code",
   "execution_count": null,
   "metadata": {},
   "outputs": [],
   "source": [
    "wa=np.arange(1,10)          #Subtraction of 1D array\n",
    "aw=np.array([10,20,30,40,50,60,70,80,90])"
   ]
  },
  {
   "cell_type": "code",
   "execution_count": null,
   "metadata": {},
   "outputs": [],
   "source": [
    "was=np.subtract(aw,wa)  #subtracting 1D array\n",
    "was"
   ]
  },
  {
   "cell_type": "markdown",
   "metadata": {},
   "source": [
    "### Multiply()\n",
    "- multiply is used to multiply the array with other\n",
    "- both the numbers of row and columm should be same size and shape.\n",
    "- Syntax--> np.multiply(array1,array2)"
   ]
  },
  {
   "cell_type": "code",
   "execution_count": null,
   "metadata": {},
   "outputs": [],
   "source": [
    "wa=np.arange(1,10)\n",
    "wa"
   ]
  },
  {
   "cell_type": "code",
   "execution_count": null,
   "metadata": {},
   "outputs": [],
   "source": [
    "aw=np.array([10,20,30,40,50,60,70,80,90])\n",
    "aw"
   ]
  },
  {
   "cell_type": "code",
   "execution_count": null,
   "metadata": {},
   "outputs": [],
   "source": [
    "mlt=np.multiply(wa,aw)   # multiplying with 1D array\n",
    "mlt"
   ]
  },
  {
   "cell_type": "code",
   "execution_count": null,
   "metadata": {},
   "outputs": [],
   "source": [
    "qp"
   ]
  },
  {
   "cell_type": "code",
   "execution_count": null,
   "metadata": {},
   "outputs": [],
   "source": [
    "wo"
   ]
  },
  {
   "cell_type": "code",
   "execution_count": null,
   "metadata": {},
   "outputs": [],
   "source": [
    "jk=np.multiply(qp,wo)     #muliply with 2D array\n",
    "jk"
   ]
  },
  {
   "cell_type": "markdown",
   "metadata": {},
   "source": [
    "### Divide()\n",
    "- divide() is used to divide a array with other array.\n",
    "- No of rows and columns should be same.\n",
    "- SYNTAX--> np.divide(array1,array2)"
   ]
  },
  {
   "cell_type": "code",
   "execution_count": null,
   "metadata": {},
   "outputs": [],
   "source": [
    "qp"
   ]
  },
  {
   "cell_type": "code",
   "execution_count": null,
   "metadata": {},
   "outputs": [],
   "source": [
    "wo"
   ]
  },
  {
   "cell_type": "code",
   "execution_count": null,
   "metadata": {},
   "outputs": [],
   "source": [
    "np.divide(wo,qp)  #here wo/qp         ie.   (11,22,33...88,99) is divided by(1,2,3...8,9)"
   ]
  },
  {
   "cell_type": "code",
   "execution_count": null,
   "metadata": {},
   "outputs": [],
   "source": [
    "np.divide(qp,wo)"
   ]
  },
  {
   "cell_type": "markdown",
   "metadata": {},
   "source": [
    "### Remainde()\n",
    "- remainder() gives the remainder whic we get after the division.\n",
    "- SYNTAX--> np.remainder(arraay1,array2)"
   ]
  },
  {
   "cell_type": "code",
   "execution_count": null,
   "metadata": {},
   "outputs": [],
   "source": [
    "np.remainder(wo,qp)"
   ]
  },
  {
   "cell_type": "code",
   "execution_count": null,
   "metadata": {},
   "outputs": [],
   "source": [
    "et=np.array(([2,1,1],[1,2,1,],[2,5,1]))\n",
    "et"
   ]
  },
  {
   "cell_type": "code",
   "execution_count": null,
   "metadata": {},
   "outputs": [],
   "source": [
    "wo"
   ]
  },
  {
   "cell_type": "code",
   "execution_count": null,
   "metadata": {},
   "outputs": [],
   "source": [
    "np.remainder(wo,et)"
   ]
  },
  {
   "cell_type": "markdown",
   "metadata": {},
   "source": [
    "### matmul()\n",
    "- matmul() means matrix multiplication.\n",
    "- Multiplication is done rows * column.\n",
    "- no of columns of 1 array should be equal to no rows of 2array.\n",
    "- to verify the ans the desired ans will be of shape 1array row * 2array column.\n",
    "- SYNTAX--> np.matmul(array1,array2)"
   ]
  },
  {
   "cell_type": "code",
   "execution_count": null,
   "metadata": {},
   "outputs": [],
   "source": [
    "wo"
   ]
  },
  {
   "cell_type": "code",
   "execution_count": null,
   "metadata": {},
   "outputs": [],
   "source": [
    "et"
   ]
  },
  {
   "cell_type": "code",
   "execution_count": null,
   "metadata": {},
   "outputs": [],
   "source": [
    "np.matmul(wo,et)"
   ]
  },
  {
   "attachments": {
    "matmul.jpeg": {
     "image/jpeg": "[encoded data removed]"
    }
   },
   "cell_type": "markdown",
   "metadata": {},
   "source": [
    "### ![matmul.jpeg](attachment:matmul.jpeg)"
   ]
  },
  {
   "cell_type": "code",
   "execution_count": null,
   "metadata": {},
   "outputs": [],
   "source": [
    "alk=np.array(([1,2,1],[2,1,2],[2,1,3]))\n",
    "kla=np.array(([1,2,1],[0,2,1],[1,0,2]))\n",
    "np.matmul(alk,kla)"
   ]
  },
  {
   "cell_type": "markdown",
   "metadata": {},
   "source": [
    "##### Note some martix operations are remaning"
   ]
  },
  {
   "cell_type": "markdown",
   "metadata": {},
   "source": [
    "# PANDAS\n",
    "- Pandas stands for Panel-Data.\n",
    "- Pandas is a powerful data analysis and manipulation library for Python.\n",
    "- Pandas is an open-source Python Library providing high-performance data manipulation and analysis tool using its powerful data structures. \n",
    "\n",
    "**Features Of Pandas:**\n",
    "\n",
    "- Fast and efficient DataFrame object with default and customized indexing.\n",
    "- Tools for loading data into in-memory data objects from different file formats.\n",
    "- Data alignment and integrated handling of missing data.\n",
    "- Reshaping and pivoting of date sets.\n",
    "- Label-based slicing, indexing and subsetting of large data sets.\n",
    "- Columns from a data structure can be deleted or inserted.\n",
    "- Group by data for aggregation and transformations.\n",
    "- High performance merging and joining of data.\n",
    "- Time Series functionality."
   ]
  },
  {
   "cell_type": "markdown",
   "metadata": {},
   "source": [
    "#### Series\n",
    "- Series is 1D homogenously typed array."
   ]
  },
  {
   "cell_type": "markdown",
   "metadata": {},
   "source": [
    "#### Data frames.\n",
    "- Data frames are generally 2D labelled,with heterogenous typed column.\n",
    "- DataFrames are generally in tabular format.\n",
    "- Data frame is the combination of rows and columns where in we can load any data like excel,xml,json to python data object in the same tabular form in which it is."
   ]
  },
  {
   "cell_type": "markdown",
   "metadata": {},
   "source": [
    "##### Import pandas"
   ]
  },
  {
   "cell_type": "code",
   "execution_count": null,
   "metadata": {},
   "outputs": [],
   "source": [
    "import pandas as pd\n",
    "import numpy as np"
   ]
  },
  {
   "cell_type": "markdown",
   "metadata": {},
   "source": [
    "# Series()\n",
    "- Series is a one-dimensional labeled array capable of holding data of any type (integer, string, float, python objects, etc.). The axis labels are collectively called index.\n",
    "- Syntax: pd.Series( data, index, dtype, copy)\n",
    "- By default the index is 1,2,3,4   so on.\n",
    "- we can specify or change default index name."
   ]
  },
  {
   "cell_type": "markdown",
   "metadata": {},
   "source": [
    "#### Creating Empty Series"
   ]
  },
  {
   "cell_type": "code",
   "execution_count": null,
   "metadata": {},
   "outputs": [],
   "source": [
    "s=pd.Series()\n",
    "s"
   ]
  },
  {
   "cell_type": "code",
   "execution_count": null,
   "metadata": {},
   "outputs": [],
   "source": [
    "type(s)"
   ]
  },
  {
   "cell_type": "markdown",
   "metadata": {},
   "source": [
    "#### Creating Series "
   ]
  },
  {
   "cell_type": "code",
   "execution_count": null,
   "metadata": {},
   "outputs": [],
   "source": [
    "j=pd.Series([1,2,3,4,\"p\",5,6])\n",
    "j"
   ]
  },
  {
   "cell_type": "code",
   "execution_count": null,
   "metadata": {},
   "outputs": [],
   "source": [
    "type(j)"
   ]
  },
  {
   "cell_type": "markdown",
   "metadata": {},
   "source": [
    "#### Creating Series with Python List"
   ]
  },
  {
   "cell_type": "code",
   "execution_count": null,
   "metadata": {},
   "outputs": [],
   "source": [
    "lsst=[1,2,3]    #dout it also creates multiple columns\n",
    "s=pd.Series(lsst,index=[\"C1\",\"C2\",\"C3\"])   #it converts column to row in series and it is 1D.\n",
    "s"
   ]
  },
  {
   "cell_type": "code",
   "execution_count": null,
   "metadata": {},
   "outputs": [],
   "source": [
    "lsst=[[1,2,3],[4,5,6],[66,55,44]]    #doubt it also creates multiple columns\n",
    "s=pd.Series(lsst,index=[\"R1\",\"R2\",\"R3\"])\n",
    "# print(type(s))\n",
    "# print(s.shape)\n",
    "print(s)"
   ]
  },
  {
   "cell_type": "code",
   "execution_count": null,
   "metadata": {},
   "outputs": [],
   "source": [
    "print(s.shape)\n",
    "print(type(s))"
   ]
  },
  {
   "cell_type": "markdown",
   "metadata": {},
   "source": [
    "#### creating series with dictionary"
   ]
  },
  {
   "cell_type": "code",
   "execution_count": null,
   "metadata": {},
   "outputs": [],
   "source": [
    "dctn={\"Name\":\"rohit\",\"City\":\"badlapur\",\"Age\":25}\n",
    "s=pd.Series(dctn) #here NaN mean not a number or missing value as key empty is not present in dictionary\n",
    "s"
   ]
  },
  {
   "cell_type": "code",
   "execution_count": null,
   "metadata": {},
   "outputs": [],
   "source": [
    "dctn={\"Name\":\"rohit\",\"City\":\"badlapur\",\"Age\":25}\n",
    "s=pd.Series(dctn,index=[\"Name\",\"Age\",\"City\",\"Empty\"])   #here according to our need we had rearranged key/index\n",
    "s       #here NaN mean not a number or missing value as key empty is not present in dictionary"
   ]
  },
  {
   "cell_type": "markdown",
   "metadata": {},
   "source": [
    "#### creating Series with numpy arrays"
   ]
  },
  {
   "cell_type": "code",
   "execution_count": null,
   "metadata": {},
   "outputs": [],
   "source": [
    "data=np.array([1,2,3])\n",
    "indexx=np.array([101,102,103])\n",
    "s=pd.Series(data,index=indexx)\n",
    "s"
   ]
  },
  {
   "cell_type": "markdown",
   "metadata": {},
   "source": [
    "#### Creating Scalar value of series"
   ]
  },
  {
   "cell_type": "code",
   "execution_count": null,
   "metadata": {},
   "outputs": [],
   "source": [
    "s=pd.Series(data=\"@123\",index=[1,2,3,4,5])  #tere is no need to specify data and index.\n",
    "s"
   ]
  },
  {
   "cell_type": "markdown",
   "metadata": {},
   "source": [
    "# DataFrame()\n",
    "- DataFrame should be greater than 1row and 1column.\n",
    "- DataFrame is 2D array."
   ]
  },
  {
   "cell_type": "markdown",
   "metadata": {},
   "source": [
    "#### Creating empty DataFrame\n"
   ]
  },
  {
   "cell_type": "code",
   "execution_count": null,
   "metadata": {},
   "outputs": [],
   "source": [
    "df=pd.DataFrame([])      #empty DataFrame\n",
    "df"
   ]
  },
  {
   "cell_type": "code",
   "execution_count": null,
   "metadata": {},
   "outputs": [],
   "source": [
    "type(df)"
   ]
  },
  {
   "cell_type": "markdown",
   "metadata": {},
   "source": [
    "#### Creating DataFrame with Python List"
   ]
  },
  {
   "cell_type": "code",
   "execution_count": null,
   "metadata": {},
   "outputs": [],
   "source": [
    "lst=[1,2,3,4,\"g\",6]   #in Data Frames data can be heterogenous\n",
    "df=pd.DataFrame(lst)\n",
    "df"
   ]
  },
  {
   "cell_type": "markdown",
   "metadata": {},
   "source": [
    "####  Creating DataFrame with python list with Multiple Rows and Columns"
   ]
  },
  {
   "cell_type": "code",
   "execution_count": null,
   "metadata": {},
   "outputs": [],
   "source": [
    "l=[[1,2,3],[\"i\",\"j\",\"k\"],[10.5,\"k\",5]]  #here Data is heterogenous\n",
    "df=pd.DataFrame(l,index=[\"R1\",\"R2\",\"R3\"],columns=[\"C1\",\"C2\",\"C3\"])\n",
    "df"
   ]
  },
  {
   "cell_type": "code",
   "execution_count": null,
   "metadata": {},
   "outputs": [],
   "source": [
    "type(df)"
   ]
  },
  {
   "cell_type": "markdown",
   "metadata": {},
   "source": [
    "#### Creating DataFrame With nested Tuples."
   ]
  },
  {
   "cell_type": "code",
   "execution_count": null,
   "metadata": {},
   "outputs": [],
   "source": [
    "l=((1,2,3),(\"i\",\"j\",\"k\"),(10.5,\"k\",5)) #here Data is heterogenous\n",
    "df=pd.DataFrame(l,index=[\"R1\",\"R2\",\"R3\"],columns=[\"C1\",\"C2\",\"C3\"])\n",
    "df"
   ]
  },
  {
   "cell_type": "markdown",
   "metadata": {},
   "source": [
    "#### Creating Data frame with dictionary.\n",
    "- We have to not specify the column name as key is set as column.\n",
    "- we have to specify the index depending on that the record/row will be created."
   ]
  },
  {
   "cell_type": "code",
   "execution_count": null,
   "metadata": {},
   "outputs": [],
   "source": [
    "dct={\"name\":\"Rohit\",\"Age\":25,\"Gender\":\"Male\",\"city\":\"badlapur\"}    #here key is set to be column name.\n",
    "df=pd.DataFrame(dct,index=[1])\n",
    "df"
   ]
  },
  {
   "cell_type": "markdown",
   "metadata": {},
   "source": [
    "#### Creating DataFrames with dictionary here there are multiple values for the single key."
   ]
  },
  {
   "cell_type": "code",
   "execution_count": null,
   "metadata": {},
   "outputs": [],
   "source": [
    "dt={\"name\":[\"rohit\",\"rishi\",\"riddhi\",\"rohan\",\"sandeep\"],\"age\":[22,25,33,44,11],\"Grade\":[\"A\",\"B\",\"C\",\"A\",\"D\"]}\n",
    "df=pd.DataFrame(dt,index=[1,2,3,4,5])\n",
    "df"
   ]
  },
  {
   "cell_type": "code",
   "execution_count": null,
   "metadata": {},
   "outputs": [],
   "source": [
    "dt={\"name\":[\"rohit\",\"rishi\",\"riddhi\",\"rohan\",\"sandeep\"],\"age\":[22,25,33,44,11],\"Grade\":[\"A\",\"B\",\"C\",\"A\",\"D\"]}\n",
    "df=pd.DataFrame(dt,index=[1,2,3,4,5],columns=[\"Grade\",\"age\",\"name\"])\n",
    "df"
   ]
  },
  {
   "cell_type": "markdown",
   "metadata": {},
   "source": [
    "#### to Save the D2 array as csv"
   ]
  },
  {
   "cell_type": "code",
   "execution_count": null,
   "metadata": {},
   "outputs": [],
   "source": [
    "df.to_csv(\"Grade.csv\")    # File got Save on jupyter notebook as Grade"
   ]
  },
  {
   "cell_type": "markdown",
   "metadata": {},
   "source": [
    "#### Creating DataFrame with numpy arrays"
   ]
  },
  {
   "cell_type": "code",
   "execution_count": null,
   "metadata": {},
   "outputs": [],
   "source": [
    "df=pd.DataFrame(np.arange(1,21).reshape(5,4))  #Basic Data Frame without index and column name. Always row*column=size"
   ]
  },
  {
   "cell_type": "code",
   "execution_count": null,
   "metadata": {},
   "outputs": [],
   "source": [
    "df "
   ]
  },
  {
   "cell_type": "code",
   "execution_count": null,
   "metadata": {},
   "outputs": [],
   "source": [
    "df.shape"
   ]
  },
  {
   "cell_type": "code",
   "execution_count": null,
   "metadata": {},
   "outputs": [],
   "source": [
    "df.size"
   ]
  },
  {
   "cell_type": "markdown",
   "metadata": {},
   "source": [
    "### Creating DataFramewith numpy arrays and giving index and column name\n",
    "**Syntax:-**\n",
    "- var=pd.DataFrame(array,index=[row name as per row],column=[column name as per shape])"
   ]
  },
  {
   "cell_type": "code",
   "execution_count": null,
   "metadata": {},
   "outputs": [],
   "source": [
    "df=pd.DataFrame(np.arange(1,25).reshape(6,4),index=[\"row1\",\"row2\",\"row3\",\"row4\",\"row5\",\"R6\"],columns=[\"col1\",\"col2\",\"col3\",\"col4\"])"
   ]
  },
  {
   "cell_type": "code",
   "execution_count": null,
   "metadata": {},
   "outputs": [],
   "source": [
    "df"
   ]
  },
  {
   "cell_type": "code",
   "execution_count": null,
   "metadata": {},
   "outputs": [],
   "source": [
    "df.head()    #head returns konly top five values"
   ]
  },
  {
   "cell_type": "markdown",
   "metadata": {},
   "source": [
    "#### #Creating dataframe from already existed 2d array of shape (3,3)and giving index and column"
   ]
  },
  {
   "cell_type": "code",
   "execution_count": null,
   "metadata": {},
   "outputs": [],
   "source": [
    "ww=np.arange(1,10).reshape(3,3) #Creating dataframe from already existed 2d array of shape (3,3)and giving index and column\n",
    "ww                                   #name"
   ]
  },
  {
   "cell_type": "code",
   "execution_count": null,
   "metadata": {},
   "outputs": [],
   "source": [
    "df=pd.DataFrame(ww,index=[\"r1\",\"r2\",\"r3\"],columns=[\"col1\",\"col2\",\"col2\"])\n",
    "df"
   ]
  },
  {
   "cell_type": "code",
   "execution_count": null,
   "metadata": {},
   "outputs": [],
   "source": [
    "type(df)    #here the Data type if dataframe"
   ]
  },
  {
   "cell_type": "code",
   "execution_count": null,
   "metadata": {},
   "outputs": [],
   "source": [
    "#practise\n",
    "df=pd.DataFrame(np.arange(1,13).reshape(3,4),index=[\"R1\",\"R2\",\"R3\"],columns=[\"C1\",\"C2\",\"C3\",\"C4\"])\n",
    "df"
   ]
  },
  {
   "cell_type": "code",
   "execution_count": null,
   "metadata": {},
   "outputs": [],
   "source": [
    "#practise\n",
    "dtt={\"name\":[\"rohit\",\"garud\"],\"age\":[1,2],\"grade\":[\"a\",\"b\"],\"city\":[\"badlapur\",\"bombay\"],\"course\":[\"DS\",\"CS\"]}\n",
    "df=pd.DataFrame(dtt,index=[1,2])\n",
    "df"
   ]
  },
  {
   "cell_type": "code",
   "execution_count": null,
   "metadata": {},
   "outputs": [],
   "source": [
    "#practise\n",
    "df=pd.DataFrame(np.arange(1,10).reshape(3,3),index=[101,102,103],columns=[11,22,33])\n",
    "df"
   ]
  },
  {
   "cell_type": "code",
   "execution_count": null,
   "metadata": {},
   "outputs": [],
   "source": [
    "df.head()"
   ]
  },
  {
   "cell_type": "markdown",
   "metadata": {},
   "source": [
    "### Accessing the elements in pandas"
   ]
  },
  {
   "cell_type": "markdown",
   "metadata": {},
   "source": [
    "##### Accessing Series\n",
    "- In series there is more than 1 row but the column should not be more than one.\n",
    "- more than one row,column is treated as dataframe\n",
    "- Syntax--> var.loc[row]"
   ]
  },
  {
   "cell_type": "code",
   "execution_count": null,
   "metadata": {},
   "outputs": [],
   "source": [
    "import pandas as pd"
   ]
  },
  {
   "cell_type": "code",
   "execution_count": null,
   "metadata": {},
   "outputs": [],
   "source": [
    "df=pd.DataFrame(np.arange(1,10).reshape(3,3),index=[\"R1\",\"R2\",\"R3\"],columns=[\"C1\",\"C2\",\"C3\"])\n",
    "df"
   ]
  },
  {
   "cell_type": "code",
   "execution_count": null,
   "metadata": {},
   "outputs": [],
   "source": [
    "df.loc[\"R1\"]    #accessing the series by using row/index and here column is treated as row"
   ]
  },
  {
   "cell_type": "code",
   "execution_count": null,
   "metadata": {},
   "outputs": [],
   "source": [
    "type(df.loc[\"R2\"])    #here the data type is series"
   ]
  },
  {
   "cell_type": "code",
   "execution_count": null,
   "metadata": {},
   "outputs": [],
   "source": [
    "df.loc[\"R3\"]   #accessing the series by using row/index and here column is treated as row"
   ]
  },
  {
   "cell_type": "code",
   "execution_count": null,
   "metadata": {},
   "outputs": [],
   "source": [
    "type(df.loc[\"R1\"])"
   ]
  },
  {
   "cell_type": "markdown",
   "metadata": {},
   "source": [
    "#### Accessing dataframe using iloc[]\n",
    "- There should be more than one row and one column.\n",
    "- Syntax--> var.iloc[:,:]     --[rowindex:rowindex,columnindex:columnindex]"
   ]
  },
  {
   "cell_type": "code",
   "execution_count": null,
   "metadata": {},
   "outputs": [],
   "source": [
    "df"
   ]
  },
  {
   "cell_type": "code",
   "execution_count": null,
   "metadata": {},
   "outputs": [],
   "source": [
    "df.iloc[0:2,0:2]       #here we can do accessing by using iloc row index,column index"
   ]
  },
  {
   "cell_type": "code",
   "execution_count": null,
   "metadata": {},
   "outputs": [],
   "source": [
    "type(df.iloc[0:2,0:2])    #here the data type is data frame because more than 1row and column"
   ]
  },
  {
   "cell_type": "code",
   "execution_count": null,
   "metadata": {},
   "outputs": [],
   "source": [
    "df.iloc[0:3,1]"
   ]
  },
  {
   "cell_type": "code",
   "execution_count": null,
   "metadata": {},
   "outputs": [],
   "source": [
    "type(df.iloc[0:3,1])"
   ]
  },
  {
   "cell_type": "code",
   "execution_count": null,
   "metadata": {},
   "outputs": [],
   "source": [
    "df"
   ]
  },
  {
   "cell_type": "markdown",
   "metadata": {},
   "source": [
    "### Creating arrays from Series and DataFrame"
   ]
  },
  {
   "cell_type": "markdown",
   "metadata": {},
   "source": [
    "#### COnverting Series to Array\n",
    "- Syntax--> var_series.values"
   ]
  },
  {
   "cell_type": "code",
   "execution_count": null,
   "metadata": {},
   "outputs": [],
   "source": [
    "tr=pd.Series([11,22,33])\n",
    "tr"
   ]
  },
  {
   "cell_type": "code",
   "execution_count": null,
   "metadata": {},
   "outputs": [],
   "source": [
    "type(tr)"
   ]
  },
  {
   "cell_type": "code",
   "execution_count": null,
   "metadata": {},
   "outputs": [],
   "source": [
    "tr.values  #converting Series to array"
   ]
  },
  {
   "cell_type": "markdown",
   "metadata": {},
   "source": [
    "#### Converting DataFrame to array\n",
    "- Syntax--> df_series.values"
   ]
  },
  {
   "cell_type": "code",
   "execution_count": null,
   "metadata": {},
   "outputs": [],
   "source": [
    "df=pd.DataFrame(np.arange(1,13).reshape(4,3),index=[\"R1\",\"R2\",\"R3\",\"R4\"],columns=[\"C1\",\"C2\",\"C3\"])\n",
    "df       #created (4,3) dataframe"
   ]
  },
  {
   "cell_type": "code",
   "execution_count": null,
   "metadata": {},
   "outputs": [],
   "source": [
    "df.values      #values is used to convert dataframe to array"
   ]
  },
  {
   "cell_type": "code",
   "execution_count": null,
   "metadata": {},
   "outputs": [],
   "source": [
    "df.iloc[:,1:].values        #converting iloc dataframe  elements to array"
   ]
  },
  {
   "cell_type": "code",
   "execution_count": null,
   "metadata": {},
   "outputs": [],
   "source": [
    "df.iloc[:,1:].shape      #used accessing elements ie iloc dataframe then the Shape "
   ]
  },
  {
   "cell_type": "code",
   "execution_count": null,
   "metadata": {},
   "outputs": [],
   "source": [
    "df.iloc[:,1:].values.shape    #used iloc to access elements and then converted to array and shape of array"
   ]
  },
  {
   "cell_type": "code",
   "execution_count": null,
   "metadata": {},
   "outputs": [],
   "source": [
    "df.iloc[:,1:].values.size    #used iloc to access elements and then converted to array and size of array"
   ]
  },
  {
   "cell_type": "code",
   "execution_count": null,
   "metadata": {},
   "outputs": [],
   "source": [
    "df[\"C1\"]    #we can also get the columns using the var[\"column_name\"] a part from loc and iloc"
   ]
  },
  {
   "cell_type": "code",
   "execution_count": null,
   "metadata": {},
   "outputs": [],
   "source": [
    "df.loc[\"R1\"]      #here we get the columns ot that particular row/ record"
   ]
  },
  {
   "cell_type": "code",
   "execution_count": null,
   "metadata": {},
   "outputs": [],
   "source": [
    "df[[\"C1\",\"C2\"]]   #can also access multiple columns."
   ]
  },
  {
   "cell_type": "code",
   "execution_count": null,
   "metadata": {},
   "outputs": [],
   "source": [
    "s=df.iloc[0:1,0]    #if we store the accessed element to variable then only the changes happen permenantly\n",
    "s                    #ie Dataframe changed to series"
   ]
  },
  {
   "cell_type": "code",
   "execution_count": null,
   "metadata": {},
   "outputs": [],
   "source": [
    "type(s)"
   ]
  },
  {
   "cell_type": "markdown",
   "metadata": {},
   "source": [
    "# Pandas Built Functions "
   ]
  },
  {
   "cell_type": "markdown",
   "metadata": {},
   "source": [
    "####  sum()\n",
    "- Sum() is a built function of pandas.\n",
    "- for sum every records in the table/ column should be number.\n",
    "- sum returns the sum of all the elements present in each column respectively.\n",
    "- sum returns the df into series.\n",
    "- SYNTAX-->  var.sum()"
   ]
  },
  {
   "cell_type": "code",
   "execution_count": null,
   "metadata": {},
   "outputs": [],
   "source": [
    "df=pd.DataFrame([[0,1,2],[1,2,3],[0,2,3]],index=[\"R1\",\"R2\",\"R3\"],columns=[\"C1\",\"C2\",\"C3\"])\n",
    "df"
   ]
  },
  {
   "cell_type": "code",
   "execution_count": null,
   "metadata": {},
   "outputs": [],
   "source": [
    "df.sum()    #df.sum() gives the sum of all the elements present in respective columns.\n",
    "                #here the total sum of c1=1 , c2=5, c3=8."
   ]
  },
  {
   "cell_type": "code",
   "execution_count": null,
   "metadata": {},
   "outputs": [],
   "source": [
    "type(df.sum())"
   ]
  },
  {
   "cell_type": "markdown",
   "metadata": {},
   "source": [
    "### isnull()\n",
    "- isnull() is abuilt function of pandas.\n",
    "- isnull() is used to find if there is any null/ empty values present in dataframe. (**note--0 is not a  null value**)\n",
    "- isnull() returns ans in boolean ie True or False.\n",
    "- isnull().sum() returns sum of the total null elements\n",
    "- SYNTAX--> var.isnull()              Bool ie True or False\n",
    "- Syntax--> var.isnull().sum()        sum of the total null elements"
   ]
  },
  {
   "cell_type": "code",
   "execution_count": null,
   "metadata": {},
   "outputs": [],
   "source": [
    "df"
   ]
  },
  {
   "cell_type": "code",
   "execution_count": null,
   "metadata": {},
   "outputs": [],
   "source": [
    "df.isnull()   #df.isnull() returns where there is null values present in DF. If present will return True."
   ]
  },
  {
   "cell_type": "code",
   "execution_count": null,
   "metadata": {},
   "outputs": [],
   "source": [
    "df.isnull().sum()   #df.isnull(),sum() gives 0 as there are no null values present in DataFrame"
   ]
  },
  {
   "cell_type": "code",
   "execution_count": null,
   "metadata": {},
   "outputs": [],
   "source": [
    "type(df.isnull().sum())    #df.isnull().sum() returns the column and the count of null value in the respective column\n",
    "                             #it returns column in series datatype."
   ]
  },
  {
   "cell_type": "code",
   "execution_count": null,
   "metadata": {},
   "outputs": [],
   "source": [
    "df[\"C1\"].value_counts()    #here value_counts gives the total occurance count of the elements in dataframe"
   ]
  },
  {
   "cell_type": "markdown",
   "metadata": {},
   "source": [
    "### Count()\n",
    "- count is a built function of pandas.\n",
    "- it works on the column.\n",
    "-  does not works on rows.\n",
    "- does not count null values.\n",
    "- var[\"column_name\"].count()          give the number of record/rows of the column.Dtype=int32\n",
    "- var[\"Column_name\"].value_counts()   give the total occurance of the elements of that specified column. Dtype=Series"
   ]
  },
  {
   "cell_type": "code",
   "execution_count": null,
   "metadata": {},
   "outputs": [],
   "source": [
    "df=pd.DataFrame([[0,1,2],[1,2,3],[0,2,3],[1,2,3]],index=[\"R1\",\"R2\",\"R3\",\"R4\"],columns=[\"C1\",\"C2\",\"C3\"])\n",
    "df"
   ]
  },
  {
   "cell_type": "code",
   "execution_count": null,
   "metadata": {},
   "outputs": [],
   "source": [
    "df[\"C3\"].count()     #count() give the number of record/rows of the specefied column."
   ]
  },
  {
   "cell_type": "code",
   "execution_count": null,
   "metadata": {},
   "outputs": [],
   "source": [
    "df[\"C1\"].count()"
   ]
  },
  {
   "cell_type": "code",
   "execution_count": null,
   "metadata": {},
   "outputs": [],
   "source": [
    "type(df[\"C3\"].count())    #the datatype is numpy.int32"
   ]
  },
  {
   "cell_type": "code",
   "execution_count": null,
   "metadata": {},
   "outputs": [],
   "source": [
    "df[\"C2\"].value_counts()  #give the total occurance of the elements of that specified column. Dtype=series"
   ]
  },
  {
   "cell_type": "code",
   "execution_count": null,
   "metadata": {},
   "outputs": [],
   "source": [
    "df[\"C3\"].value_counts()  #here 3 is present three times and 2 is present one time"
   ]
  },
  {
   "cell_type": "code",
   "execution_count": null,
   "metadata": {},
   "outputs": [],
   "source": [
    "type(df[\"C3\"].value_counts())   #the Data type is series."
   ]
  },
  {
   "cell_type": "markdown",
   "metadata": {},
   "source": [
    "### unique()\n",
    "- unique is used to find the unique elements of specified column of the DF.\n",
    "- var[\"Column_name\"].unique it returns the result in series.\n",
    "- var[\"Column_name\"].unique() it returns the result in array."
   ]
  },
  {
   "cell_type": "code",
   "execution_count": null,
   "metadata": {},
   "outputs": [],
   "source": [
    "df=pd.DataFrame([[0,1,2],[1,2,3],[0,2,4],[1,2,3]],index=[\"R1\",\"R2\",\"R3\",\"R4\"],columns=[\"C1\",\"C2\",\"C3\"])\n",
    "df"
   ]
  },
  {
   "cell_type": "code",
   "execution_count": null,
   "metadata": {},
   "outputs": [],
   "source": [
    "df[\"C2\"].unique()"
   ]
  },
  {
   "cell_type": "code",
   "execution_count": null,
   "metadata": {},
   "outputs": [],
   "source": [
    "df[\"C1\"].unique()"
   ]
  },
  {
   "cell_type": "code",
   "execution_count": null,
   "metadata": {},
   "outputs": [],
   "source": [
    "df[\"C3\"].unique()   #It returns unique array from the Data Frame"
   ]
  },
  {
   "cell_type": "code",
   "execution_count": null,
   "metadata": {},
   "outputs": [],
   "source": [
    "type(df[\"C1\"].unique())   #returns array"
   ]
  },
  {
   "cell_type": "markdown",
   "metadata": {},
   "source": [
    "### info()\n",
    "- info gives the total description of the dataframe\n",
    "- it gives info of index,column,not-null count,Dtype\n",
    "- It is only applicable for Dataframe.\n",
    "- It is not applicable for Series.\n",
    "- SYNTAX--> var.info()"
   ]
  },
  {
   "cell_type": "code",
   "execution_count": null,
   "metadata": {},
   "outputs": [],
   "source": [
    "df.info()"
   ]
  },
  {
   "cell_type": "code",
   "execution_count": null,
   "metadata": {},
   "outputs": [],
   "source": [
    "type(s)"
   ]
  },
  {
   "cell_type": "markdown",
   "metadata": {},
   "source": [
    "### describe()\n",
    "- describe gives all the mathematical calculation of each column respectively.\n",
    "- describe only works on only the column with numbers as an element.\n",
    "- describe does not works on the column with alphabet as elements.\n",
    "- describe works for both dataframe as well as series.\n",
    "- For Dataframe it gives calculation of count,mean,std,min,25%,50%,75%,max each columns respectively.\n",
    "- #For Series it gives mathematical calculation of count,unique,top,freq,dtype of each columns respectively.\n",
    "- SYNTAX--> var.describe()"
   ]
  },
  {
   "cell_type": "markdown",
   "metadata": {},
   "source": [
    "#### describe for Data Frame.\n",
    "- describe gives all the mathematical calculation of each column respectively.\n",
    "- count,mean,std,min,25%,50%,75%,max.\n",
    "- describe works for both dataframe as well as series.\n",
    "- SYNTAX--> var.describe()"
   ]
  },
  {
   "cell_type": "code",
   "execution_count": null,
   "metadata": {},
   "outputs": [],
   "source": [
    "df"
   ]
  },
  {
   "cell_type": "code",
   "execution_count": null,
   "metadata": {},
   "outputs": [],
   "source": [
    "df.describe()   #gives all the mathematical calculation of each column respectively"
   ]
  },
  {
   "cell_type": "markdown",
   "metadata": {},
   "source": [
    "#### describe for Series\n",
    "- describe gives all the mathematical calculation of each column respectively.\n",
    "- gives mathematical calculation of count,unique,top,freq,dtype.\n",
    "- SYNTAX--> var.describe()"
   ]
  },
  {
   "cell_type": "code",
   "execution_count": null,
   "metadata": {},
   "outputs": [],
   "source": [
    "s=pd.Series([[1,2,3],[4,5,6]])\n",
    "s"
   ]
  },
  {
   "cell_type": "code",
   "execution_count": null,
   "metadata": {},
   "outputs": [],
   "source": [
    "type(s)"
   ]
  },
  {
   "cell_type": "code",
   "execution_count": null,
   "metadata": {},
   "outputs": [],
   "source": [
    "s.describe()  #gives mathematical calculation of count,unique,top,freq,dtype"
   ]
  },
  {
   "cell_type": "code",
   "execution_count": null,
   "metadata": {},
   "outputs": [],
   "source": [
    "df"
   ]
  },
  {
   "cell_type": "markdown",
   "metadata": {},
   "source": [
    "### Converting DataFrame,Series to CSV\n",
    "- CSV are comma seperated values.\n",
    "- every elements are seperated by comma.\n",
    "- SYNTAX--> var.to_csv(\"file_name\")"
   ]
  },
  {
   "cell_type": "markdown",
   "metadata": {},
   "source": [
    "##### Converting DataFrame to csv\n",
    "- Syntax--> var.to_csv(\"File_name\")"
   ]
  },
  {
   "cell_type": "code",
   "execution_count": null,
   "metadata": {},
   "outputs": [],
   "source": [
    "df=pd.DataFrame([[0,1,2],[1,2,3],[0,2,4],[1,2,3]],index=[\"R1\",\"R2\",\"R3\",\"R4\"],columns=[\"C1\",\"C2\",\"C3\"])\n",
    "df"
   ]
  },
  {
   "cell_type": "code",
   "execution_count": null,
   "metadata": {},
   "outputs": [],
   "source": [
    "df.iloc[0:,1]"
   ]
  },
  {
   "cell_type": "code",
   "execution_count": null,
   "metadata": {},
   "outputs": [],
   "source": [
    "df.to_csv(\"Example_how_to_convert_DF_To_CSV\")"
   ]
  },
  {
   "cell_type": "markdown",
   "metadata": {},
   "source": [
    "##### Converting Series to csv\n",
    "- Syntax--> var.to_csv(\"File_Name\")"
   ]
  },
  {
   "cell_type": "code",
   "execution_count": null,
   "metadata": {},
   "outputs": [],
   "source": [
    "s"
   ]
  },
  {
   "cell_type": "code",
   "execution_count": null,
   "metadata": {},
   "outputs": [],
   "source": [
    "s.to_csv(\"Example_how_to_convert_Series_To_CSV\")"
   ]
  },
  {
   "cell_type": "markdown",
   "metadata": {},
   "source": [
    "### Reading the csv\n",
    "- reading df_csv as dataframe and s_csv as series.\n",
    "- reading csv means reading the csv file and it result's in Dataframe,Series depending on csv file.\n",
    "- Basically csv  is seperated by comma ,\n",
    "- if it is seperated by any diff symbol used that in sep=\"symbol\".\n",
    "- **SYNTAX-->** new_var=pd.read_csv(\"csv_file_name\")\\"
   ]
  },
  {
   "cell_type": "code",
   "execution_count": null,
   "metadata": {},
   "outputs": [],
   "source": [
    "df_csv=pd.read_csv(\"Example_how_to_convert_DF_To_CSV\")    #reading df_csv as dataframe\n",
    "df_csv"
   ]
  },
  {
   "cell_type": "code",
   "execution_count": null,
   "metadata": {},
   "outputs": [],
   "source": [
    "s_csv=pd.read_csv(\"Example_how_to_convert_Series_To_CSV\")   #reading s_csv as series\n",
    "s_csv"
   ]
  },
  {
   "cell_type": "markdown",
   "metadata": {},
   "source": [
    "### practise of converting and reading csv"
   ]
  },
  {
   "cell_type": "code",
   "execution_count": null,
   "metadata": {},
   "outputs": [],
   "source": [
    "#practise of converting Df to csv and then reading that csv as Df again\n",
    "df=pd.DataFrame(np.arange(1,10).reshape(3,3),index=[\"R1\",\"R2\",\"R3\"],columns=[\"C1\",\"C2\",\"C3\"])\n",
    "df     #created DataFrame"
   ]
  },
  {
   "cell_type": "code",
   "execution_count": null,
   "metadata": {},
   "outputs": [],
   "source": [
    "df.to_csv(\"practise_csv\")     #converted Df to csv"
   ]
  },
  {
   "cell_type": "code",
   "execution_count": null,
   "metadata": {},
   "outputs": [],
   "source": [
    "new_df=pd.read_csv(\"practise_csv\")   #read csv as Df\n",
    "new_df"
   ]
  },
  {
   "cell_type": "code",
   "execution_count": null,
   "metadata": {},
   "outputs": [],
   "source": [
    "df.values    #converted DF to array.\n"
   ]
  },
  {
   "cell_type": "code",
   "execution_count": null,
   "metadata": {},
   "outputs": [],
   "source": [
    "symbol_csv=pd.read_csv(\"practise_csv\",sep=\":\")     #here the , is changed to :\n",
    "symbol_csv"
   ]
  },
  {
   "cell_type": "markdown",
   "metadata": {},
   "source": [
    "### Reading mercedes file as csv\n",
    "- the file is in scv form reading it to DataFrame.\n",
    "- converts csv to dataframe.\n",
    "- Syntax--> pd.read_csv(r\"path\")"
   ]
  },
  {
   "cell_type": "code",
   "execution_count": null,
   "metadata": {},
   "outputs": [],
   "source": [
    "df=pd.read_csv(r\"C:\\Users\\Rgarud\\Desktop\\Krish naik\\data\\train.csv\\train.csv\")\n",
    "df"
   ]
  },
  {
   "cell_type": "code",
   "execution_count": null,
   "metadata": {},
   "outputs": [],
   "source": [
    "df.iloc[0:11,0:11]"
   ]
  },
  {
   "cell_type": "code",
   "execution_count": null,
   "metadata": {},
   "outputs": [],
   "source": [
    "df[\"y\"].value_counts()"
   ]
  },
  {
   "cell_type": "code",
   "execution_count": null,
   "metadata": {},
   "outputs": [],
   "source": [
    "df[\"X5\"].isnull().sum()"
   ]
  },
  {
   "cell_type": "code",
   "execution_count": null,
   "metadata": {},
   "outputs": [],
   "source": [
    "df.values     #using values for converting Df to arrav"
   ]
  },
  {
   "cell_type": "code",
   "execution_count": null,
   "metadata": {},
   "outputs": [],
   "source": [
    "df"
   ]
  },
  {
   "cell_type": "code",
   "execution_count": null,
   "metadata": {},
   "outputs": [],
   "source": [
    "df.to_csv(\"mer_to_csv\")    #converting DF to csv"
   ]
  },
  {
   "cell_type": "code",
   "execution_count": null,
   "metadata": {},
   "outputs": [],
   "source": [
    "df"
   ]
  },
  {
   "cell_type": "code",
   "execution_count": null,
   "metadata": {},
   "outputs": [],
   "source": [
    "df.head()    #gives first top 5 rows"
   ]
  },
  {
   "cell_type": "code",
   "execution_count": null,
   "metadata": {},
   "outputs": [],
   "source": [
    "df.info()     #gives info of the table"
   ]
  },
  {
   "cell_type": "code",
   "execution_count": null,
   "metadata": {},
   "outputs": [],
   "source": [
    "df.describe()   #gives mathematical calcluations"
   ]
  },
  {
   "cell_type": "code",
   "execution_count": null,
   "metadata": {},
   "outputs": [],
   "source": [
    "df[\"X0\"].count()   #give total no of records in column X0"
   ]
  },
  {
   "cell_type": "code",
   "execution_count": null,
   "metadata": {},
   "outputs": [],
   "source": [
    "df[\"X0\"].value_counts()    #gives the number of occurance of the elements of specified columns.\n",
    "                            #Basically gives unique category count"
   ]
  },
  {
   "cell_type": "code",
   "execution_count": null,
   "metadata": {},
   "outputs": [],
   "source": [
    "df[df[\"y\"]>10]"
   ]
  },
  {
   "cell_type": "code",
   "execution_count": null,
   "metadata": {},
   "outputs": [],
   "source": [
    "#practise\n",
    "df[df[\"y\"]>10].count()   #gives total no of records"
   ]
  },
  {
   "cell_type": "code",
   "execution_count": null,
   "metadata": {},
   "outputs": [],
   "source": [
    "#practise\n",
    "df[\"y\"].value_counts()"
   ]
  },
  {
   "cell_type": "code",
   "execution_count": null,
   "metadata": {},
   "outputs": [],
   "source": [
    "#practise\n",
    "df.head()"
   ]
  },
  {
   "cell_type": "code",
   "execution_count": null,
   "metadata": {},
   "outputs": [],
   "source": [
    "#practise\n",
    "df.count()"
   ]
  },
  {
   "cell_type": "code",
   "execution_count": null,
   "metadata": {},
   "outputs": [],
   "source": [
    "#practise\n",
    "df[\"y\"].count()"
   ]
  },
  {
   "cell_type": "code",
   "execution_count": null,
   "metadata": {},
   "outputs": [],
   "source": [
    "#practise\n",
    "df[\"y\"].value_counts()"
   ]
  },
  {
   "cell_type": "code",
   "execution_count": null,
   "metadata": {},
   "outputs": [],
   "source": [
    "df.loc[1]"
   ]
  },
  {
   "cell_type": "code",
   "execution_count": null,
   "metadata": {},
   "outputs": [],
   "source": [
    "df.describe()"
   ]
  },
  {
   "cell_type": "code",
   "execution_count": null,
   "metadata": {},
   "outputs": [],
   "source": [
    "df.info()"
   ]
  },
  {
   "cell_type": "code",
   "execution_count": null,
   "metadata": {},
   "outputs": [],
   "source": [
    "df[\"y\"].count()"
   ]
  },
  {
   "cell_type": "code",
   "execution_count": null,
   "metadata": {},
   "outputs": [],
   "source": [
    "df[\"y\"].value_counts()"
   ]
  },
  {
   "cell_type": "code",
   "execution_count": null,
   "metadata": {},
   "outputs": [],
   "source": [
    "df[\"y\"].unique()"
   ]
  },
  {
   "cell_type": "code",
   "execution_count": null,
   "metadata": {},
   "outputs": [],
   "source": [
    "df.iloc[0:10,0:8]"
   ]
  },
  {
   "cell_type": "code",
   "execution_count": null,
   "metadata": {},
   "outputs": [],
   "source": [
    "df[\"y\"].count()  #there are 4209 records or row in column y"
   ]
  },
  {
   "cell_type": "code",
   "execution_count": null,
   "metadata": {},
   "outputs": [],
   "source": [
    "df.loc[5].count()   #count of row 5 ie there are 378 elements or columns in row 5"
   ]
  },
  {
   "cell_type": "markdown",
   "metadata": {},
   "source": [
    "# library io\n",
    "- StringIO - is used to read the csv data which is stored in a variable.\n",
    "- Syntax--> pd.read_csv(StringIO(var_name))"
   ]
  },
  {
   "cell_type": "markdown",
   "metadata": {},
   "source": [
    "#### StringIO\n",
    "- StringIO reads csv which is stored in variable  and returns DataFrame.\n",
    "- SYNTAX--> var=pd.read_csv(StringIO(data),index_col=index_of_column,usecol=[c1,c5,c2,c4.c3])\n",
    "- uscol is used to return the columns from the csv it will follw the csv order to print.\n",
    "- index_col is used to set the column as index of Data frame we can specify any index of column."
   ]
  },
  {
   "cell_type": "code",
   "execution_count": null,
   "metadata": {},
   "outputs": [],
   "source": [
    "from io import StringIO, BytesIO"
   ]
  },
  {
   "cell_type": "code",
   "execution_count": null,
   "metadata": {},
   "outputs": [],
   "source": [
    "d=(\"name,age,Grade\\n\"               #creating type of csv.\n",
    "\"R1,rohit,22,A\\n\"\n",
    "\"R2,rishi,25,B\\n\"\n",
    "\"R3,riddhi,33,C\\n\"\n",
    "\"R4,rohan,44,A\\n\"\n",
    "\"R5,sandeep,11,D\")\n"
   ]
  },
  {
   "cell_type": "code",
   "execution_count": null,
   "metadata": {},
   "outputs": [],
   "source": [
    "type(d)"
   ]
  },
  {
   "cell_type": "code",
   "execution_count": null,
   "metadata": {},
   "outputs": [],
   "source": [
    "dd=pd.read_csv(StringIO(d))   #reading string_csv to dataframe\n",
    "dd"
   ]
  },
  {
   "cell_type": "code",
   "execution_count": null,
   "metadata": {},
   "outputs": [],
   "source": [
    "type(dd)"
   ]
  },
  {
   "cell_type": "code",
   "execution_count": null,
   "metadata": {},
   "outputs": [],
   "source": [
    "dd.to_csv(\"dd_to_csv\")   #this csv will exist in jupyter home"
   ]
  },
  {
   "cell_type": "markdown",
   "metadata": {},
   "source": [
    "##### If we want to show specific columns then we use usecol=[\"c1\",\"c2\"]\n",
    "- usecol is exciplitly use to mentioned the column which to be retrived.\n",
    "- Syntax--> pd.read_csv(StringIO(data),usecol=[colname])"
   ]
  },
  {
   "cell_type": "code",
   "execution_count": null,
   "metadata": {},
   "outputs": [],
   "source": [
    "st=pd.read_csv(StringIO(d),usecols=[\"name\",\"age\"])    #here retriving column=name, age\n",
    "st"
   ]
  },
  {
   "cell_type": "code",
   "execution_count": null,
   "metadata": {},
   "outputs": [],
   "source": [
    "st=pd.read_csv(StringIO(d),usecols=[\"name\"])\n",
    "st"
   ]
  },
  {
   "cell_type": "code",
   "execution_count": null,
   "metadata": {},
   "outputs": [],
   "source": [
    "st.to_csv(\"st_csv\")"
   ]
  },
  {
   "cell_type": "code",
   "execution_count": null,
   "metadata": {},
   "outputs": [],
   "source": [
    "df=pd.read_csv(\"st_csv\")\n",
    "df"
   ]
  },
  {
   "cell_type": "markdown",
   "metadata": {},
   "source": [
    "### Changing the data type of StringIO "
   ]
  },
  {
   "cell_type": "code",
   "execution_count": null,
   "metadata": {},
   "outputs": [],
   "source": [
    "d=(\"name,age,Grade\\n\"               #Manually creating csv.\n",
    "\"R1,rohit,22,A\\n\"\n",
    "\"R2,rishi,25,B\\n\"\n",
    "\"R3,riddhi,33,C\\n\"\n",
    "\"R4,rohan,44,A\\n\"\n",
    "\"R5,sandeep,11,D\")"
   ]
  },
  {
   "cell_type": "code",
   "execution_count": null,
   "metadata": {},
   "outputs": [],
   "source": [
    "df=pd.read_csv(StringIO(d))   #reading this csv as it is stored in variable d using stringIO as there is\n",
    "df                            #no memory location on harddisk of this csv so we used StringIO"
   ]
  },
  {
   "cell_type": "code",
   "execution_count": null,
   "metadata": {},
   "outputs": [],
   "source": [
    "type(df[\"age\"][1])        #here we can see the dtype age is int"
   ]
  },
  {
   "cell_type": "markdown",
   "metadata": {},
   "source": [
    "#### Converting the whole dtype of manually created csv  to object.\n",
    "- object is nothing but string.\n",
    "- any dtype can be converted to object because it is string.\n",
    "- Syntax--> pd.read_csv(StringIO(data),dtype=object)"
   ]
  },
  {
   "cell_type": "code",
   "execution_count": null,
   "metadata": {},
   "outputs": [],
   "source": [
    "ob=pd.read_csv(StringIO(d),dtype=object)       #Now converted the Whole DF to object= string.\n",
    "ob"
   ]
  },
  {
   "cell_type": "code",
   "execution_count": null,
   "metadata": {},
   "outputs": [],
   "source": [
    "ob[\"age\"][1]        #Here we can observe that the int is converted to object."
   ]
  },
  {
   "cell_type": "markdown",
   "metadata": {},
   "source": [
    "#### Converting the whole dtype of manually created csv to float.\n",
    "- float is a integer with decimal.\n",
    "- all the values/elements in row/record should be int/float in order to convert it to float.\n",
    "- Syntax--> pd.read_csv(StringIO(data),dtype=float)"
   ]
  },
  {
   "cell_type": "code",
   "execution_count": null,
   "metadata": {},
   "outputs": [],
   "source": [
    "fl=(\",age,marks\\n\"\n",
    "\"1,25,88\\n\"\n",
    "\"2,22,95\")"
   ]
  },
  {
   "cell_type": "code",
   "execution_count": null,
   "metadata": {},
   "outputs": [],
   "source": [
    "fl=pd.read_csv(StringIO(fl),dtype=float)\n",
    "fl"
   ]
  },
  {
   "cell_type": "markdown",
   "metadata": {},
   "source": [
    "#### Converting manually created csv to int.\n",
    "- int is nothing but integer.\n",
    "- all the values/elements in row/record should be int/float in order to convert it to integer.\n",
    "- Syntax-->pd.read_csv(StringIO(data),dtype=int)"
   ]
  },
  {
   "cell_type": "code",
   "execution_count": null,
   "metadata": {},
   "outputs": [],
   "source": [
    "obj=(\"SR,age,marks\\n\"\n",
    "\"1,25,88\\n\"\n",
    "\"2,22,95\\n\"\n",
    "    \"3,21,79\\n\"\n",
    "    \"4,23,89\")"
   ]
  },
  {
   "cell_type": "code",
   "execution_count": null,
   "metadata": {},
   "outputs": [],
   "source": [
    "o=pd.read_csv(StringIO(obj),dtype=object)     #converting whole csv to object\n",
    "o"
   ]
  },
  {
   "cell_type": "code",
   "execution_count": null,
   "metadata": {},
   "outputs": [],
   "source": [
    "o[\"age\"]   #here the dtype of age is object"
   ]
  },
  {
   "cell_type": "code",
   "execution_count": null,
   "metadata": {},
   "outputs": [],
   "source": [
    "type(o[\"marks\"][3]) "
   ]
  },
  {
   "cell_type": "code",
   "execution_count": null,
   "metadata": {},
   "outputs": [],
   "source": [
    "intt=pd.read_csv(StringIO(obj),dtype=int)   #converted the String to integer\n",
    "intt"
   ]
  },
  {
   "cell_type": "code",
   "execution_count": null,
   "metadata": {},
   "outputs": [],
   "source": [
    "intt[\"age\"]       #here the object is converted to integer"
   ]
  },
  {
   "cell_type": "code",
   "execution_count": null,
   "metadata": {},
   "outputs": [],
   "source": [
    "type(intt[\"marks\"][1])    #here the object is converted to integer"
   ]
  },
  {
   "cell_type": "code",
   "execution_count": null,
   "metadata": {},
   "outputs": [],
   "source": [
    "#practise of converting int to float\n",
    "pd.read_csv(StringIO(obj),dtype=float)"
   ]
  },
  {
   "cell_type": "markdown",
   "metadata": {},
   "source": [
    "#### Changing the dtype of each column of csv\n",
    "- we can change the dtype of each column of inside same csv\n",
    "- we need to mentioned the dtype of column like dictionary inside curly braces in key:pair value ie{c1:object,c2:int} etc\n",
    "- Syntax--> pd.read_csv(StringIO(data),dtype={col1:object,col2=int,col3:float}  depending on combination we need"
   ]
  },
  {
   "cell_type": "code",
   "execution_count": null,
   "metadata": {},
   "outputs": [],
   "source": [
    "q=(\"Sr,name,age,gender,marks\\n\"\n",
    "  \"R1,Rohit,25,Male,89\\n\"\n",
    "  \"R2,lata,51,female,95\\n\"\n",
    "  \"R3,shashikant,53,male,96\\n\"\n",
    "  \"R4,vrushali,28,female,85\")"
   ]
  },
  {
   "cell_type": "code",
   "execution_count": null,
   "metadata": {},
   "outputs": [],
   "source": [
    "re=pd.read_csv(StringIO(q))    #we created the df from csv lets check the dtype of each column\n",
    "re"
   ]
  },
  {
   "cell_type": "code",
   "execution_count": null,
   "metadata": {},
   "outputs": [],
   "source": [
    "re[\"marks\"]       #here the dtype of  column marks is int64"
   ]
  },
  {
   "cell_type": "code",
   "execution_count": null,
   "metadata": {},
   "outputs": [],
   "source": [
    "re[\"age\"]    #here the dtype of column age is int64"
   ]
  },
  {
   "cell_type": "code",
   "execution_count": null,
   "metadata": {},
   "outputs": [],
   "source": [
    "#to check the dtypes of each columns respectively\n",
    "re.dtypes"
   ]
  },
  {
   "cell_type": "code",
   "execution_count": null,
   "metadata": {},
   "outputs": [],
   "source": [
    "import numpy as np\n",
    "import pandas as pd"
   ]
  },
  {
   "cell_type": "code",
   "execution_count": null,
   "metadata": {},
   "outputs": [],
   "source": [
    "#changing the dtype to our need\n",
    "ch=pd.read_csv(StringIO(q),dtype={\"name\":object,\"age\":int,\"marks\":float})\n",
    "ch"
   ]
  },
  {
   "cell_type": "code",
   "execution_count": null,
   "metadata": {},
   "outputs": [],
   "source": [
    "ch[\"age\"]     #here the dtype of age is changed to int32"
   ]
  },
  {
   "cell_type": "code",
   "execution_count": null,
   "metadata": {},
   "outputs": [],
   "source": [
    "ch[\"marks\"]      #here the dtypw of marks is changed to float"
   ]
  },
  {
   "cell_type": "code",
   "execution_count": null,
   "metadata": {},
   "outputs": [],
   "source": [
    "#to check the dtypes of each columns respectively\n",
    "ch.dtypes"
   ]
  },
  {
   "cell_type": "markdown",
   "metadata": {},
   "source": [
    "### To check all the types of every column\n",
    "- It will return the dtype of each column respectively\n",
    "- Syntax---> var.dtypes"
   ]
  },
  {
   "cell_type": "code",
   "execution_count": null,
   "metadata": {},
   "outputs": [],
   "source": [
    "re.dtypes"
   ]
  },
  {
   "cell_type": "code",
   "execution_count": null,
   "metadata": {},
   "outputs": [],
   "source": [
    "ch.dtypes"
   ]
  },
  {
   "cell_type": "markdown",
   "metadata": {},
   "source": [
    "### To make the column1 as the index\n",
    "- we use index_col to make the column as an index of the DF\n",
    "- we use indexing of column to specify the colun to be the index of DF\n",
    "- Syntax-->pd.read_csv(StringIO(data),index_col=0"
   ]
  },
  {
   "cell_type": "code",
   "execution_count": null,
   "metadata": {},
   "outputs": [],
   "source": [
    "indx=pd.read_csv(StringIO(q))     #here we have not specify the index so by default the index ie row names are 0,1,2,3\n",
    "indx"
   ]
  },
  {
   "cell_type": "code",
   "execution_count": null,
   "metadata": {},
   "outputs": [],
   "source": [
    "ind=pd.read_csv(StringIO(q),index_col=0)   #here we had set the index/row as SR,R1,R2,R3,r4\n",
    "ind"
   ]
  },
  {
   "cell_type": "code",
   "execution_count": null,
   "metadata": {},
   "outputs": [],
   "source": [
    "pd.read_csv(StringIO(q),index_col=False,usecols=[\"name\",\"marks\",\"age\",\"gender\"])   #usecols to rearrange columns"
   ]
  },
  {
   "cell_type": "markdown",
   "metadata": {},
   "source": [
    "#### Setting the index to default\n",
    "- setting index to default value ie 0,1,2,3,4 so on \n",
    "- Syntax--> pd.read_csv(StringIO(q),index_col=False)"
   ]
  },
  {
   "cell_type": "code",
   "execution_count": null,
   "metadata": {},
   "outputs": [],
   "source": [
    "r=(\"Sr,name,age,gender,marks\\n\"\n",
    "  \"R1,Rohit,25,Male,89\\n\"\n",
    "  \"R2,lata,51,female,95\\n\"\n",
    "  \"R3,shashikant,53,male,96\\n\"\n",
    "  \"R4,vrushali,28,female,85\")"
   ]
  },
  {
   "cell_type": "code",
   "execution_count": null,
   "metadata": {},
   "outputs": [],
   "source": [
    "#combining the usecol and index_col\n",
    "pd.read_csv(StringIO(r),index_col=False,usecols=[\"Sr\",\"name\",\"marks\",\"age\",\"gender\"])   \n",
    "#index_col=False which will take default index/row values as 0,1,2..5 so on \n",
    "#if the index appears the column which is not supposed to be index then we use index_col= False                                                           "
   ]
  },
  {
   "cell_type": "code",
   "execution_count": null,
   "metadata": {},
   "outputs": [],
   "source": [
    "rd=(\"name,age,gender,marks\\n\"\n",
    "  \"Rohit,25,Male,89\\n\"\n",
    "  \"lata,51,female,95\\n\"\n",
    "  \"shashikant,53,male,96\\n\"\n",
    "  \"vrushali,28,female,85\")"
   ]
  },
  {
   "cell_type": "code",
   "execution_count": null,
   "metadata": {},
   "outputs": [],
   "source": [
    "pd.read_csv(StringIO(rd),index_col=False)   "
   ]
  },
  {
   "cell_type": "code",
   "execution_count": null,
   "metadata": {},
   "outputs": [],
   "source": [
    "#combining usecol and index_col\n",
    "d=pd.read_csv(StringIO(rd),usecols=[\"name\",\"marks\",\"age\"],index_col=False)\n",
    "d    #here thoug the order is name,marks age it will return it according to the csv"
   ]
  },
  {
   "cell_type": "markdown",
   "metadata": {},
   "source": [
    "### Reading url to csv\n",
    "- this file has tab space between two values so we had used sep=\"\\t\"\n",
    "- Syntax--> pd.read_csv(url,sep=\"\\t\")"
   ]
  },
  {
   "cell_type": "code",
   "execution_count": null,
   "metadata": {},
   "outputs": [],
   "source": [
    "df=pd.read_csv(\"https://download.bls.gov/pub/time.series/cu/cu.item\",sep=\"\\t\")\n",
    "df"
   ]
  },
  {
   "cell_type": "code",
   "execution_count": null,
   "metadata": {
    "scrolled": true
   },
   "outputs": [],
   "source": [
    "df.to_csv(\"internet\")\n",
    "df.values"
   ]
  },
  {
   "cell_type": "markdown",
   "metadata": {},
   "source": [
    "### Read json to csv\n",
    "- json stands for java script object notation.\n",
    "- if there is header then set header=0 \n",
    "- if no header than use header=None\n",
    "- header=None will give default header values to column name ie0,1,2,3,....9,10 so on\n",
    "- Syntax--> pd.read_csv(link/path)"
   ]
  },
  {
   "cell_type": "code",
   "execution_count": null,
   "metadata": {},
   "outputs": [],
   "source": [
    "data='{\"name\":\"rohit\",\"age\":25,\"city\":{\"C1\":\"Badlapur\",\"C2\":\"Ambernath\"}}'  #creating json and reading it\n",
    "dg=pd.read_json(data)\n",
    "dg\n"
   ]
  },
  {
   "cell_type": "code",
   "execution_count": null,
   "metadata": {},
   "outputs": [],
   "source": [
    "type(dg)"
   ]
  },
  {
   "cell_type": "code",
   "execution_count": null,
   "metadata": {},
   "outputs": [],
   "source": [
    "dg.to_csv(\"dg\")     #converted to csv"
   ]
  },
  {
   "cell_type": "code",
   "execution_count": null,
   "metadata": {},
   "outputs": [],
   "source": [
    "dg.to_json()       #converted to json"
   ]
  },
  {
   "cell_type": "markdown",
   "metadata": {},
   "source": [
    "#### Reading json file of wine"
   ]
  },
  {
   "cell_type": "code",
   "execution_count": null,
   "metadata": {},
   "outputs": [],
   "source": [
    "#converting Json to csv\n",
    "df=pd.read_csv(r\"C:\\Users\\Rgarud\\Desktop\\Krish naik\\data\\wine.data\",header=None) #path is json file\n",
    "df"
   ]
  },
  {
   "cell_type": "code",
   "execution_count": null,
   "metadata": {},
   "outputs": [],
   "source": [
    "type(df)"
   ]
  },
  {
   "cell_type": "code",
   "execution_count": null,
   "metadata": {},
   "outputs": [],
   "source": [
    "df.to_json()    #creting json from dataframe"
   ]
  },
  {
   "cell_type": "code",
   "execution_count": null,
   "metadata": {},
   "outputs": [],
   "source": [
    "df.to_csv(\"wine\")       #creating csv from dataframe"
   ]
  },
  {
   "cell_type": "code",
   "execution_count": null,
   "metadata": {},
   "outputs": [],
   "source": [
    "dg=pd.read_csv(\"wine\",header=0,index_col=0)         #reading the dataframe\n",
    "dg"
   ]
  },
  {
   "cell_type": "markdown",
   "metadata": {},
   "source": [
    "### Reading html contents"
   ]
  },
  {
   "cell_type": "markdown",
   "metadata": {},
   "source": [
    "#### scraped table from ipl wikipedia"
   ]
  },
  {
   "cell_type": "code",
   "execution_count": null,
   "metadata": {},
   "outputs": [],
   "source": [
    "url=\"https://en.wikipedia.org/wiki/Indian_Premier_League#Performance_in_the_IPL_by_title\"\n",
    "dfs=pd.read_html(url)\n",
    "dfs[2]       #scraped table from ipl wikipedia dfs[2] is seconf table on the wiki page."
   ]
  },
  {
   "cell_type": "markdown",
   "metadata": {},
   "source": [
    "#### scraped table from uefa"
   ]
  },
  {
   "cell_type": "code",
   "execution_count": null,
   "metadata": {},
   "outputs": [],
   "source": [
    "url=\"https://en.wikipedia.org/wiki/UEFA_Champions_League\"\n",
    "dg=pd.read_html(url)\n",
    "dg[1]"
   ]
  },
  {
   "cell_type": "code",
   "execution_count": null,
   "metadata": {},
   "outputs": [],
   "source": [
    "dg[1].isnull().sum()    #here i had found the null values from table"
   ]
  },
  {
   "cell_type": "code",
   "execution_count": null,
   "metadata": {},
   "outputs": [],
   "source": [
    "type(dg)"
   ]
  },
  {
   "cell_type": "code",
   "execution_count": null,
   "metadata": {},
   "outputs": [],
   "source": [
    "dg.to_csv(\"UEFA\")    #converting Data frame to csv"
   ]
  },
  {
   "cell_type": "code",
   "execution_count": null,
   "metadata": {},
   "outputs": [],
   "source": [
    "pd.read_csv(\"UEFA\")   #reading csv file"
   ]
  },
  {
   "cell_type": "markdown",
   "metadata": {},
   "source": [
    "#### scraping table from olymipcs winner"
   ]
  },
  {
   "cell_type": "code",
   "execution_count": null,
   "metadata": {},
   "outputs": [],
   "source": [
    "ol=pd.read_html(\"https://en.wikipedia.org/wiki/Olympic_medal\")\n",
    "ol[2]"
   ]
  },
  {
   "cell_type": "code",
   "execution_count": null,
   "metadata": {},
   "outputs": [],
   "source": [
    "ol[2].dtypes"
   ]
  },
  {
   "cell_type": "markdown",
   "metadata": {},
   "source": [
    "#### ol is list so converting it to dataframe\n",
    "- by converting list to DataFrame we can then convert it to csv"
   ]
  },
  {
   "cell_type": "code",
   "execution_count": null,
   "metadata": {},
   "outputs": [],
   "source": [
    "oldf=pd.DataFrame(ol[2])        # ol was list converted to DataFrame\n",
    "oldf"
   ]
  },
  {
   "cell_type": "code",
   "execution_count": null,
   "metadata": {},
   "outputs": [],
   "source": [
    "type(ol[2])"
   ]
  },
  {
   "cell_type": "code",
   "execution_count": null,
   "metadata": {},
   "outputs": [],
   "source": [
    "oldf.to_csv(\"Olympic\")        #converting DataFrame to csv"
   ]
  },
  {
   "cell_type": "code",
   "execution_count": null,
   "metadata": {},
   "outputs": [],
   "source": [
    "pd.read_csv(\"Olympic\")       #reading the csv Olympic which was created"
   ]
  },
  {
   "cell_type": "code",
   "execution_count": null,
   "metadata": {},
   "outputs": [],
   "source": [
    "pl=pd.read_html(r\"https://en.wikipedia.org/wiki/Big_Bash_League\")\n",
    "pl[2]"
   ]
  },
  {
   "cell_type": "code",
   "execution_count": null,
   "metadata": {},
   "outputs": [],
   "source": [
    "ar=pd.DataFrame(pl[2])\n",
    "ar"
   ]
  },
  {
   "cell_type": "code",
   "execution_count": null,
   "metadata": {},
   "outputs": [],
   "source": [
    "type(ar)"
   ]
  },
  {
   "cell_type": "code",
   "execution_count": null,
   "metadata": {},
   "outputs": [],
   "source": [
    "ar.to_csv(\"Bigbash\")"
   ]
  },
  {
   "cell_type": "code",
   "execution_count": null,
   "metadata": {},
   "outputs": [],
   "source": [
    "pd.read_csv(\"Bigbash\")"
   ]
  },
  {
   "cell_type": "code",
   "execution_count": null,
   "metadata": {},
   "outputs": [],
   "source": [
    "#match attribute matches the column name wrt to table in which the match is present and return the whole table\n",
    "bb=pd.read_html(\"https://en.wikipedia.org/wiki/Big_Bash_League\", match=\"Final venue\")  \n",
    "bb[0]"
   ]
  },
  {
   "cell_type": "code",
   "execution_count": null,
   "metadata": {},
   "outputs": [],
   "source": [
    "#match matches the column name wrt table and if fount match in any table ten returns the wole table\n",
    "bb=pd.read_html(\"https://en.wikipedia.org/wiki/Big_Bash_League\", match=\"2021-22\")  \n",
    "bb[0]"
   ]
  },
  {
   "cell_type": "markdown",
   "metadata": {},
   "source": [
    "### Reading Excel Files"
   ]
  },
  {
   "cell_type": "code",
   "execution_count": null,
   "metadata": {},
   "outputs": [],
   "source": [
    "df_excel=pd.read_excel(r\"C:\\Users\\Rgarud\\Desktop\\Krish naik\\data\\Development Log Book.xlsx\",sheet_name=2)\n",
    "df_excel"
   ]
  },
  {
   "cell_type": "code",
   "execution_count": null,
   "metadata": {},
   "outputs": [],
   "source": [
    "type(df_excel)"
   ]
  },
  {
   "cell_type": "markdown",
   "metadata": {},
   "source": [
    "### Converting Dataframe to pickle\n",
    "**PICKLE**\n",
    "- All pandas objects are equipped with to_pickle methods which use pythons cPickle module to save data structures to disk using the pickle format.\n",
    "- By creating pickle file we can retrive the file even if the kernel gets restarted.\n",
    "- Syntax--> df_var=pd.to_pickle(\"filename to be saved with\")      #to created pickle file\n",
    "- Syntax---> pd.read_pickle(\"file name\")"
   ]
  },
  {
   "cell_type": "code",
   "execution_count": null,
   "metadata": {},
   "outputs": [],
   "source": [
    "df_excel.to_pickle(\"Logpickel\")   #creating Pickle"
   ]
  },
  {
   "cell_type": "code",
   "execution_count": null,
   "metadata": {},
   "outputs": [],
   "source": [
    "pd.read_pickle(\"Logpickel\")      #reading pickle"
   ]
  },
  {
   "cell_type": "code",
   "execution_count": null,
   "metadata": {},
   "outputs": [],
   "source": [
    "df_excel.to_csv(\"logcsv\")"
   ]
  },
  {
   "cell_type": "code",
   "execution_count": null,
   "metadata": {},
   "outputs": [],
   "source": [
    "pd.read_csv(\"logcsv\")"
   ]
  },
  {
   "cell_type": "markdown",
   "metadata": {},
   "source": [
    "# MatplotLib\n",
    "- Matplotlib is a low level graph plotting library in python that serves as a visualization utility and its numerical mathematics extension is NumPy.\n",
    "- It provides an object -oriented API foe embedding plots into application using general-purpose GUI toolkits like Tkinter, wxPython,Qt, or GTK+.\n",
    "\n",
    "**Features of MatplotLib**\n",
    "- Generally easy to get started for simple plots\n",
    "- support for custom labels and texts.\n",
    "- Great control of every element in afigure\n",
    "- High -quality ooutputs in many formats.\n",
    "- Very Customizable in General.\n"
   ]
  },
  {
   "cell_type": "markdown",
   "metadata": {},
   "source": [
    "#### Importing MatplotLib\n",
    "- pyplot is a sub module and plt is an alias to library matplotlib.pyplot\n",
    "- %matplotlib inline is important.\n",
    "- Matplotlib is an extension to Numpy \n",
    "- numPy must be imported with matplotlib"
   ]
  },
  {
   "cell_type": "code",
   "execution_count": null,
   "metadata": {},
   "outputs": [],
   "source": [
    "#Importing Libaries\n",
    "import matplotlib.pyplot as plt\n"
   ]
  },
  {
   "cell_type": "code",
   "execution_count": null,
   "metadata": {},
   "outputs": [],
   "source": [
    "%matplotlib inline\n"
   ]
  },
  {
   "cell_type": "code",
   "execution_count": null,
   "metadata": {},
   "outputs": [],
   "source": [
    "import numpy as np"
   ]
  },
  {
   "cell_type": "markdown",
   "metadata": {},
   "source": [
    "### Plotting the x and y array on x and y axis respectively by using plt.scatter()\n",
    "- The scatter() function plots one dot for each observation.\n",
    "- It needs two arrays of the same length, one for the values of the x-axis, and one for values on the y-axis:\n",
    "- plt.scatter is used to scatter the values of x and y in 2D Graph. \n",
    "- Syntax-->plt.scatter(x,y,c=\"r\")   c= is colur "
   ]
  },
  {
   "cell_type": "code",
   "execution_count": null,
   "metadata": {},
   "outputs": [],
   "source": [
    "#Simple Example of matplot\n",
    "x=np.arange(1,6)        #elements or values in X and Y arraay should be of same size.\n",
    "y=np.arange(10,15)"
   ]
  },
  {
   "cell_type": "code",
   "execution_count": null,
   "metadata": {},
   "outputs": [],
   "source": [
    "from matplotlib import pyplot as plt"
   ]
  },
  {
   "cell_type": "code",
   "execution_count": null,
   "metadata": {},
   "outputs": [],
   "source": [
    "#plt.scatter is used to plot the array ie x and y\n",
    "plt.scatter(x,y,c=\"r\")\n",
    "plt.xlable(\"xaxis\")\n",
    "F"
   ]
  },
  {
   "cell_type": "markdown",
   "metadata": {},
   "source": []
  },
  {
   "cell_type": "code",
   "execution_count": 4,
   "metadata": {},
   "outputs": [
    {
     "name": "stdout",
     "output_type": "stream",
     "text": [
      "<class 'str'> A\n"
     ]
    }
   ],
   "source": []
  },
  {
   "cell_type": "markdown",
   "metadata": {},
   "source": []
  },
  {
   "cell_type": "code",
   "execution_count": 5,
   "metadata": {},
   "outputs": [
    {
     "name": "stdout",
     "output_type": "stream",
     "text": [
      "<class 'int'> 65\n"
     ]
    }
   ],
   "source": []
  },
  {
   "cell_type": "code",
   "execution_count": null,
   "metadata": {},
   "outputs": [],
   "source": []
  }
 ],
 "metadata": {
  "kernelspec": {
   "display_name": "Python 3",
   "language": "python",
   "name": "python3"
  },
  "language_info": {
   "codemirror_mode": {
    "name": "ipython",
    "version": 3
   },
   "file_extension": ".py",
   "mimetype": "text/x-python",
   "name": "python",
   "nbconvert_exporter": "python",
   "pygments_lexer": "ipython3",
   "version": "3.8.3"
  }
 },
 "nbformat": 4,
 "nbformat_minor": 4
}
