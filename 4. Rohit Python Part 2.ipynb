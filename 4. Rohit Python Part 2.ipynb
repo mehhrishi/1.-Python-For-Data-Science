{
 "cells": [
  {
   "cell_type": "markdown",
   "metadata": {},
   "source": [
    "#### Diff types of Printing ways "
   ]
  },
  {
   "cell_type": "code",
   "execution_count": 1,
   "metadata": {},
   "outputs": [
    {
     "name": "stdout",
     "output_type": "stream",
     "text": [
      "Hello World\n"
     ]
    }
   ],
   "source": [
    "print(\"Hello World\")"
   ]
  },
  {
   "cell_type": "code",
   "execution_count": 2,
   "metadata": {},
   "outputs": [
    {
     "name": "stdout",
     "output_type": "stream",
     "text": [
      "welcome to My World\n"
     ]
    }
   ],
   "source": [
    "print(f\"welcome to My World\")"
   ]
  },
  {
   "cell_type": "code",
   "execution_count": 4,
   "metadata": {},
   "outputs": [
    {
     "name": "stdout",
     "output_type": "stream",
     "text": [
      "welcome to  my World\n"
     ]
    }
   ],
   "source": [
    "print(f\"{'welcome to  my World'}\")"
   ]
  },
  {
   "cell_type": "code",
   "execution_count": 6,
   "metadata": {},
   "outputs": [
    {
     "name": "stdout",
     "output_type": "stream",
     "text": [
      "Hello Motto\n"
     ]
    }
   ],
   "source": [
    "print(\"{} {}\".format(\"Hello\",\"Motto\"))"
   ]
  },
  {
   "cell_type": "code",
   "execution_count": 13,
   "metadata": {},
   "outputs": [
    {
     "ename": "SyntaxError",
     "evalue": "unexpected EOF while parsing (<ipython-input-13-c5a5c33a2d08>, line 6)",
     "output_type": "error",
     "traceback": [
      "\u001b[1;36m  File \u001b[1;32m\"<ipython-input-13-c5a5c33a2d08>\"\u001b[1;36m, line \u001b[1;32m6\u001b[0m\n\u001b[1;33m    print(f\"addition of {x} and {y} is {x+y}\".format(x=20,y=20)\u001b[0m\n\u001b[1;37m                                                               ^\u001b[0m\n\u001b[1;31mSyntaxError\u001b[0m\u001b[1;31m:\u001b[0m unexpected EOF while parsing\n"
     ]
    }
   ],
   "source": [
    "a=10\n",
    "b=20\n",
    "print(\"addition of a+b: \",a+b)\n",
    "print(f\"addition of {a} & {b} is {a+b}\")\n",
    "print(\"addition of {}+{}={}\".format(a,b,a+b))\n",
    "print(f\"addition of {x} and {y} is {x+y}\".format(x=20,y=20)"
   ]
  },
  {
   "cell_type": "markdown",
   "metadata": {},
   "source": [
    "#### Type and Length Of the Data "
   ]
  },
  {
   "cell_type": "code",
   "execution_count": 14,
   "metadata": {},
   "outputs": [
    {
     "name": "stdout",
     "output_type": "stream",
     "text": [
      "<class 'str'>\n",
      "6\n"
     ]
    }
   ],
   "source": [
    "a=\"Hrishi\"\n",
    "print(type(a))\n",
    "print(len(a))"
   ]
  },
  {
   "cell_type": "code",
   "execution_count": 16,
   "metadata": {},
   "outputs": [
    {
     "name": "stdout",
     "output_type": "stream",
     "text": [
      "<class 'int'>\n"
     ]
    },
    {
     "ename": "TypeError",
     "evalue": "object of type 'int' has no len()",
     "output_type": "error",
     "traceback": [
      "\u001b[1;31m---------------------------------------------------------------------------\u001b[0m",
      "\u001b[1;31mTypeError\u001b[0m                                 Traceback (most recent call last)",
      "\u001b[1;32m<ipython-input-16-e44c1ef75c68>\u001b[0m in \u001b[0;36m<module>\u001b[1;34m\u001b[0m\n\u001b[0;32m      1\u001b[0m \u001b[0mb\u001b[0m\u001b[1;33m=\u001b[0m\u001b[1;36m10\u001b[0m\u001b[1;33m\u001b[0m\u001b[1;33m\u001b[0m\u001b[0m\n\u001b[0;32m      2\u001b[0m \u001b[0mprint\u001b[0m\u001b[1;33m(\u001b[0m\u001b[0mtype\u001b[0m\u001b[1;33m(\u001b[0m\u001b[0mb\u001b[0m\u001b[1;33m)\u001b[0m\u001b[1;33m)\u001b[0m\u001b[1;33m\u001b[0m\u001b[1;33m\u001b[0m\u001b[0m\n\u001b[1;32m----> 3\u001b[1;33m \u001b[0mprint\u001b[0m\u001b[1;33m(\u001b[0m\u001b[0mlen\u001b[0m\u001b[1;33m(\u001b[0m\u001b[0mb\u001b[0m\u001b[1;33m)\u001b[0m\u001b[1;33m)\u001b[0m\u001b[1;33m\u001b[0m\u001b[1;33m\u001b[0m\u001b[0m\n\u001b[0m",
      "\u001b[1;31mTypeError\u001b[0m: object of type 'int' has no len()"
     ]
    }
   ],
   "source": [
    "b=10\n",
    "print(type(b))\n",
    "print(len(b))"
   ]
  },
  {
   "cell_type": "code",
   "execution_count": 17,
   "metadata": {},
   "outputs": [
    {
     "name": "stdout",
     "output_type": "stream",
     "text": [
      "<class 'float'>\n"
     ]
    }
   ],
   "source": [
    "c=10.2\n",
    "print(type(c))"
   ]
  },
  {
   "cell_type": "code",
   "execution_count": 19,
   "metadata": {},
   "outputs": [
    {
     "name": "stdout",
     "output_type": "stream",
     "text": [
      "<class 'tuple'>\n",
      "5\n"
     ]
    }
   ],
   "source": [
    "d=1,2,3,4,\"rohit\"\n",
    "print(type(d))\n",
    "print(len(d))"
   ]
  },
  {
   "cell_type": "code",
   "execution_count": 20,
   "metadata": {},
   "outputs": [
    {
     "name": "stdout",
     "output_type": "stream",
     "text": [
      "<class 'tuple'>\n",
      "5\n"
     ]
    }
   ],
   "source": [
    "e=(1,2,3,4,\"rohit\")\n",
    "print(type(e))\n",
    "print(len(e))"
   ]
  },
  {
   "cell_type": "code",
   "execution_count": 21,
   "metadata": {},
   "outputs": [
    {
     "name": "stdout",
     "output_type": "stream",
     "text": [
      "<class 'list'>\n",
      "6\n"
     ]
    }
   ],
   "source": [
    "e=[5,'rohit',6,\"$\",7,6]\n",
    "print(type(e))\n",
    "print(len(e))"
   ]
  },
  {
   "cell_type": "code",
   "execution_count": 22,
   "metadata": {},
   "outputs": [
    {
     "ename": "SyntaxError",
     "evalue": "invalid syntax (<ipython-input-22-5bfc587d18d2>, line 1)",
     "output_type": "error",
     "traceback": [
      "\u001b[1;36m  File \u001b[1;32m\"<ipython-input-22-5bfc587d18d2>\"\u001b[1;36m, line \u001b[1;32m1\u001b[0m\n\u001b[1;33m    e=[5,'rohit',6,$,7,6]\u001b[0m\n\u001b[1;37m                   ^\u001b[0m\n\u001b[1;31mSyntaxError\u001b[0m\u001b[1;31m:\u001b[0m invalid syntax\n"
     ]
    }
   ],
   "source": [
    "e=[5,'rohit',6,$,7,6]\n",
    "print(type(e))\n",
    "print(len(e))"
   ]
  },
  {
   "cell_type": "code",
   "execution_count": 24,
   "metadata": {},
   "outputs": [
    {
     "name": "stdout",
     "output_type": "stream",
     "text": [
      "{1, 2, 3, 5, 9, 14}\n",
      "<class 'set'>\n",
      "6\n"
     ]
    }
   ],
   "source": [
    "f={1,2,5,3,2,14,1,5,9}\n",
    "print(f)\n",
    "print(type(f))\n",
    "print(len(f))"
   ]
  },
  {
   "cell_type": "code",
   "execution_count": 25,
   "metadata": {
    "scrolled": false
   },
   "outputs": [
    {
     "name": "stdout",
     "output_type": "stream",
     "text": [
      "<class 'tuple'>\n",
      "1\n"
     ]
    }
   ],
   "source": [
    "g=1,\n",
    "print(type(g))\n",
    "print(len(g))"
   ]
  },
  {
   "cell_type": "code",
   "execution_count": 27,
   "metadata": {
    "scrolled": false
   },
   "outputs": [
    {
     "name": "stdout",
     "output_type": "stream",
     "text": [
      "<class 'dict'>\n",
      "4\n"
     ]
    }
   ],
   "source": [
    "h={\"name\":\"rohit\",1:2,1.5:3,\"age\":25}\n",
    "print(type(h))\n",
    "print(len(h))"
   ]
  },
  {
   "cell_type": "code",
   "execution_count": 9,
   "metadata": {},
   "outputs": [
    {
     "name": "stdout",
     "output_type": "stream",
     "text": [
      "enter your age: 12\n",
      "enter your nationality: pak\n",
      "Age Should be Greater Than 18 or equal to it\n"
     ]
    }
   ],
   "source": [
    "age=float(input(\"enter your age: \"))\n",
    "nationality=input(\"enter your nationality: \")\n",
    "if age>=18:\n",
    "    if nationality==\"indian\" or nationality==\"Indian\":\n",
    "        print(\"eligible for voting\")\n",
    "    else:\n",
    "        print(\"Not allowed for NRI\")\n",
    "else:\n",
    "    print(\"Age Should be Greater Than 18 or equal to it\")"
   ]
  },
  {
   "cell_type": "code",
   "execution_count": 12,
   "metadata": {},
   "outputs": [
    {
     "name": "stdout",
     "output_type": "stream",
     "text": [
      "enter Your Percentage: 32\n",
      "Your Are Fail\n"
     ]
    }
   ],
   "source": [
    "per=eval(input(\"enter Your Percentage: \"))\n",
    "if per>=80 and per<=100:\n",
    "    print(\"Grade O\")\n",
    "elif per>=60 and per<=80:\n",
    "    print(\"Grade A\")\n",
    "elif per>=40 and per<=60:\n",
    "    print(\"Grade B\")\n",
    "elif per>=35 and per<=40:\n",
    "    print(\"Grade C\")\n",
    "else:\n",
    "    print(\"Your Are Fail\")"
   ]
  },
  {
   "cell_type": "markdown",
   "metadata": {},
   "source": [
    "#### Special operator\n",
    "- special operator consists of identity and membership operator\n",
    "- identity operator has is , is not\n",
    "- membership operator has in , not in"
   ]
  },
  {
   "cell_type": "markdown",
   "metadata": {},
   "source": [
    "#### Identity operator is, is not\n",
    "- identity operator checks as per the memory location value\n",
    "- it only supports variable, does not support sequential object"
   ]
  },
  {
   "cell_type": "code",
   "execution_count": 13,
   "metadata": {},
   "outputs": [
    {
     "name": "stdout",
     "output_type": "stream",
     "text": [
      "True\n",
      "True\n",
      "2319571580400\n",
      "2319571580400 \n",
      "\n",
      "False\n",
      "2319571580400\n",
      "2319481174448 \n",
      "\n",
      "False\n",
      "2319571791264\n",
      "2319571791744 \n",
      "\n",
      "True\n",
      "140704222033696\n",
      "140704222033696\n"
     ]
    }
   ],
   "source": [
    "o=\"rohit\"\n",
    "m=\"rohit\"\n",
    "print(o is m)\n",
    "print(m is o)\n",
    "print(id(m)) \n",
    "print(id(m),\"\\n\")\n",
    "\n",
    "j=\"rohit\"\n",
    "g=\"r\"\n",
    "print(g is j)\n",
    "print(id(j))\n",
    "print(id(g),\"\\n\")\n",
    "\n",
    "p=\"rohit Shashikant garud\"\n",
    "l=\"rohit Shashikant garud\"  #Does not Suppport string  with spaces\n",
    "print(p is l)\n",
    "print(id(p))\n",
    "print(id (l),\"\\n\")\n",
    "\n",
    "i=1\n",
    "k=1\n",
    "print(i is k)\n",
    "print(id (i))\n",
    "print(id(k))"
   ]
  },
  {
   "cell_type": "markdown",
   "metadata": {},
   "source": [
    "#### membership operator \n",
    "- membership operator check where the number or string is present in the sequence\n",
    "- membership operator supports list, dictionary, tuples,sets"
   ]
  },
  {
   "cell_type": "code",
   "execution_count": 16,
   "metadata": {},
   "outputs": [
    {
     "name": "stdout",
     "output_type": "stream",
     "text": [
      "L in p:  True \n",
      "\n",
      "K in p:  True \n",
      "\n",
      "I in P:  False \n",
      "\n",
      "E in I:  True\n"
     ]
    }
   ],
   "source": [
    "p=[1,2,\"rohit\",\"garud\",1,2]\n",
    "l=\"rohit\" \n",
    "print(\"L in p: \",l in p,\"\\n\")\n",
    "\n",
    "k=\"garud\"\n",
    "print(\"K in p: \",k in p,\"\\n\")\n",
    "\n",
    "i=\"shashikant\"\n",
    "print(\"I in P: \",i in p,\"\\n\")\n",
    "\n",
    "e=\"s\"\n",
    "print(\"E in I: \",e in i)"
   ]
  },
  {
   "cell_type": "code",
   "execution_count": 17,
   "metadata": {},
   "outputs": [
    {
     "name": "stdout",
     "output_type": "stream",
     "text": [
      "i in lst:  True \n",
      "\n",
      "j in lst:  False \n",
      "\n",
      "h in lst:  True \n",
      "\n"
     ]
    }
   ],
   "source": [
    "lst=[1,2,3,\"Rohit\",\"Garud\"]\n",
    "i=1\n",
    "print(\"i in lst: \",i in lst,\"\\n\")\n",
    "\n",
    "j=\"R\"\n",
    "print(\"j in lst: \",j in lst,\"\\n\")\n",
    "\n",
    "h=\"Rohit\"\n",
    "print(\"h in lst: \",h in lst,\"\\n\")"
   ]
  },
  {
   "cell_type": "code",
   "execution_count": 20,
   "metadata": {},
   "outputs": [
    {
     "name": "stdout",
     "output_type": "stream",
     "text": [
      "P in tpl:  True \n",
      "\n",
      "S in tpl:  True \n",
      "\n",
      "a in tpl:  False \n",
      "\n"
     ]
    }
   ],
   "source": [
    "tpl=(1,2,3,\"Rohit\")\n",
    "p=\"Rohit\"\n",
    "print(\"P in tpl: \",p in tpl,\"\\n\")\n",
    "\n",
    "s=1\n",
    "print(\"S in tpl: \",s in tpl,\"\\n\")\n",
    "\n",
    "a=1.2\n",
    "print(\"a in tpl: \",a in tpl,\"\\n\")"
   ]
  },
  {
   "cell_type": "code",
   "execution_count": 21,
   "metadata": {},
   "outputs": [
    {
     "name": "stdout",
     "output_type": "stream",
     "text": [
      "{'name': 'riddhi', 1: 2, 'age': 25}\n",
      "p in dct:  True \n",
      "\n",
      "l in dct:  False \n",
      "\n",
      "m in dct:  False \n",
      "\n",
      "i in dct:  True\n"
     ]
    }
   ],
   "source": [
    "#only key can be searched in identity operator\n",
    "dct={\"name\":\"rohit\",1:2,\"age\":25,\"name\":\"riddhi\"}\n",
    "print(dct)\n",
    "p=\"name\"\n",
    "print(\"p in dct: \",p in dct,\"\\n\")\n",
    "\n",
    "l=\"rohit\"\n",
    "print(\"l in dct: \", l in dct,\"\\n\")\n",
    "\n",
    "m=2\n",
    "print(\"m in dct: \",m in dct,\"\\n\")\n",
    "\n",
    "i=1\n",
    "print(\"i in dct: \",i in dct)"
   ]
  },
  {
   "cell_type": "markdown",
   "metadata": {},
   "source": [
    "#### Data type:\n",
    "- string = collection of character is called as string. Indexing, slicing allowded.  Strings are Immutable, ordered\n",
    "- numbers=  can be integer 10, float 10.5, complex 10j.  Immutable\n",
    "- tuple- Tuples are enclosed in round bracket. Tuples are hetrogenous ie (int,float,string). Empty tuple () just round bracket. Single element in tuple (1,) value followed by comma. Indexing, Slicing allowded. Ordered,Immutable.\n",
    "- list- list are enclosed in [] square bracket. Can store Hetrogenous data. Indexing, Slicing, allowded. Muttable,ordered. Empty list[] just square brackets.\n",
    "- dictionary- Follows keys and value pattern. Dictionary are enclosed in {} curly braces. Data is hetrogenous. Key should be unique and values can be repeated. Ordered, muttable. Indexing  and slicing not allowded. but indexing can be done by converting it to list and doing indexing.\n",
    "- set- set are enclosed in {}curly braces. Sets does not allows duplicate values. Sets are unordered,immutable.indexing and slicing not allowded."
   ]
  },
  {
   "cell_type": "markdown",
   "metadata": {},
   "source": [
    "####  1)String\n",
    "- String is  a collection of character.\n",
    "- Single line String are enclosed in \"\",'' Single/ Double quote.\n",
    "- Multiple line string are enclosed on \"\"\" \"\"\",''' ''' Single/ double triple quote\n",
    "- String are immutable,ordered. \n",
    "- Indexing and slicing are allowded."
   ]
  },
  {
   "cell_type": "code",
   "execution_count": 23,
   "metadata": {},
   "outputs": [
    {
     "name": "stdout",
     "output_type": "stream",
     "text": [
      "** Indexing and slicing\n",
      "rohit\n",
      "Indexing a[1]: o\n",
      "Indexing a[-1]: t\n",
      "Slicing a[2:-1]: hit\n",
      "Slicing a[::-1]:  tihor\n",
      "Slicing a[-1::-1]:  tihor \n",
      "\n",
      "** Concatenation\n",
      "1) rohitgarud\n",
      "My name is Rohit Garud and age is 25\n",
      "My name is Rohit Garud and roll 433 and age is 25 \n",
      "\n",
      "2) My name is rohit 10 \n",
      "\n",
      "**Length\n",
      "5 \n",
      "\n",
      "**Data Type\n",
      "<class 'int'>\n"
     ]
    }
   ],
   "source": [
    "#Indexing and slicing\n",
    "print(\"** Indexing and slicing\")\n",
    "a=\"rohit\"\n",
    "print(a)\n",
    "print(\"Indexing a[1]:\",a[1])\n",
    "print(\"Indexing a[-1]:\",a[-1])\n",
    "print(\"Slicing a[2:-1]:\",a[2:])\n",
    "print(\"Slicing a[::-1]: \",a[::-1])      #reverse of String  #a[start:end-1:step]\n",
    "print(\"Slicing a[-1::-1]: \",a[-1::-1],\"\\n\")   #reverse of string\n",
    "\n",
    "\n",
    "#concatenation\n",
    "print(\"** Concatenation\")\n",
    "a=\"rohit\"\n",
    "b=\"garud\"\n",
    "print(\"1)\",a+b)\n",
    "\n",
    "#string along with integer using .format\n",
    "age=25\n",
    "name=\"Rohit Garud\"\n",
    "roll=433\n",
    "a=\"My name is {} and roll {} and age is {}\".format(name,roll,age)\n",
    "print(f\"My name is {name} and age is {age}\")\n",
    "print(a,\"\\n\")\n",
    "\n",
    "\n",
    "\n",
    "#string along with integer using .format\n",
    "a=10\n",
    "b=\"rohit\"\n",
    "print(\"2) My name is {} {}\".format(b,a),\"\\n\")\n",
    "\n",
    "\n",
    "#length \n",
    "print(\"**Length\")\n",
    "# print(len(a))\n",
    "print(len(b),\"\\n\")\n",
    "\n",
    "#type\n",
    "print(\"**Data Type\")\n",
    "print(type(a))"
   ]
  },
  {
   "cell_type": "code",
   "execution_count": 24,
   "metadata": {},
   "outputs": [
    {
     "name": "stdout",
     "output_type": "stream",
     "text": [
      "l in p: True \n",
      "\n",
      "t in p True \n",
      "\n",
      "m in p: True \n",
      "\n",
      "n in p:  False \n",
      "\n"
     ]
    }
   ],
   "source": [
    "#Using membership operator in string\n",
    "p=\"rohit Shashikant\"\n",
    "l=\"r\"\n",
    "print(\"l in p:\",l in p,\"\\n\")\n",
    "\n",
    "t=\"rohit\"\n",
    "print(\"t in p:\",t in p,\"\\n\")\n",
    "\n",
    "m=\"hit\"\n",
    "print(\"m in p:\",m in p,\"\\n\")\n",
    "\n",
    "n=\"ht\"\n",
    "print(\"n in p: \",n in p,\"\\n\")"
   ]
  },
  {
   "cell_type": "markdown",
   "metadata": {},
   "source": [
    "#### Type Specific methods in string\n",
    "- 1)find()    =find the first occurance of the element/item\n",
    "- 2)replace() = replace the existing character/ word  with new word\n",
    "- 3)count()   = count gives the total recurrence of the element\n",
    "- 4)max()     =give the max alphabet from the string\n",
    "- 5)min()     =min gives the min alphabet from the string. min does not works on the string which has spaces in between words\n",
    "- 6)lower()   =converts whole string to lower case.\n",
    "- 7)upper()   =converts whole string to upper case.\n",
    "- 8)isalnum() =check whether string contains alphabet as well as numbers. gives result in boolean"
   ]
  },
  {
   "cell_type": "code",
   "execution_count": 25,
   "metadata": {},
   "outputs": [
    {
     "name": "stdout",
     "output_type": "stream",
     "text": [
      "2\n",
      "10\n",
      "2\n",
      "Sonu Shashikant Garud\n",
      "Rohit Sh@shik@nt Garud\n",
      "3\n",
      "1\n",
      "2\n",
      "rohit shashikant garud\n",
      "ROHIT SHASHIKANT GARUD\n",
      "u\n",
      "G\n",
      "True\n",
      "True\n",
      "my name is rohit Shashikant and age is 25\n",
      "My Name is rohit Shashikant and age is 25 and roll no is 433\n"
     ]
    }
   ],
   "source": [
    "n=\"Rohit Shashikant Garud\"\n",
    "print(n.find(\"h\"))\n",
    "print(n.rfind(\"h\"))\n",
    "print(n.find(n[7]))\n",
    "print(n.replace(\"Rohit\",\"Sonu\"))\n",
    "print(n.replace(\"a\",\"@\",2))  #it will only change first 2 a with @\n",
    "print(n.count(\"h\"))\n",
    "print(n.count(\"Rohit\"))\n",
    "print(n.count(\" \"))\n",
    "print(n.lower())\n",
    "print(n.upper())\n",
    "print(max(n))\n",
    "\n",
    "n=\"RohitShashikantGarud\"\n",
    "print(min(n))\n",
    "print(n.isalnum()) #isalnum,isalpha,min only works with without spaces\n",
    "print(n.isalpha())\n",
    "age=25\n",
    "print(\"my name is {} and age is {}\".format(p,age))\n",
    "roll=433\n",
    "print(\"My Name is {} and age is {} and roll no is {}\".format(p,age,roll))\n"
   ]
  },
  {
   "cell_type": "markdown",
   "metadata": {},
   "source": [
    "#### 2)Numbers\n",
    "- numbers can be integer 10\n",
    "- numbers can be float 10.5\n",
    "- number can be complex 10j real+imajinary"
   ]
  },
  {
   "cell_type": "code",
   "execution_count": 26,
   "metadata": {},
   "outputs": [
    {
     "name": "stdout",
     "output_type": "stream",
     "text": [
      "<class 'int'>\n",
      "<class 'float'>\n",
      "<class 'complex'>\n",
      "<class 'complex'>\n",
      "<class 'complex'>\n"
     ]
    }
   ],
   "source": [
    "a=10\n",
    "b=10.5\n",
    "c=10j\n",
    "d=10.5j\n",
    "e=10+10.5j\n",
    "print(type(a))\n",
    "print(type(b))\n",
    "print(type(c))\n",
    "print(type(d))\n",
    "print(type(e))"
   ]
  },
  {
   "cell_type": "markdown",
   "metadata": {},
   "source": [
    "#### Numbers with identity operator\n",
    "- identity operator only works with integer.\n",
    "- identity operator does not works with Decimal,complex"
   ]
  },
  {
   "cell_type": "code",
   "execution_count": 28,
   "metadata": {},
   "outputs": [
    {
     "name": "stdout",
     "output_type": "stream",
     "text": [
      "**Integer/Whole Number\n",
      "a is b:  True \n",
      "\n",
      "f is u:  True \n",
      "\n",
      "c is f:  False \n",
      "\n",
      "**Decimal/float number\n",
      "2319577417520\n",
      "2319577415920\n",
      "d is h:  False \n",
      "\n",
      "**Complex Number\n",
      "False\n"
     ]
    }
   ],
   "source": [
    "print(\"**Integer/Whole Number\")\n",
    "a=10\n",
    "b=10\n",
    "print(\"a is b: \",a is b,\"\\n\")\n",
    "\n",
    "f=\"rohit\"\n",
    "u=\"rohit\"\n",
    "print(\"f is u: \",f is u,\"\\n\")\n",
    "\n",
    "c=\"Rohit\"\n",
    "print(\"c is f: \",c is f,\"\\n\")\n",
    "\n",
    "print(\"**Decimal/float number\")\n",
    "d=10.5    #identity does not works with float/decimal numbers,complex numbers\n",
    "h=10.5\n",
    "print(id(d))\n",
    "print(id(h))\n",
    "print(\"d is h: \",h is d,\"\\n\")\n",
    "\n",
    "print(\"**Complex Number\")\n",
    "r=1j\n",
    "t=1j\n",
    "print(r is t)     #identity does not works with Complex number"
   ]
  },
  {
   "cell_type": "markdown",
   "metadata": {},
   "source": [
    "#### 3)Tuples\n",
    "- Tuples are enclosed in round brackets ().\n",
    "- can hold heterogenous data inside tuple\n",
    "- Empty tuple () just round bracket.\n",
    "- Tuple with single element a=(1,)  or a=1,\n",
    "- tuples are ordered,immutable.\n",
    "- indexing and slicing is allowded.\n",
    "- duplicate values/items are allowded in tuples.\n",
    "- using indexing elements inside the tuple cant be changed but whole tuple can be changed\n"
   ]
  },
  {
   "cell_type": "code",
   "execution_count": 29,
   "metadata": {},
   "outputs": [
    {
     "name": "stdout",
     "output_type": "stream",
     "text": [
      "1\n",
      "(1, 2, 3)\n",
      "(44, 55, 66)\n"
     ]
    }
   ],
   "source": [
    "#- using indexing elements inside the tuple cant be changed but whole tuple can be changed\n",
    "t=(1,2,3)\n",
    "print(t[0])\n",
    "# t[0]=\"111\"  #here it will throw error tuple' object does not support item assignmen\n",
    "print(t)\n",
    "\n",
    "#but complete tuple can be changed\n",
    "t=(44,55,66)\n",
    "print(t)"
   ]
  },
  {
   "cell_type": "code",
   "execution_count": null,
   "metadata": {},
   "outputs": [],
   "source": [
    "#Indexing and Slicing\n",
    "tup=(1,2,3,1,\"Rohit\",\"Rohit\")\n",
    "print(\"**Indexing and Slicing\")\n",
    "print(\"Indexing tup[0]:       \",tup[0])\n",
    "print(\"Indexing tup[-1]:      \",tup[-1])\n",
    "print(\"Indexing tup[3]:       \",tup[3])\n",
    "print(\"Slicing tup[0:3]:      \",tup[0:3])\n",
    "print(\"Slicing tup[::-1]:     \",tup[::-1]) #reverse of tuple\n",
    "print(\"Slicing tup[-1::-1]:   \",tup[-1::-1],\"\\n\",\"\\n\")  #reverse of tuple\n",
    "\n",
    "\n",
    "#Concatenation\n",
    "print(\"**Concatenation\")\n",
    "tup=(1,2,3,1,\"Rohit\")\n",
    "t=(11,12,13)\n",
    "o=(\"Shashikant\",\"Garud\")\n",
    "print(tup+t)\n",
    "print(tup+o,\"\\n\",\"\\n\")\n",
    "\n",
    "\n",
    "#Repetation\n",
    "print(\"**Repetation\")\n",
    "print(t*2)\n",
    "print(tup*2,\"\\n\",\"\\n\")\n",
    "\n",
    "\n",
    "#Length ot tuple\n",
    "print(\"**Length of Tuple\")\n",
    "print(len(t))tt\n",
    "print(len(tup),\"\\n\")\n",
    "\n",
    "#data type\n",
    "print(\"**Data Type\")\n",
    "print(type(t))\n",
    "print(type(tup))"
   ]
  }
 ],
 "metadata": {
  "kernelspec": {
   "display_name": "Python 3",
   "language": "python",
   "name": "python3"
  },
  "language_info": {
   "codemirror_mode": {
    "name": "ipython",
    "version": 3
   },
   "file_extension": ".py",
   "mimetype": "text/x-python",
   "name": "python",
   "nbconvert_exporter": "python",
   "pygments_lexer": "ipython3",
   "version": "3.8.3"
  }
 },
 "nbformat": 4,
 "nbformat_minor": 4
}
